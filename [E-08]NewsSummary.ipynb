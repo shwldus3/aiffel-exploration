{
 "cells": [
  {
   "cell_type": "markdown",
   "id": "03082e7f",
   "metadata": {},
   "source": [
    "# 프로젝트 : 뉴스기사 요약해보기"
   ]
  },
  {
   "cell_type": "code",
   "execution_count": 1,
   "id": "09e7e794",
   "metadata": {},
   "outputs": [
    {
     "name": "stderr",
     "output_type": "stream",
     "text": [
      "[nltk_data] Downloading package stopwords to /aiffel/nltk_data...\n",
      "[nltk_data]   Unzipping corpora/stopwords.zip.\n"
     ]
    },
    {
     "name": "stdout",
     "output_type": "stream",
     "text": [
      "=3\n"
     ]
    }
   ],
   "source": [
    "import nltk\n",
    "nltk.download('stopwords')\n",
    "\n",
    "import numpy as np\n",
    "import pandas as pd\n",
    "import os\n",
    "import re\n",
    "import matplotlib.pyplot as plt\n",
    "from nltk.corpus import stopwords\n",
    "from bs4 import BeautifulSoup \n",
    "from tensorflow.keras.preprocessing.text import Tokenizer \n",
    "from tensorflow.keras.preprocessing.sequence import pad_sequences\n",
    "import urllib.request\n",
    "import warnings\n",
    "warnings.filterwarnings(\"ignore\", category=UserWarning, module='bs4')\n",
    "\n",
    "print('=3')"
   ]
  },
  {
   "cell_type": "markdown",
   "id": "4ecebd8c",
   "metadata": {},
   "source": [
    "# 1. 데이터 수집하기"
   ]
  },
  {
   "cell_type": "code",
   "execution_count": 2,
   "id": "95a1de81",
   "metadata": {},
   "outputs": [],
   "source": [
    "import urllib.request\n",
    "urllib.request.urlretrieve(\"https://raw.githubusercontent.com/sunnysai12345/News_Summary/master/news_summary_more.csv\", filename=\"news_summary_more.csv\")\n",
    "data = pd.read_csv('news_summary_more.csv', encoding='iso-8859-1')"
   ]
  },
  {
   "cell_type": "code",
   "execution_count": 3,
   "id": "770f3684",
   "metadata": {},
   "outputs": [
    {
     "data": {
      "text/html": [
       "<div>\n",
       "<style scoped>\n",
       "    .dataframe tbody tr th:only-of-type {\n",
       "        vertical-align: middle;\n",
       "    }\n",
       "\n",
       "    .dataframe tbody tr th {\n",
       "        vertical-align: top;\n",
       "    }\n",
       "\n",
       "    .dataframe thead th {\n",
       "        text-align: right;\n",
       "    }\n",
       "</style>\n",
       "<table border=\"1\" class=\"dataframe\">\n",
       "  <thead>\n",
       "    <tr style=\"text-align: right;\">\n",
       "      <th></th>\n",
       "      <th>headlines</th>\n",
       "      <th>text</th>\n",
       "    </tr>\n",
       "  </thead>\n",
       "  <tbody>\n",
       "    <tr>\n",
       "      <th>89030</th>\n",
       "      <td>Lightning kills 7 people including 3 infants i...</td>\n",
       "      <td>At least 7 people were killed and two injured ...</td>\n",
       "    </tr>\n",
       "    <tr>\n",
       "      <th>94115</th>\n",
       "      <td>Govt plans to fix quantity of food served in r...</td>\n",
       "      <td>The Centre is planning to fix the quantity of ...</td>\n",
       "    </tr>\n",
       "    <tr>\n",
       "      <th>93712</th>\n",
       "      <td>President Pranab Mukherjee clears all four GST...</td>\n",
       "      <td>President Pranab Mukherjee on Thursday cleared...</td>\n",
       "    </tr>\n",
       "    <tr>\n",
       "      <th>84103</th>\n",
       "      <td>Man steals mummified human toe served in iconi...</td>\n",
       "      <td>A guest at a Canadian bar allegedly stole a mu...</td>\n",
       "    </tr>\n",
       "    <tr>\n",
       "      <th>86338</th>\n",
       "      <td>Tubelight won't break records of Baahubali 2: ...</td>\n",
       "      <td>Actor Salman Khan has said that his upcoming f...</td>\n",
       "    </tr>\n",
       "    <tr>\n",
       "      <th>38834</th>\n",
       "      <td>England 1st world no. 1 team to lose to an ass...</td>\n",
       "      <td>England on Sunday became the first team in cri...</td>\n",
       "    </tr>\n",
       "    <tr>\n",
       "      <th>2272</th>\n",
       "      <td>LIC's market share falls below 70% in FY18</td>\n",
       "      <td>The market share of state-owned Life Insurance...</td>\n",
       "    </tr>\n",
       "    <tr>\n",
       "      <th>89598</th>\n",
       "      <td>FBI Director James Comey thought his firing wa...</td>\n",
       "      <td>FBI Director James Comey, who was fired by US ...</td>\n",
       "    </tr>\n",
       "    <tr>\n",
       "      <th>77602</th>\n",
       "      <td>Saudi Arabia asks US court to end lawsuits ove...</td>\n",
       "      <td>Saudi Arabia on Tuesday asked a US court to di...</td>\n",
       "    </tr>\n",
       "    <tr>\n",
       "      <th>6207</th>\n",
       "      <td>Malaysian fugitive's yacht goes on sale at hal...</td>\n",
       "      <td>Superyacht 'Equanimity', once owned by fugitiv...</td>\n",
       "    </tr>\n",
       "  </tbody>\n",
       "</table>\n",
       "</div>"
      ],
      "text/plain": [
       "                                               headlines  \\\n",
       "89030  Lightning kills 7 people including 3 infants i...   \n",
       "94115  Govt plans to fix quantity of food served in r...   \n",
       "93712  President Pranab Mukherjee clears all four GST...   \n",
       "84103  Man steals mummified human toe served in iconi...   \n",
       "86338  Tubelight won't break records of Baahubali 2: ...   \n",
       "38834  England 1st world no. 1 team to lose to an ass...   \n",
       "2272          LIC's market share falls below 70% in FY18   \n",
       "89598  FBI Director James Comey thought his firing wa...   \n",
       "77602  Saudi Arabia asks US court to end lawsuits ove...   \n",
       "6207   Malaysian fugitive's yacht goes on sale at hal...   \n",
       "\n",
       "                                                    text  \n",
       "89030  At least 7 people were killed and two injured ...  \n",
       "94115  The Centre is planning to fix the quantity of ...  \n",
       "93712  President Pranab Mukherjee on Thursday cleared...  \n",
       "84103  A guest at a Canadian bar allegedly stole a mu...  \n",
       "86338  Actor Salman Khan has said that his upcoming f...  \n",
       "38834  England on Sunday became the first team in cri...  \n",
       "2272   The market share of state-owned Life Insurance...  \n",
       "89598  FBI Director James Comey, who was fired by US ...  \n",
       "77602  Saudi Arabia on Tuesday asked a US court to di...  \n",
       "6207   Superyacht 'Equanimity', once owned by fugitiv...  "
      ]
     },
     "execution_count": 3,
     "metadata": {},
     "output_type": "execute_result"
    }
   ],
   "source": [
    "data.sample(10)"
   ]
  },
  {
   "cell_type": "code",
   "execution_count": 4,
   "id": "8285ffef",
   "metadata": {},
   "outputs": [
    {
     "name": "stdout",
     "output_type": "stream",
     "text": [
      "전체 샘플수 : 98401\n"
     ]
    }
   ],
   "source": [
    "print('전체 샘플수 :', (len(data)))"
   ]
  },
  {
   "cell_type": "markdown",
   "id": "ab599898",
   "metadata": {},
   "source": [
    "---\n",
    "\n",
    "# 2. 데이터 전처리하기 (추상적 요약)"
   ]
  },
  {
   "cell_type": "markdown",
   "id": "31c28e8a",
   "metadata": {},
   "source": [
    "### 1) 중복 제거"
   ]
  },
  {
   "cell_type": "code",
   "execution_count": 5,
   "id": "167d8b4a",
   "metadata": {},
   "outputs": [
    {
     "name": "stdout",
     "output_type": "stream",
     "text": [
      "Headlines 열에서 중복을 배제한 유일한 샘플의 수 : 98280\n"
     ]
    }
   ],
   "source": [
    "print('Headlines 열에서 중복을 배제한 유일한 샘플의 수 :', data['headlines'].nunique())"
   ]
  },
  {
   "cell_type": "code",
   "execution_count": 6,
   "id": "6cc2db2a",
   "metadata": {},
   "outputs": [
    {
     "name": "stdout",
     "output_type": "stream",
     "text": [
      "Text 열에서 중복을 배제한 유일한 샘플의 수 : 98360\n"
     ]
    }
   ],
   "source": [
    "print('Text 열에서 중복을 배제한 유일한 샘플의 수 :', data['text'].nunique())"
   ]
  },
  {
   "cell_type": "code",
   "execution_count": 7,
   "id": "7b409566",
   "metadata": {},
   "outputs": [
    {
     "name": "stdout",
     "output_type": "stream",
     "text": [
      "중복 제거한 전체 샘플수 : 98360\n"
     ]
    }
   ],
   "source": [
    "data.drop_duplicates(subset = ['text'], inplace=True)\n",
    "print('중복 제거한 전체 샘플수 :', (len(data)))"
   ]
  },
  {
   "cell_type": "markdown",
   "id": "6acffc93",
   "metadata": {},
   "source": [
    "### 2) Null 제거"
   ]
  },
  {
   "cell_type": "code",
   "execution_count": 8,
   "id": "24c2e45a",
   "metadata": {},
   "outputs": [
    {
     "name": "stdout",
     "output_type": "stream",
     "text": [
      "headlines    0\n",
      "text         0\n",
      "dtype: int64\n"
     ]
    }
   ],
   "source": [
    "print(data.isnull().sum())"
   ]
  },
  {
   "cell_type": "markdown",
   "id": "32740560",
   "metadata": {},
   "source": [
    "#### 각 항목에 null은 없습니다."
   ]
  },
  {
   "cell_type": "markdown",
   "id": "ba45b7fd",
   "metadata": {},
   "source": [
    "### 3) 불용어(stopwords) + 전처리"
   ]
  },
  {
   "cell_type": "code",
   "execution_count": 9,
   "id": "e7e1a842",
   "metadata": {},
   "outputs": [
    {
     "name": "stdout",
     "output_type": "stream",
     "text": [
      "정규화 사전의 수:  120\n"
     ]
    }
   ],
   "source": [
    "contractions = {\"ain't\": \"is not\", \"aren't\": \"are not\",\"can't\": \"cannot\", \"'cause\": \"because\", \"could've\": \"could have\", \"couldn't\": \"could not\",\n",
    "                           \"didn't\": \"did not\",  \"doesn't\": \"does not\", \"don't\": \"do not\", \"hadn't\": \"had not\", \"hasn't\": \"has not\", \"haven't\": \"have not\",\n",
    "                           \"he'd\": \"he would\",\"he'll\": \"he will\", \"he's\": \"he is\", \"how'd\": \"how did\", \"how'd'y\": \"how do you\", \"how'll\": \"how will\", \"how's\": \"how is\",\n",
    "                           \"I'd\": \"I would\", \"I'd've\": \"I would have\", \"I'll\": \"I will\", \"I'll've\": \"I will have\",\"I'm\": \"I am\", \"I've\": \"I have\", \"i'd\": \"i would\",\n",
    "                           \"i'd've\": \"i would have\", \"i'll\": \"i will\",  \"i'll've\": \"i will have\",\"i'm\": \"i am\", \"i've\": \"i have\", \"isn't\": \"is not\", \"it'd\": \"it would\",\n",
    "                           \"it'd've\": \"it would have\", \"it'll\": \"it will\", \"it'll've\": \"it will have\",\"it's\": \"it is\", \"let's\": \"let us\", \"ma'am\": \"madam\",\n",
    "                           \"mayn't\": \"may not\", \"might've\": \"might have\",\"mightn't\": \"might not\",\"mightn't've\": \"might not have\", \"must've\": \"must have\",\n",
    "                           \"mustn't\": \"must not\", \"mustn't've\": \"must not have\", \"needn't\": \"need not\", \"needn't've\": \"need not have\",\"o'clock\": \"of the clock\",\n",
    "                           \"oughtn't\": \"ought not\", \"oughtn't've\": \"ought not have\", \"shan't\": \"shall not\", \"sha'n't\": \"shall not\", \"shan't've\": \"shall not have\",\n",
    "                           \"she'd\": \"she would\", \"she'd've\": \"she would have\", \"she'll\": \"she will\", \"she'll've\": \"she will have\", \"she's\": \"she is\",\n",
    "                           \"should've\": \"should have\", \"shouldn't\": \"should not\", \"shouldn't've\": \"should not have\", \"so've\": \"so have\",\"so's\": \"so as\",\n",
    "                           \"this's\": \"this is\",\"that'd\": \"that would\", \"that'd've\": \"that would have\", \"that's\": \"that is\", \"there'd\": \"there would\",\n",
    "                           \"there'd've\": \"there would have\", \"there's\": \"there is\", \"here's\": \"here is\",\"they'd\": \"they would\", \"they'd've\": \"they would have\",\n",
    "                           \"they'll\": \"they will\", \"they'll've\": \"they will have\", \"they're\": \"they are\", \"they've\": \"they have\", \"to've\": \"to have\",\n",
    "                           \"wasn't\": \"was not\", \"we'd\": \"we would\", \"we'd've\": \"we would have\", \"we'll\": \"we will\", \"we'll've\": \"we will have\", \"we're\": \"we are\",\n",
    "                           \"we've\": \"we have\", \"weren't\": \"were not\", \"what'll\": \"what will\", \"what'll've\": \"what will have\", \"what're\": \"what are\",\n",
    "                           \"what's\": \"what is\", \"what've\": \"what have\", \"when's\": \"when is\", \"when've\": \"when have\", \"where'd\": \"where did\", \"where's\": \"where is\",\n",
    "                           \"where've\": \"where have\", \"who'll\": \"who will\", \"who'll've\": \"who will have\", \"who's\": \"who is\", \"who've\": \"who have\",\n",
    "                           \"why's\": \"why is\", \"why've\": \"why have\", \"will've\": \"will have\", \"won't\": \"will not\", \"won't've\": \"will not have\",\n",
    "                           \"would've\": \"would have\", \"wouldn't\": \"would not\", \"wouldn't've\": \"would not have\", \"y'all\": \"you all\",\n",
    "                           \"y'all'd\": \"you all would\",\"y'all'd've\": \"you all would have\",\"y'all're\": \"you all are\",\"y'all've\": \"you all have\",\n",
    "                           \"you'd\": \"you would\", \"you'd've\": \"you would have\", \"you'll\": \"you will\", \"you'll've\": \"you will have\",\n",
    "                           \"you're\": \"you are\", \"you've\": \"you have\"}\n",
    "\n",
    "print(\"정규화 사전의 수: \", len(contractions))"
   ]
  },
  {
   "cell_type": "code",
   "execution_count": 10,
   "id": "bd68d05b",
   "metadata": {},
   "outputs": [
    {
     "name": "stdout",
     "output_type": "stream",
     "text": [
      "=3\n"
     ]
    }
   ],
   "source": [
    "def preprocess_sentence(sentence, remove_stopwords=True):\n",
    "    sentence = sentence.lower()\n",
    "    sentence = BeautifulSoup(sentence, \"lxml\").text\n",
    "    sentence = re.sub(r'\\([^)]*\\)', '', sentence)\n",
    "    sentence = re.sub('\"','', sentence)\n",
    "    sentence = ' '.join([contractions[t] if t in contractions else t for t in sentence.split(\" \")])\n",
    "    sentence = re.sub(r\"'s\\b\",\"\", sentence)\n",
    "    sentence = re.sub(\"[^a-zA-Z]\", \" \", sentence)\n",
    "    sentence = re.sub('[m]{2,}', 'mm', sentence)\n",
    "    \n",
    "    # 불용어 제거 (Text)\n",
    "    if remove_stopwords:\n",
    "        tokens = ' '.join(word for word in sentence.split() if not word in stopwords.words('english') if len(word) > 1)\n",
    "    # 불용어 미제거 (Summary)\n",
    "    else:\n",
    "        tokens = ' '.join(word for word in sentence.split() if len(word) > 1)\n",
    "    return tokens\n",
    "print('=3')"
   ]
  },
  {
   "cell_type": "code",
   "execution_count": 11,
   "id": "dbd6fae1",
   "metadata": {},
   "outputs": [
    {
     "name": "stdout",
     "output_type": "stream",
     "text": [
      "Text 전처리 후 결과:  ['saurav kant alumnus upgrad iiit pg program machine learning artificial intelligence sr systems engineer infosys almost years work experience program upgrad degree career support helped transition data scientist tech mahindra salary hike upgrad online power learning powered lakh careers', 'kunal shah credit card bill payment platform cred gave users chance win free food swiggy one year pranav kaushik delhi techie bagged reward spending cred coins users get one cred coin per rupee bill paid used avail rewards brands like ixigo bookmyshow ubereats cult fit', 'new zealand defeated india wickets fourth odi hamilton thursday win first match five match odi series india lost international match rohit sharma captaincy consecutive victories dating back march match witnessed india getting seventh lowest total odi cricket history', 'aegon life iterm insurance plan customers enjoy tax benefits premiums paid save taxes plan provides life cover age years also customers options insure critical illnesses disability accidental death benefit rider life cover age years', 'speaking sexual harassment allegations rajkumar hirani sonam kapoor said known hirani many years true metoo movement get derailed metoo movement always believe woman case need reserve judgment added hirani accused assistant worked sanju']\n"
     ]
    }
   ],
   "source": [
    "clean_text = []\n",
    "\n",
    "for s in data['text']:\n",
    "    clean_text.append(preprocess_sentence(s))\n",
    "\n",
    "# 전처리 후 출력\n",
    "print(\"Text 전처리 후 결과: \", clean_text[:5])"
   ]
  },
  {
   "cell_type": "code",
   "execution_count": 12,
   "id": "3586fe05",
   "metadata": {},
   "outputs": [
    {
     "name": "stdout",
     "output_type": "stream",
     "text": [
      "Headlines 전처리 후 결과:  ['upgrad learner switches to career in ml al with salary hike', 'delhi techie wins free food from swiggy for one year on cred', 'new zealand end rohit sharma led india match winning streak', 'aegon life iterm insurance plan helps customers save tax', 'have known hirani for yrs what if metoo claims are not true sonam']\n"
     ]
    }
   ],
   "source": [
    "clean_headlines = []\n",
    "\n",
    "for s in data['headlines']:\n",
    "    clean_headlines.append(preprocess_sentence(s, False))\n",
    "\n",
    "print(\"Headlines 전처리 후 결과: \", clean_headlines[:5])"
   ]
  },
  {
   "cell_type": "code",
   "execution_count": 13,
   "id": "148f7136",
   "metadata": {},
   "outputs": [],
   "source": [
    "data['text'] = clean_text\n",
    "data['headlines'] = clean_headlines"
   ]
  },
  {
   "cell_type": "markdown",
   "id": "10d1c2eb",
   "metadata": {},
   "source": [
    "#### 빈 값이 생겼는지 확인"
   ]
  },
  {
   "cell_type": "code",
   "execution_count": 14,
   "id": "5e98bec5",
   "metadata": {},
   "outputs": [
    {
     "data": {
      "text/plain": [
       "headlines    0\n",
       "text         0\n",
       "dtype: int64"
      ]
     },
     "execution_count": 14,
     "metadata": {},
     "output_type": "execute_result"
    }
   ],
   "source": [
    "data.isnull().sum()"
   ]
  },
  {
   "cell_type": "markdown",
   "id": "f2e0668b",
   "metadata": {},
   "source": [
    "#### 확인 결과, 빈 값은 발생하지 않았습니다."
   ]
  },
  {
   "cell_type": "markdown",
   "id": "6dcc63dc",
   "metadata": {},
   "source": [
    "### 4) 샘플의 최대 길이 정하기"
   ]
  },
  {
   "cell_type": "code",
   "execution_count": 15,
   "id": "e8bebc7f",
   "metadata": {},
   "outputs": [
    {
     "name": "stdout",
     "output_type": "stream",
     "text": [
      "텍스트의 최소 길이 : 1\n",
      "텍스트의 최대 길이 : 60\n",
      "텍스트의 평균 길이 : 35.09968483123221\n",
      "요약의 최소 길이 : 1\n",
      "요약의 최대 길이 : 16\n",
      "요약의 평균 길이 : 9.299532330215534\n"
     ]
    },
    {
     "data": {
      "image/png": "[encoded data removed]",
      "text/plain": [
       "<Figure size 432x288 with 2 Axes>"
      ]
     },
     "metadata": {
      "needs_background": "light"
     },
     "output_type": "display_data"
    },
    {
     "data": {
      "image/png": "[encoded data removed]",
      "text/plain": [
       "<Figure size 432x288 with 1 Axes>"
      ]
     },
     "metadata": {
      "needs_background": "light"
     },
     "output_type": "display_data"
    },
    {
     "data": {
      "image/png": "[encoded data removed]",
      "text/plain": [
       "<Figure size 432x288 with 1 Axes>"
      ]
     },
     "metadata": {
      "needs_background": "light"
     },
     "output_type": "display_data"
    }
   ],
   "source": [
    "import matplotlib.pyplot as plt\n",
    "\n",
    "text_len = [len(s.split()) for s in data['text']]\n",
    "summary_len = [len(s.split()) for s in data['headlines']]\n",
    "\n",
    "print('텍스트의 최소 길이 : {}'.format(np.min(text_len)))\n",
    "print('텍스트의 최대 길이 : {}'.format(np.max(text_len)))\n",
    "print('텍스트의 평균 길이 : {}'.format(np.mean(text_len)))\n",
    "print('요약의 최소 길이 : {}'.format(np.min(summary_len)))\n",
    "print('요약의 최대 길이 : {}'.format(np.max(summary_len)))\n",
    "print('요약의 평균 길이 : {}'.format(np.mean(summary_len)))\n",
    "\n",
    "plt.subplot(1,2,1)\n",
    "plt.boxplot(text_len)\n",
    "plt.title('Text')\n",
    "plt.subplot(1,2,2)\n",
    "plt.boxplot(summary_len)\n",
    "plt.title('Headlines')\n",
    "plt.tight_layout()\n",
    "plt.show()\n",
    "\n",
    "plt.title('Text')\n",
    "plt.hist(text_len, bins = 40)\n",
    "plt.xlabel('length of samples')\n",
    "plt.ylabel('number of samples')\n",
    "plt.show()\n",
    "\n",
    "plt.title('Headlines')\n",
    "plt.hist(summary_len, bins = 40)\n",
    "plt.xlabel('length of samples')\n",
    "plt.ylabel('number of samples')\n",
    "plt.show()"
   ]
  },
  {
   "cell_type": "markdown",
   "id": "7337e74b",
   "metadata": {},
   "source": [
    "#### Text\n",
    "- Text의 경우 최소 길이가 1, 최대 길이가 60 입니다\n",
    "- 평균 길이는 35\n",
    "- 시각화된 그래프로 봤을 때는 대체적으로는 분포가 주로 45 내외의 길이를 가지는 걸 알 수 있음\n",
    "\n",
    "#### Headlines\n",
    "- Headlines의 경우 최소 길이가 1, 최대 길이가 15, 그리고 평균 길이가 9\n",
    "- Text에 비해 상대적으로 길이가 매우 짧습니다.\n",
    "- 그래프로 봤을 때에도 대체적으로 11 이하의 길이를 가지고 있음"
   ]
  },
  {
   "cell_type": "code",
   "execution_count": 16,
   "id": "747a66c2",
   "metadata": {},
   "outputs": [
    {
     "name": "stdout",
     "output_type": "stream",
     "text": [
      "=3\n"
     ]
    }
   ],
   "source": [
    "text_max_len = 45\n",
    "headlines_max_len = 11\n",
    "print('=3')"
   ]
  },
  {
   "cell_type": "code",
   "execution_count": 17,
   "id": "be6d17c5",
   "metadata": {},
   "outputs": [
    {
     "name": "stdout",
     "output_type": "stream",
     "text": [
      "=3\n"
     ]
    }
   ],
   "source": [
    "def below_threshold_len(max_len, nested_list):\n",
    "    cnt = 0\n",
    "    for s in nested_list:\n",
    "        if(len(s.split()) <= max_len):\n",
    "            cnt = cnt + 1\n",
    "    print('전체 샘플 중 길이가 %s 이하인 샘플의 비율: %s'%(max_len, (cnt / len(nested_list))))\n",
    "print('=3')"
   ]
  },
  {
   "cell_type": "code",
   "execution_count": 18,
   "id": "1a2d36fd",
   "metadata": {},
   "outputs": [
    {
     "name": "stdout",
     "output_type": "stream",
     "text": [
      "전체 샘플 중 길이가 45 이하인 샘플의 비율: 0.9967771451809678\n",
      "전체 샘플 중 길이가 11 이하인 샘플의 비율: 0.9449877999186661\n"
     ]
    }
   ],
   "source": [
    "below_threshold_len(text_max_len, data['text'])\n",
    "below_threshold_len(headlines_max_len,  data['headlines'])"
   ]
  },
  {
   "cell_type": "code",
   "execution_count": 19,
   "id": "4afe14cc",
   "metadata": {},
   "outputs": [
    {
     "name": "stdout",
     "output_type": "stream",
     "text": [
      "전체 샘플수 : 92656\n"
     ]
    }
   ],
   "source": [
    "data = data[data['text'].apply(lambda x: len(x.split()) <= text_max_len)]\n",
    "data = data[data['headlines'].apply(lambda x: len(x.split()) <= headlines_max_len)]\n",
    "print('전체 샘플수 :', (len(data)))"
   ]
  },
  {
   "cell_type": "markdown",
   "id": "c5265a2f",
   "metadata": {},
   "source": [
    "### 5) 시작 토큰과 종료 토큰 추가하기"
   ]
  },
  {
   "cell_type": "code",
   "execution_count": 20,
   "id": "c6736360",
   "metadata": {},
   "outputs": [
    {
     "data": {
      "text/html": [
       "<div>\n",
       "<style scoped>\n",
       "    .dataframe tbody tr th:only-of-type {\n",
       "        vertical-align: middle;\n",
       "    }\n",
       "\n",
       "    .dataframe tbody tr th {\n",
       "        vertical-align: top;\n",
       "    }\n",
       "\n",
       "    .dataframe thead th {\n",
       "        text-align: right;\n",
       "    }\n",
       "</style>\n",
       "<table border=\"1\" class=\"dataframe\">\n",
       "  <thead>\n",
       "    <tr style=\"text-align: right;\">\n",
       "      <th></th>\n",
       "      <th>headlines</th>\n",
       "      <th>text</th>\n",
       "      <th>decoder_input</th>\n",
       "      <th>decoder_target</th>\n",
       "    </tr>\n",
       "  </thead>\n",
       "  <tbody>\n",
       "    <tr>\n",
       "      <th>0</th>\n",
       "      <td>upgrad learner switches to career in ml al wit...</td>\n",
       "      <td>saurav kant alumnus upgrad iiit pg program mac...</td>\n",
       "      <td>sostoken upgrad learner switches to career in ...</td>\n",
       "      <td>upgrad learner switches to career in ml al wit...</td>\n",
       "    </tr>\n",
       "    <tr>\n",
       "      <th>2</th>\n",
       "      <td>new zealand end rohit sharma led india match w...</td>\n",
       "      <td>new zealand defeated india wickets fourth odi ...</td>\n",
       "      <td>sostoken new zealand end rohit sharma led indi...</td>\n",
       "      <td>new zealand end rohit sharma led india match w...</td>\n",
       "    </tr>\n",
       "    <tr>\n",
       "      <th>3</th>\n",
       "      <td>aegon life iterm insurance plan helps customer...</td>\n",
       "      <td>aegon life iterm insurance plan customers enjo...</td>\n",
       "      <td>sostoken aegon life iterm insurance plan helps...</td>\n",
       "      <td>aegon life iterm insurance plan helps customer...</td>\n",
       "    </tr>\n",
       "    <tr>\n",
       "      <th>5</th>\n",
       "      <td>rahat fateh ali khan denies getting notice for...</td>\n",
       "      <td>pakistani singer rahat fateh ali khan denied r...</td>\n",
       "      <td>sostoken rahat fateh ali khan denies getting n...</td>\n",
       "      <td>rahat fateh ali khan denies getting notice for...</td>\n",
       "    </tr>\n",
       "    <tr>\n",
       "      <th>7</th>\n",
       "      <td>govt directs alok verma to join work day befor...</td>\n",
       "      <td>weeks ex cbi director alok verma told departme...</td>\n",
       "      <td>sostoken govt directs alok verma to join work ...</td>\n",
       "      <td>govt directs alok verma to join work day befor...</td>\n",
       "    </tr>\n",
       "  </tbody>\n",
       "</table>\n",
       "</div>"
      ],
      "text/plain": [
       "                                           headlines  \\\n",
       "0  upgrad learner switches to career in ml al wit...   \n",
       "2  new zealand end rohit sharma led india match w...   \n",
       "3  aegon life iterm insurance plan helps customer...   \n",
       "5  rahat fateh ali khan denies getting notice for...   \n",
       "7  govt directs alok verma to join work day befor...   \n",
       "\n",
       "                                                text  \\\n",
       "0  saurav kant alumnus upgrad iiit pg program mac...   \n",
       "2  new zealand defeated india wickets fourth odi ...   \n",
       "3  aegon life iterm insurance plan customers enjo...   \n",
       "5  pakistani singer rahat fateh ali khan denied r...   \n",
       "7  weeks ex cbi director alok verma told departme...   \n",
       "\n",
       "                                       decoder_input  \\\n",
       "0  sostoken upgrad learner switches to career in ...   \n",
       "2  sostoken new zealand end rohit sharma led indi...   \n",
       "3  sostoken aegon life iterm insurance plan helps...   \n",
       "5  sostoken rahat fateh ali khan denies getting n...   \n",
       "7  sostoken govt directs alok verma to join work ...   \n",
       "\n",
       "                                      decoder_target  \n",
       "0  upgrad learner switches to career in ml al wit...  \n",
       "2  new zealand end rohit sharma led india match w...  \n",
       "3  aegon life iterm insurance plan helps customer...  \n",
       "5  rahat fateh ali khan denies getting notice for...  \n",
       "7  govt directs alok verma to join work day befor...  "
      ]
     },
     "execution_count": 20,
     "metadata": {},
     "output_type": "execute_result"
    }
   ],
   "source": [
    "data['decoder_input'] = data['headlines'].apply(lambda x : 'sostoken '+ x)\n",
    "data['decoder_target'] = data['headlines'].apply(lambda x : x + ' eostoken')\n",
    "data.head()"
   ]
  },
  {
   "cell_type": "markdown",
   "id": "f1245a47",
   "metadata": {},
   "source": [
    "#### 데이터 섞기"
   ]
  },
  {
   "cell_type": "code",
   "execution_count": 21,
   "id": "007aced0",
   "metadata": {},
   "outputs": [
    {
     "name": "stdout",
     "output_type": "stream",
     "text": [
      "[ 9072 58870 70764 ... 24122 62210 42130]\n",
      "테스트 데이터의 수 : 18531 \n",
      "\n",
      "훈련 데이터의 개수 : 74125\n",
      "훈련 레이블의 개수 : 74125\n",
      "테스트 데이터의 개수 : 18531\n",
      "테스트 레이블의 개수 : 18531\n"
     ]
    }
   ],
   "source": [
    "encoder_input = np.array(data['text']) # 인코더의 입력\n",
    "decoder_input = np.array(data['decoder_input']) # 디코더의 입력\n",
    "decoder_target = np.array(data['decoder_target']) # 디코더의 레이블\n",
    "\n",
    "indices = np.arange(encoder_input.shape[0])\n",
    "np.random.shuffle(indices)\n",
    "print(indices) # Text 갯수만큼의 인덱스들을 섞어서 준비\n",
    "\n",
    "encoder_input = encoder_input[indices]\n",
    "decoder_input = decoder_input[indices]\n",
    "decoder_target = decoder_target[indices]\n",
    "\n",
    "n_of_val = int(len(encoder_input)*0.2) # 20%\n",
    "print('테스트 데이터의 수 :', n_of_val, '\\n')\n",
    "\n",
    "encoder_input_train = encoder_input[:-n_of_val]\n",
    "decoder_input_train = decoder_input[:-n_of_val]\n",
    "decoder_target_train = decoder_target[:-n_of_val]\n",
    "\n",
    "encoder_input_test = encoder_input[-n_of_val:]\n",
    "decoder_input_test = decoder_input[-n_of_val:]\n",
    "decoder_target_test = decoder_target[-n_of_val:]\n",
    "\n",
    "print('훈련 데이터의 개수 :', len(encoder_input_train))\n",
    "print('훈련 레이블의 개수 :', len(decoder_input_train))\n",
    "print('테스트 데이터의 개수 :', len(encoder_input_test))\n",
    "print('테스트 레이블의 개수 :', len(decoder_input_test))"
   ]
  },
  {
   "cell_type": "markdown",
   "id": "b98a2433",
   "metadata": {},
   "source": [
    "### 6) text 정수 인코딩 (단어사전, 희귀단어 제거)"
   ]
  },
  {
   "cell_type": "code",
   "execution_count": 22,
   "id": "c9afc970",
   "metadata": {},
   "outputs": [
    {
     "name": "stdout",
     "output_type": "stream",
     "text": [
      "=3\n"
     ]
    }
   ],
   "source": [
    "src_tokenizer = Tokenizer()\n",
    "src_tokenizer.fit_on_texts(encoder_input_train)\n",
    "print('=3')"
   ]
  },
  {
   "cell_type": "code",
   "execution_count": 23,
   "id": "3b0b971d",
   "metadata": {},
   "outputs": [
    {
     "name": "stdout",
     "output_type": "stream",
     "text": [
      "단어 집합(vocabulary)의 크기 : 68154\n",
      "등장 빈도가 6번 이하인 희귀 단어의 수: 46520\n",
      "단어 집합에서 희귀 단어를 제외시킬 경우의 단어 집합의 크기 21634\n",
      "단어 집합에서 희귀 단어의 비율: 68.25718226369692\n",
      "전체 등장 빈도에서 희귀 단어 등장 빈도 비율: 3.629210688292481\n"
     ]
    }
   ],
   "source": [
    "threshold = 7\n",
    "total_cnt = len(src_tokenizer.word_index) # 단어의 수\n",
    "rare_cnt = 0\n",
    "total_freq = 0\n",
    "rare_freq = 0\n",
    "\n",
    "for key,value in src_tokenizer.word_counts.items():\n",
    "    total_freq = total_freq + value\n",
    "    \n",
    "    # 단어의 등장 빈도수가 threshold보다 작으면\n",
    "    if value < threshold:\n",
    "        rare_cnt = rare_cnt + 1\n",
    "        rare_freq = rare_freq + value\n",
    "        \n",
    "print('단어 집합(vocabulary)의 크기 :', total_cnt)\n",
    "print('등장 빈도가 %s번 이하인 희귀 단어의 수: %s'%(threshold - 1, rare_cnt))\n",
    "print('단어 집합에서 희귀 단어를 제외시킬 경우의 단어 집합의 크기 %s'%(total_cnt - rare_cnt))\n",
    "print(\"단어 집합에서 희귀 단어의 비율:\", (rare_cnt / total_cnt)*100)\n",
    "print(\"전체 등장 빈도에서 희귀 단어 등장 빈도 비율:\", (rare_freq / total_freq)*100)"
   ]
  },
  {
   "cell_type": "markdown",
   "id": "0d493faa",
   "metadata": {},
   "source": [
    "- 등장 빈도가 threshold 값인 6회 이하인 단어들은 단어 집합에서 68% 이상을 차지하지만\n",
    "- 실제로 훈련 데이터에서 등장 빈도로 차지하는 비중은 상대적으로 적은 수치인 3.6%밖에 되지 않음"
   ]
  },
  {
   "cell_type": "code",
   "execution_count": 24,
   "id": "0d670d8b",
   "metadata": {},
   "outputs": [
    {
     "name": "stdout",
     "output_type": "stream",
     "text": [
      "=3\n"
     ]
    }
   ],
   "source": [
    "src_vocab = 21000\n",
    "src_tokenizer = Tokenizer(num_words=src_vocab) # 단어 집합의 크기를 21000으로 제한\n",
    "src_tokenizer.fit_on_texts(encoder_input_train) # 단어 집합 재생성\n",
    "print('=3')"
   ]
  },
  {
   "cell_type": "code",
   "execution_count": 25,
   "id": "4b080883",
   "metadata": {},
   "outputs": [
    {
     "name": "stdout",
     "output_type": "stream",
     "text": [
      "[[880, 1335, 839, 49, 296, 1944, 173, 472, 490, 119, 30, 482, 1792, 839, 116, 253, 72, 304, 22, 11, 484, 5043, 9162, 18, 47, 139, 12, 2583, 146, 119, 10899, 2583], [683, 97, 1721, 45, 188, 300, 2168, 1133, 160, 34, 174, 198, 3441, 665, 1, 1039, 946, 10900, 544, 16, 2236, 840, 3333, 2255, 1721, 364, 333], [4668, 13872, 150, 259, 3374, 18949, 1989, 15561, 3, 284, 195, 445, 2716, 8658, 20123, 60, 2771, 715, 402, 3719, 2, 103, 4166, 703, 6, 1, 7002, 8, 404, 3924, 259, 1316]]\n"
     ]
    }
   ],
   "source": [
    "encoder_input_train = src_tokenizer.texts_to_sequences(encoder_input_train)\n",
    "encoder_input_test = src_tokenizer.texts_to_sequences(encoder_input_test)\n",
    "\n",
    "print(encoder_input_train[:3])"
   ]
  },
  {
   "cell_type": "markdown",
   "id": "4e4f22e1",
   "metadata": {},
   "source": [
    "### 7) headlines 정수 인코딩 (단어사전, 희귀단어 제거)"
   ]
  },
  {
   "cell_type": "code",
   "execution_count": 26,
   "id": "3d8b44a3",
   "metadata": {},
   "outputs": [
    {
     "name": "stdout",
     "output_type": "stream",
     "text": [
      "=3\n"
     ]
    }
   ],
   "source": [
    "tar_tokenizer = Tokenizer()\n",
    "tar_tokenizer.fit_on_texts(decoder_input_train)\n",
    "print('=3')"
   ]
  },
  {
   "cell_type": "code",
   "execution_count": 29,
   "id": "f9211a55",
   "metadata": {},
   "outputs": [
    {
     "name": "stdout",
     "output_type": "stream",
     "text": [
      "단어 집합(vocabulary)의 크기 : 29582\n",
      "등장 빈도가 3번 이하인 희귀 단어의 수: 16724\n",
      "단어 집합에서 희귀 단어를 제외시킬 경우의 단어 집합의 크기 12858\n",
      "단어 집합에서 희귀 단어의 비율: 56.53437901426543\n",
      "전체 등장 빈도에서 희귀 단어 등장 빈도 비율: 3.363607892264328\n"
     ]
    }
   ],
   "source": [
    "threshold = 4\n",
    "total_cnt = len(tar_tokenizer.word_index)\n",
    "rare_cnt = 0\n",
    "total_freq = 0\n",
    "rare_freq = 0\n",
    "\n",
    "for key,value in tar_tokenizer.word_counts.items():\n",
    "    total_freq = total_freq + value\n",
    "    \n",
    "    # 단어의 등장 빈도수가 threshold보다 작으면\n",
    "    if value < threshold:\n",
    "        rare_cnt = rare_cnt + 1\n",
    "        rare_freq = rare_freq + value\n",
    "\n",
    "print('단어 집합(vocabulary)의 크기 :', total_cnt)\n",
    "print('등장 빈도가 %s번 이하인 희귀 단어의 수: %s'%(threshold - 1, rare_cnt))\n",
    "print('단어 집합에서 희귀 단어를 제외시킬 경우의 단어 집합의 크기 %s'%(total_cnt - rare_cnt))\n",
    "print(\"단어 집합에서 희귀 단어의 비율:\", (rare_cnt / total_cnt)*100)\n",
    "print(\"전체 등장 빈도에서 희귀 단어 등장 빈도 비율:\", (rare_freq / total_freq)*100)"
   ]
  },
  {
   "cell_type": "markdown",
   "id": "ebc110ff",
   "metadata": {},
   "source": [
    "- 등장 빈도가 threshold 값인 4회 이하인 단어들은 단어 집합에서 56% 이상을 차지하지만\n",
    "- 실제로 훈련 데이터에서 등장 빈도로 차지하는 비중은 상대적으로 적은 수치인 3.3%밖에 되지 않음"
   ]
  },
  {
   "cell_type": "code",
   "execution_count": 30,
   "id": "a9f520b8",
   "metadata": {},
   "outputs": [
    {
     "name": "stdout",
     "output_type": "stream",
     "text": [
      "input\n",
      "input  [[1, 376, 357, 500, 5, 1411, 5, 231, 238, 54], [1, 1165, 4995, 1772, 790], [1, 7937, 3853, 3, 2671, 239, 2342, 5, 11274], [1, 5425, 395, 9289, 82, 4, 2392, 2976], [1, 3434, 60, 23, 1478, 3740, 3, 1833, 3336, 1591, 2297]]\n",
      "target\n",
      "decoder  [[376, 357, 500, 5, 1411, 5, 231, 238, 54, 2], [1165, 4995, 1772, 790, 2], [7937, 3853, 3, 2671, 239, 2342, 5, 11274, 2], [5425, 395, 9289, 82, 4, 2392, 2976, 2], [3434, 60, 23, 1478, 3740, 3, 1833, 3336, 1591, 2297, 2]]\n"
     ]
    }
   ],
   "source": [
    "tar_vocab = 12000\n",
    "tar_tokenizer = Tokenizer(num_words=tar_vocab) \n",
    "tar_tokenizer.fit_on_texts(decoder_input_train)\n",
    "tar_tokenizer.fit_on_texts(decoder_target_train)\n",
    "\n",
    "# 텍스트 시퀀스를 정수 시퀀스로 변환\n",
    "decoder_input_train = tar_tokenizer.texts_to_sequences(decoder_input_train) \n",
    "decoder_target_train = tar_tokenizer.texts_to_sequences(decoder_target_train)\n",
    "decoder_input_test = tar_tokenizer.texts_to_sequences(decoder_input_test)\n",
    "decoder_target_test = tar_tokenizer.texts_to_sequences(decoder_target_test)\n",
    "\n",
    "# 잘 변환되었는지 확인\n",
    "print('input')\n",
    "print('input ',decoder_input_train[:5])\n",
    "print('target')\n",
    "print('decoder ',decoder_target_train[:5])"
   ]
  },
  {
   "cell_type": "markdown",
   "id": "dc1f0aa1",
   "metadata": {},
   "source": [
    "### 8) 희귀단어 제거 이후, 길이가 0이 된 샘플들은 제거"
   ]
  },
  {
   "cell_type": "code",
   "execution_count": 31,
   "id": "bc20a170",
   "metadata": {},
   "outputs": [
    {
     "name": "stdout",
     "output_type": "stream",
     "text": [
      "삭제할 훈련 데이터의 개수 : 0\n",
      "삭제할 테스트 데이터의 개수 : 0\n",
      "훈련 데이터의 개수 : 74125\n",
      "훈련 레이블의 개수 : 74125\n",
      "테스트 데이터의 개수 : 18531\n",
      "테스트 레이블의 개수 : 18531\n"
     ]
    }
   ],
   "source": [
    "drop_train = [index for index, sentence in enumerate(decoder_input_train) if len(sentence) == 1]\n",
    "drop_test = [index for index, sentence in enumerate(decoder_input_test) if len(sentence) == 1]\n",
    "\n",
    "print('삭제할 훈련 데이터의 개수 :', len(drop_train))\n",
    "print('삭제할 테스트 데이터의 개수 :', len(drop_test))\n",
    "\n",
    "encoder_input_train = [sentence for index, sentence in enumerate(encoder_input_train) if index not in drop_train]\n",
    "decoder_input_train = [sentence for index, sentence in enumerate(decoder_input_train) if index not in drop_train]\n",
    "decoder_target_train = [sentence for index, sentence in enumerate(decoder_target_train) if index not in drop_train]\n",
    "\n",
    "encoder_input_test = [sentence for index, sentence in enumerate(encoder_input_test) if index not in drop_test]\n",
    "decoder_input_test = [sentence for index, sentence in enumerate(decoder_input_test) if index not in drop_test]\n",
    "decoder_target_test = [sentence for index, sentence in enumerate(decoder_target_test) if index not in drop_test]\n",
    "\n",
    "print('훈련 데이터의 개수 :', len(encoder_input_train))\n",
    "print('훈련 레이블의 개수 :', len(decoder_input_train))\n",
    "print('테스트 데이터의 개수 :', len(encoder_input_test))\n",
    "print('테스트 레이블의 개수 :', len(decoder_input_test))"
   ]
  },
  {
   "cell_type": "markdown",
   "id": "c261cea0",
   "metadata": {},
   "source": [
    "### 9) 패딩 추가"
   ]
  },
  {
   "cell_type": "code",
   "execution_count": 33,
   "id": "6d483bca",
   "metadata": {},
   "outputs": [
    {
     "name": "stdout",
     "output_type": "stream",
     "text": [
      "=3\n"
     ]
    }
   ],
   "source": [
    "encoder_input_train = pad_sequences(encoder_input_train, maxlen=text_max_len, padding='post')\n",
    "encoder_input_test = pad_sequences(encoder_input_test, maxlen=text_max_len, padding='post')\n",
    "decoder_input_train = pad_sequences(decoder_input_train, maxlen=headlines_max_len, padding='post')\n",
    "decoder_target_train = pad_sequences(decoder_target_train, maxlen=headlines_max_len, padding='post')\n",
    "decoder_input_test = pad_sequences(decoder_input_test, maxlen=headlines_max_len, padding='post')\n",
    "decoder_target_test = pad_sequences(decoder_target_test, maxlen=headlines_max_len, padding='post')\n",
    "print('=3')"
   ]
  },
  {
   "cell_type": "markdown",
   "id": "6ee3379e",
   "metadata": {},
   "source": [
    "---\n",
    "\n",
    "# 3. 어텐션 메커니즘 사용하기 (추상적 요약)"
   ]
  },
  {
   "cell_type": "code",
   "execution_count": 34,
   "id": "51d02179",
   "metadata": {},
   "outputs": [
    {
     "name": "stdout",
     "output_type": "stream",
     "text": [
      "WARNING:tensorflow:Layer lstm will not use cuDNN kernels since it doesn't meet the criteria. It will use a generic GPU kernel as fallback when running on GPU.\n",
      "WARNING:tensorflow:Layer lstm_1 will not use cuDNN kernels since it doesn't meet the criteria. It will use a generic GPU kernel as fallback when running on GPU.\n",
      "WARNING:tensorflow:Layer lstm_2 will not use cuDNN kernels since it doesn't meet the criteria. It will use a generic GPU kernel as fallback when running on GPU.\n",
      "WARNING:tensorflow:Layer lstm_3 will not use cuDNN kernels since it doesn't meet the criteria. It will use a generic GPU kernel as fallback when running on GPU.\n",
      "Model: \"model\"\n",
      "__________________________________________________________________________________________________\n",
      "Layer (type)                    Output Shape         Param #     Connected to                     \n",
      "==================================================================================================\n",
      "input_1 (InputLayer)            [(None, 45)]         0                                            \n",
      "__________________________________________________________________________________________________\n",
      "embedding (Embedding)           (None, 45, 128)      2688000     input_1[0][0]                    \n",
      "__________________________________________________________________________________________________\n",
      "lstm (LSTM)                     [(None, 45, 256), (N 394240      embedding[0][0]                  \n",
      "__________________________________________________________________________________________________\n",
      "input_2 (InputLayer)            [(None, None)]       0                                            \n",
      "__________________________________________________________________________________________________\n",
      "lstm_1 (LSTM)                   [(None, 45, 256), (N 525312      lstm[0][0]                       \n",
      "__________________________________________________________________________________________________\n",
      "embedding_1 (Embedding)         (None, None, 128)    1536000     input_2[0][0]                    \n",
      "__________________________________________________________________________________________________\n",
      "lstm_2 (LSTM)                   [(None, 45, 256), (N 525312      lstm_1[0][0]                     \n",
      "__________________________________________________________________________________________________\n",
      "lstm_3 (LSTM)                   [(None, None, 256),  394240      embedding_1[0][0]                \n",
      "                                                                 lstm_2[0][1]                     \n",
      "                                                                 lstm_2[0][2]                     \n",
      "__________________________________________________________________________________________________\n",
      "attention_layer (AdditiveAttent (None, None, 256)    256         lstm_3[0][0]                     \n",
      "                                                                 lstm_2[0][0]                     \n",
      "__________________________________________________________________________________________________\n",
      "concat_layer (Concatenate)      (None, None, 512)    0           lstm_3[0][0]                     \n",
      "                                                                 attention_layer[0][0]            \n",
      "__________________________________________________________________________________________________\n",
      "dense (Dense)                   (None, None, 12000)  6156000     concat_layer[0][0]               \n",
      "==================================================================================================\n",
      "Total params: 12,219,360\n",
      "Trainable params: 12,219,360\n",
      "Non-trainable params: 0\n",
      "__________________________________________________________________________________________________\n"
     ]
    }
   ],
   "source": [
    "from tensorflow.keras.layers import Input, LSTM, Embedding, Dense, Concatenate, TimeDistributed\n",
    "from tensorflow.keras.models import Model\n",
    "from tensorflow.keras.callbacks import EarlyStopping, ModelCheckpoint\n",
    "from tensorflow.keras.layers import AdditiveAttention\n",
    "\n",
    "\n",
    "embedding_dim = 128\n",
    "hidden_size = 256\n",
    "\n",
    "\n",
    "# 인코더 설계\n",
    "encoder_inputs = Input(shape=(text_max_len,))\n",
    "enc_emb = Embedding(src_vocab, embedding_dim)(encoder_inputs)\n",
    "\n",
    "encoder_lstm1 = LSTM(hidden_size, return_sequences=True, return_state=True ,dropout = 0.4, recurrent_dropout = 0.4)\n",
    "encoder_output1, state_h1, state_c1 = encoder_lstm1(enc_emb)\n",
    "\n",
    "encoder_lstm2 = LSTM(hidden_size, return_sequences=True, return_state=True, dropout=0.4, recurrent_dropout=0.4)\n",
    "encoder_output2, state_h2, state_c2 = encoder_lstm2(encoder_output1)\n",
    "\n",
    "encoder_lstm3 = LSTM(hidden_size, return_state=True, return_sequences=True, dropout=0.4, recurrent_dropout=0.4)\n",
    "encoder_outputs, state_h, state_c= encoder_lstm3(encoder_output2)\n",
    "\n",
    "\n",
    "# 디코더 설계\n",
    "decoder_inputs = Input(shape=(None,))\n",
    "\n",
    "dec_emb_layer = Embedding(tar_vocab, embedding_dim)\n",
    "dec_emb = dec_emb_layer(decoder_inputs)\n",
    "\n",
    "decoder_lstm = LSTM(hidden_size, return_sequences=True, return_state=True, dropout=0.4, recurrent_dropout=0.2)\n",
    "decoder_outputs, _, _ = decoder_lstm(dec_emb, initial_state=[state_h, state_c])\n",
    "\n",
    "\n",
    "# 어텐션 층(어텐션 함수)\n",
    "attn_layer = AdditiveAttention(name='attention_layer')\n",
    "\n",
    "attn_out = attn_layer([decoder_outputs, encoder_outputs])\n",
    "\n",
    "decoder_concat_input = Concatenate(axis=-1, name='concat_layer')([decoder_outputs, attn_out])\n",
    "\n",
    "decoder_softmax_layer = Dense(tar_vocab, activation='softmax')\n",
    "decoder_softmax_outputs = decoder_softmax_layer(decoder_concat_input)\n",
    "\n",
    "\n",
    "# 모델 정의\n",
    "model = Model([encoder_inputs, decoder_inputs], decoder_softmax_outputs)\n",
    "model.summary()"
   ]
  },
  {
   "cell_type": "code",
   "execution_count": 35,
   "id": "5f1fe96f",
   "metadata": {},
   "outputs": [
    {
     "name": "stdout",
     "output_type": "stream",
     "text": [
      "Epoch 1/50\n",
      "290/290 [==============================] - 196s 621ms/step - loss: 6.1634 - val_loss: 5.7552\n",
      "Epoch 2/50\n",
      "290/290 [==============================] - 180s 619ms/step - loss: 5.5555 - val_loss: 5.3196\n",
      "Epoch 3/50\n",
      "290/290 [==============================] - 180s 620ms/step - loss: 5.2039 - val_loss: 5.0364\n",
      "Epoch 4/50\n",
      "290/290 [==============================] - 180s 620ms/step - loss: 4.9195 - val_loss: 4.8206\n",
      "Epoch 5/50\n",
      "290/290 [==============================] - 180s 620ms/step - loss: 4.6929 - val_loss: 4.6804\n",
      "Epoch 6/50\n",
      "290/290 [==============================] - 179s 618ms/step - loss: 4.5089 - val_loss: 4.5681\n",
      "Epoch 7/50\n",
      "290/290 [==============================] - 178s 614ms/step - loss: 4.3528 - val_loss: 4.4626\n",
      "Epoch 8/50\n",
      "290/290 [==============================] - 179s 616ms/step - loss: 4.2135 - val_loss: 4.3880\n",
      "Epoch 9/50\n",
      "290/290 [==============================] - 177s 612ms/step - loss: 4.0927 - val_loss: 4.3145\n",
      "Epoch 10/50\n",
      "290/290 [==============================] - 178s 613ms/step - loss: 3.9854 - val_loss: 4.2715\n",
      "Epoch 11/50\n",
      "290/290 [==============================] - 178s 614ms/step - loss: 3.8969 - val_loss: 4.2388\n",
      "Epoch 12/50\n",
      "290/290 [==============================] - 177s 609ms/step - loss: 3.8110 - val_loss: 4.1861\n",
      "Epoch 13/50\n",
      "290/290 [==============================] - 177s 611ms/step - loss: 3.7332 - val_loss: 4.1593\n",
      "Epoch 14/50\n",
      "290/290 [==============================] - 177s 610ms/step - loss: 3.6601 - val_loss: 4.1334\n",
      "Epoch 15/50\n",
      "290/290 [==============================] - 177s 612ms/step - loss: 3.5911 - val_loss: 4.1110\n",
      "Epoch 16/50\n",
      "290/290 [==============================] - 177s 612ms/step - loss: 3.5321 - val_loss: 4.0868\n",
      "Epoch 17/50\n",
      "290/290 [==============================] - 177s 611ms/step - loss: 3.4752 - val_loss: 4.0746\n",
      "Epoch 18/50\n",
      "290/290 [==============================] - 177s 610ms/step - loss: 3.4175 - val_loss: 4.0590\n",
      "Epoch 19/50\n",
      "290/290 [==============================] - 178s 614ms/step - loss: 3.3640 - val_loss: 4.0387\n",
      "Epoch 20/50\n",
      "290/290 [==============================] - 179s 617ms/step - loss: 3.3130 - val_loss: 4.0337\n",
      "Epoch 21/50\n",
      "290/290 [==============================] - 179s 619ms/step - loss: 3.2706 - val_loss: 4.0249\n",
      "Epoch 22/50\n",
      "290/290 [==============================] - 178s 615ms/step - loss: 3.2295 - val_loss: 4.0211\n",
      "Epoch 23/50\n",
      "290/290 [==============================] - 179s 617ms/step - loss: 3.1836 - val_loss: 4.0117\n",
      "Epoch 24/50\n",
      "290/290 [==============================] - 178s 615ms/step - loss: 3.1419 - val_loss: 4.0001\n",
      "Epoch 25/50\n",
      "290/290 [==============================] - 180s 621ms/step - loss: 3.1077 - val_loss: 4.0056\n",
      "Epoch 26/50\n",
      "290/290 [==============================] - 179s 618ms/step - loss: 3.0717 - val_loss: 3.9948\n",
      "Epoch 27/50\n",
      "290/290 [==============================] - 179s 616ms/step - loss: 3.0402 - val_loss: 4.0040\n",
      "Epoch 28/50\n",
      "290/290 [==============================] - 180s 620ms/step - loss: 3.0066 - val_loss: 3.9996\n",
      "Epoch 00028: early stopping\n"
     ]
    }
   ],
   "source": [
    "model.compile(optimizer='rmsprop', loss='sparse_categorical_crossentropy')\n",
    "es = EarlyStopping(monitor='val_loss', patience=2, verbose=1)\n",
    "history = model.fit(x=[encoder_input_train, decoder_input_train], y=decoder_target_train, \\\n",
    "          validation_data=([encoder_input_test, decoder_input_test], decoder_target_test), \\\n",
    "          batch_size=256, callbacks=[es], epochs=50)"
   ]
  },
  {
   "cell_type": "code",
   "execution_count": 36,
   "id": "4030f82f",
   "metadata": {},
   "outputs": [
    {
     "data": {
      "image/png": "[encoded data removed]",
      "text/plain": [
       "<Figure size 432x288 with 1 Axes>"
      ]
     },
     "metadata": {
      "needs_background": "light"
     },
     "output_type": "display_data"
    }
   ],
   "source": [
    "plt.plot(history.history['loss'], label='train')\n",
    "plt.plot(history.history['val_loss'], label='test')\n",
    "plt.legend()\n",
    "plt.show()"
   ]
  },
  {
   "cell_type": "markdown",
   "id": "957c9524",
   "metadata": {},
   "source": [
    "##### 모델학습이 안정적으로 수렴되었음을 그래프를 통해 확인했습니다"
   ]
  },
  {
   "cell_type": "markdown",
   "id": "b788c6f2",
   "metadata": {},
   "source": [
    "---\n",
    "\n",
    "# 4. 실제 결과와 요약문 비교하기 (추상적 요약)\n",
    "\n",
    "### 인퍼런스 모델 구현"
   ]
  },
  {
   "cell_type": "code",
   "execution_count": 37,
   "id": "74a48860",
   "metadata": {},
   "outputs": [],
   "source": [
    "src_index_to_word = src_tokenizer.index_word\n",
    "tar_word_to_index = tar_tokenizer.word_index\n",
    "tar_index_to_word = tar_tokenizer.index_word"
   ]
  },
  {
   "cell_type": "code",
   "execution_count": 38,
   "id": "0930014a",
   "metadata": {},
   "outputs": [],
   "source": [
    "encoder_model = Model(inputs=encoder_inputs, outputs=[encoder_outputs, state_h, state_c])\n",
    "\n",
    "decoder_state_input_h = Input(shape=(hidden_size,))\n",
    "decoder_state_input_c = Input(shape=(hidden_size,))\n",
    "\n",
    "dec_emb2 = dec_emb_layer(decoder_inputs)\n",
    "\n",
    "decoder_outputs2, state_h2, state_c2 = decoder_lstm(dec_emb2, initial_state=[decoder_state_input_h, decoder_state_input_c])\n",
    "\n",
    "decoder_hidden_state_input = Input(shape=(text_max_len, hidden_size))\n",
    "attn_out_inf = attn_layer([decoder_outputs2, decoder_hidden_state_input])\n",
    "decoder_inf_concat = Concatenate(axis=-1, name='concat')([decoder_outputs2, attn_out_inf])\n",
    "\n",
    "decoder_outputs2 = decoder_softmax_layer(decoder_inf_concat) \n",
    "\n",
    "decoder_model = Model(\n",
    "    [decoder_inputs] + [decoder_hidden_state_input, decoder_state_input_h, decoder_state_input_c],\n",
    "    [decoder_outputs2] + [state_h2, state_c2])"
   ]
  },
  {
   "cell_type": "code",
   "execution_count": 39,
   "id": "368b83a9",
   "metadata": {},
   "outputs": [
    {
     "name": "stdout",
     "output_type": "stream",
     "text": [
      "=3\n"
     ]
    }
   ],
   "source": [
    "# 인퍼런스 단계에서 단어 시퀀스를 완성하는 함수\n",
    "def decode_sequence(input_seq):\n",
    "    e_out, e_h, e_c = encoder_model.predict(input_seq)\n",
    "\n",
    "    target_seq = np.zeros((1,1))\n",
    "    target_seq[0, 0] = tar_word_to_index['sostoken']\n",
    "\n",
    "    stop_condition = False\n",
    "    decoded_sentence = ''\n",
    "    while not stop_condition: # stop_condition이 True가 될 때까지 루프 반복\n",
    "\n",
    "        output_tokens, h, c = decoder_model.predict([target_seq] + [e_out, e_h, e_c])\n",
    "        sampled_token_index = np.argmax(output_tokens[0, -1, :])\n",
    "        sampled_token = tar_index_to_word[sampled_token_index]\n",
    "\n",
    "        if (sampled_token!='eostoken'):\n",
    "            decoded_sentence += ' '+sampled_token\n",
    "\n",
    "        if (sampled_token == 'eostoken'  or len(decoded_sentence.split()) >= (headlines_max_len-1)):\n",
    "            stop_condition = True\n",
    "\n",
    "        target_seq = np.zeros((1,1))\n",
    "        target_seq[0, 0] = sampled_token_index\n",
    "\n",
    "        e_h, e_c = h, c\n",
    "\n",
    "    return decoded_sentence\n",
    "\n",
    "\n",
    "# 원문의 정수 시퀀스를 텍스트 시퀀스로 변환\n",
    "def seq2text(input_seq):\n",
    "    temp=''\n",
    "    for i in input_seq:\n",
    "        if (i!=0):\n",
    "            temp = temp + src_index_to_word[i]+' '\n",
    "    return temp\n",
    "\n",
    "\n",
    "# 요약문의 정수 시퀀스를 텍스트 시퀀스로 변환\n",
    "def seq2headlines(input_seq):\n",
    "    temp=''\n",
    "    for i in input_seq:\n",
    "        if ((i!=0 and i!=tar_word_to_index['sostoken']) and i!=tar_word_to_index['eostoken']):\n",
    "            temp = temp + tar_index_to_word[i] + ' '\n",
    "    return temp\n",
    "\n",
    "print('=3')"
   ]
  },
  {
   "cell_type": "code",
   "execution_count": 42,
   "id": "02c706f1",
   "metadata": {
    "scrolled": true
   },
   "outputs": [
    {
     "name": "stdout",
     "output_type": "stream",
     "text": [
      "원문 : bjp president amit shah tuesday said mandate delhi nation mandate people india firmly pm modi shah said target win mcd election built base formation bjp government delhi \n",
      "실제 요약 : delhi civic body mandate is nation mandate amit shah \n",
      "예측 요약 :  pm modi has no role in shah in shah\n",
      "\n",
      "\n",
      "원문 : marathi film producer atul sunday allegedly committed suicide pune hotel consuming poison per preliminary investigation earlier written facebook post marathi citing financial loss filmmaking family disputes reasons suicide film dhol though appreciated political plot performed well box office \n",
      "실제 요약 : marathi film producer ends life posts suicide note on fb \n",
      "예측 요약 :  kannada actor producer arrested for cheating in film\n",
      "\n",
      "\n",
      "원문 : death toll risen nine violence bharat bandh called dalit groups protest supreme court ruling sc st act six victims madhya pradesh two uttar pradesh one rajasthan clashes police forces damage government property roads trains reported across states \n",
      "실제 요약 : death toll rises to nine in violence during bharat bandh \n",
      "예측 요약 :  killed in sc seeking death for communal violence\n",
      "\n",
      "\n",
      "원문 : part initiative make hyderabad beggar free telangana government would citizens december information leading spotting beggars although earlier government notice banned begging two months ahead global entrepreneurship summit reports suggest ban may remain place stipulated period \n",
      "실제 요약 : hyderabad announces reward for information on beggars \n",
      "예측 요약 :  govt to give public to check public places in public\n",
      "\n",
      "\n",
      "원문 : police us state florida warned people shoot guns hurricane irma facebook event calling people went viral people said attend others marked interested event event description read let us show irma shoot first \n",
      "실제 요약 : us cops warn people to not shoot guns at hurricane irma \n",
      "예측 요약 :  people killed in us over shooting video of people\n",
      "\n",
      "\n",
      "원문 : maths teacher convicted sexually harassing three minor students two months ago allowed rejoin mumbai based school incident took place however school management cited labour legal employing teacher currently bail approached bombay high court lower court order \n",
      "실제 요약 : teacher convicted of sexually harassing students rejoins school \n",
      "예측 요약 :  teacher sexually sexually assaulted in school\n",
      "\n",
      "\n",
      "원문 : elon musk thursday tweeted received verbal government approval boring company build underground hyperloop connecting new york washington dc claimed hyperloop cut time taken travel two cities minutes currently takes hours minutes cover distance \n",
      "실제 요약 : have verbal approval to build new york dc hyperloop musk \n",
      "예측 요약 :  musk signs his own tunnel to buy elon musk\n",
      "\n",
      "\n",
      "원문 : annual gender balance awards uae criticised received entirely men sheikh mohammed bin rashid al maktoum vice president uae handed awards categories best personality supporting gender balance best federal authority supporting gender balance best gender balance initiative ceremony sunday \n",
      "실제 요약 : gender equality awards in uae received entirely by men \n",
      "예측 요약 :  mcdonald named uk best person of london\n",
      "\n",
      "\n",
      "원문 : former congress president sonia gandhi tuesday addressed first rally nearly two years bijapur ahead karnataka assembly elections participated election campaigning since august fell ill road show uttar pradesh varanasi reportedly gandhi third rally bijapur earlier campaigns \n",
      "실제 요약 : sonia gandhi addresses st poll rally after nearly years \n",
      "예측 요약 :  rahul gandhi to take oath as karnataka assembly polls\n",
      "\n",
      "\n",
      "원문 : us based software engineer aditi kamal former google yahoo designed patanjali messaging app kimbho rival whatsapp india quit project app aditi app messenger september differences terms expectations aditi patanjali ayurved ceo acharya balkrishna said \n",
      "실제 요약 : engineer behind patanjali kimbho app quits to relaunch own app \n",
      "예측 요약 :  google app to pay for jobs in app\n",
      "\n",
      "\n"
     ]
    }
   ],
   "source": [
    "for i in range(50, 60):\n",
    "    print(\"원문 :\", seq2text(encoder_input_test[i]))\n",
    "    print(\"실제 요약 :\", seq2headlines(decoder_input_test[i]))\n",
    "    print(\"예측 요약 :\", decode_sequence(encoder_input_test[i].reshape(1, text_max_len)))\n",
    "    print(\"\\n\")"
   ]
  },
  {
   "cell_type": "markdown",
   "id": "af9e8922",
   "metadata": {},
   "source": [
    "---\n",
    "\n",
    "# 5. Summa을 이용해서 추출적 요약해보기\n",
    "\n",
    "- data 데이터 전처리 (불용어, 정규화까지) 다시 진행 후 추출적 요약 처리"
   ]
  },
  {
   "cell_type": "code",
   "execution_count": 63,
   "id": "d79c5ce8",
   "metadata": {},
   "outputs": [
    {
     "data": {
      "text/html": [
       "<div>\n",
       "<style scoped>\n",
       "    .dataframe tbody tr th:only-of-type {\n",
       "        vertical-align: middle;\n",
       "    }\n",
       "\n",
       "    .dataframe tbody tr th {\n",
       "        vertical-align: top;\n",
       "    }\n",
       "\n",
       "    .dataframe thead th {\n",
       "        text-align: right;\n",
       "    }\n",
       "</style>\n",
       "<table border=\"1\" class=\"dataframe\">\n",
       "  <thead>\n",
       "    <tr style=\"text-align: right;\">\n",
       "      <th></th>\n",
       "      <th>headlines</th>\n",
       "      <th>text</th>\n",
       "    </tr>\n",
       "  </thead>\n",
       "  <tbody>\n",
       "    <tr>\n",
       "      <th>95978</th>\n",
       "      <td>Odisha teacher thrashed for sexually assaultin...</td>\n",
       "      <td>Villagers beat up a school teacher in Odisha's...</td>\n",
       "    </tr>\n",
       "    <tr>\n",
       "      <th>19</th>\n",
       "      <td>Odisha CM Patnaik controls mining mafia: Union...</td>\n",
       "      <td>Union Minister Dharmendra Pradhan on Wednesday...</td>\n",
       "    </tr>\n",
       "    <tr>\n",
       "      <th>85934</th>\n",
       "      <td>'Everything' becomes 1st video game to qualify...</td>\n",
       "      <td>Animated video game, 'Everything', by filmmake...</td>\n",
       "    </tr>\n",
       "    <tr>\n",
       "      <th>30112</th>\n",
       "      <td>Preity Zinta apologises as KXIP fail to qualif...</td>\n",
       "      <td>KXIP owner Preity Zinta on Monday took to Twit...</td>\n",
       "    </tr>\n",
       "    <tr>\n",
       "      <th>36152</th>\n",
       "      <td>Andhra university site hacked, Pak Zindabad sl...</td>\n",
       "      <td>Andhra University's official website was alleg...</td>\n",
       "    </tr>\n",
       "    <tr>\n",
       "      <th>13495</th>\n",
       "      <td>Idol of Goddess decorated with Ã¢ÂÂ¹4 cr cash...</td>\n",
       "      <td>On the occasion of Navaratri, the idol of Godd...</td>\n",
       "    </tr>\n",
       "    <tr>\n",
       "      <th>9407</th>\n",
       "      <td>Video shows Madhuri paying tribute to Sridevi ...</td>\n",
       "      <td>A video shows Madhuri Dixit dancing on late ac...</td>\n",
       "    </tr>\n",
       "    <tr>\n",
       "      <th>79654</th>\n",
       "      <td>Kamal asks fans to mail corruption complaint t...</td>\n",
       "      <td>Actor Kamal Haasan on Twitter urged his fans t...</td>\n",
       "    </tr>\n",
       "    <tr>\n",
       "      <th>59158</th>\n",
       "      <td>95-yr-old woman declared 'dead' casts vote in ...</td>\n",
       "      <td>A 95-year-old woman cast her vote in Uttar Pra...</td>\n",
       "    </tr>\n",
       "    <tr>\n",
       "      <th>44526</th>\n",
       "      <td>Taapsee, Saqib starrer 'Dil Juunglee' hits the...</td>\n",
       "      <td>Taapsee Pannu and Saqib Saleem starrer 'Dil Ju...</td>\n",
       "    </tr>\n",
       "  </tbody>\n",
       "</table>\n",
       "</div>"
      ],
      "text/plain": [
       "                                               headlines  \\\n",
       "95978  Odisha teacher thrashed for sexually assaultin...   \n",
       "19     Odisha CM Patnaik controls mining mafia: Union...   \n",
       "85934  'Everything' becomes 1st video game to qualify...   \n",
       "30112  Preity Zinta apologises as KXIP fail to qualif...   \n",
       "36152  Andhra university site hacked, Pak Zindabad sl...   \n",
       "13495  Idol of Goddess decorated with Ã¢ÂÂ¹4 cr cash...   \n",
       "9407   Video shows Madhuri paying tribute to Sridevi ...   \n",
       "79654  Kamal asks fans to mail corruption complaint t...   \n",
       "59158  95-yr-old woman declared 'dead' casts vote in ...   \n",
       "44526  Taapsee, Saqib starrer 'Dil Juunglee' hits the...   \n",
       "\n",
       "                                                    text  \n",
       "95978  Villagers beat up a school teacher in Odisha's...  \n",
       "19     Union Minister Dharmendra Pradhan on Wednesday...  \n",
       "85934  Animated video game, 'Everything', by filmmake...  \n",
       "30112  KXIP owner Preity Zinta on Monday took to Twit...  \n",
       "36152  Andhra University's official website was alleg...  \n",
       "13495  On the occasion of Navaratri, the idol of Godd...  \n",
       "9407   A video shows Madhuri Dixit dancing on late ac...  \n",
       "79654  Actor Kamal Haasan on Twitter urged his fans t...  \n",
       "59158  A 95-year-old woman cast her vote in Uttar Pra...  \n",
       "44526  Taapsee Pannu and Saqib Saleem starrer 'Dil Ju...  "
      ]
     },
     "execution_count": 63,
     "metadata": {},
     "output_type": "execute_result"
    }
   ],
   "source": [
    "import urllib.request\n",
    "from summa.summarizer import summarize\n",
    "\n",
    "urllib.request.urlretrieve(\"https://raw.githubusercontent.com/sunnysai12345/News_Summary/master/news_summary_more.csv\", filename=\"news_summary_more.csv\")\n",
    "extractiveData = pd.read_csv('news_summary_more.csv', encoding='iso-8859-1')\n",
    "\n",
    "extractiveData.sample(10)"
   ]
  },
  {
   "cell_type": "markdown",
   "id": "8f983a73",
   "metadata": {},
   "source": [
    "### 원문의 0.5%만을 출력하도록 설정"
   ]
  },
  {
   "cell_type": "code",
   "execution_count": 74,
   "id": "1f256e23",
   "metadata": {},
   "outputs": [],
   "source": [
    "extractiveData['text5summary'] = extractiveData['text'].apply(lambda x: summarize(x, ratio=0.5))"
   ]
  },
  {
   "cell_type": "code",
   "execution_count": 75,
   "id": "b7918ebb",
   "metadata": {},
   "outputs": [
    {
     "data": {
      "text/plain": [
       "0    upGrad's Online Power Learning has powered 3 l...\n",
       "1    Users get one CRED coin per rupee of bill paid...\n",
       "2    The match witnessed India getting all out for ...\n",
       "3    Also, customers have options to insure against...\n",
       "4    Speaking about the sexual harassment allegatio...\n",
       "Name: text5summary, dtype: object"
      ]
     },
     "execution_count": 75,
     "metadata": {},
     "output_type": "execute_result"
    }
   ],
   "source": [
    "extractiveData['text5summary'].head()"
   ]
  },
  {
   "cell_type": "markdown",
   "id": "4dd0169d",
   "metadata": {},
   "source": [
    "### 단어의 수로 요약문의 크기를 설정"
   ]
  },
  {
   "cell_type": "code",
   "execution_count": 76,
   "id": "9a6710c8",
   "metadata": {},
   "outputs": [],
   "source": [
    "extractiveData['text50words'] = extractiveData['text'].apply(lambda x: summarize(x, words=15))"
   ]
  },
  {
   "cell_type": "code",
   "execution_count": 77,
   "id": "2c937f7f",
   "metadata": {},
   "outputs": [
    {
     "data": {
      "text/plain": [
       "0    upGrad's Online Power Learning has powered 3 l...\n",
       "1    Users get one CRED coin per rupee of bill paid...\n",
       "2    The match witnessed India getting all out for ...\n",
       "3    Also, customers have options to insure against...\n",
       "4                                                     \n",
       "Name: text50words, dtype: object"
      ]
     },
     "execution_count": 77,
     "metadata": {},
     "output_type": "execute_result"
    }
   ],
   "source": [
    "extractiveData['text50words'].head()"
   ]
  },
  {
   "cell_type": "markdown",
   "id": "baaa08c4",
   "metadata": {},
   "source": [
    "---\n",
    "# 추상적 요약과 추출적 요약 분석 결과\n",
    "\n",
    "### 추상적 요약 분석"
   ]
  },
  {
   "cell_type": "code",
   "execution_count": 56,
   "id": "4f81698e",
   "metadata": {
    "scrolled": true
   },
   "outputs": [
    {
     "name": "stdout",
     "output_type": "stream",
     "text": [
      "원문 : town colorado us passed ordinance requiring every household gun members town board voted favour ordinance inspired family protection ordinance passed town georgia ordinance provides emergency management general safety residents \n",
      "실제 요약 : town in requires every household to own gun \n",
      "예측 요약 :  us embassy in law to be used to protect chicken\n",
      "\n",
      "\n",
      "원문 : role charlie mother biopic titled played real life daughter known silent political english actor made film debut movie making living actor whose th death anniversary observed monday received honorary oscar \n",
      "실제 요약 : charlie daughter played his mother in his biopic \n",
      "예측 요약 :  sridevi daughter to play mother in biopic\n",
      "\n",
      "\n",
      "원문 : welsh international gareth bale scored left footed bicycle kick real madrid minutes coming substitute final champions league saturday bale followed long range effort liverpool goalkeeper concede goal bale later called bicycle kick goal best goal career \n",
      "실제 요약 : watch bale bicycle kick that won real madrid the cl title \n",
      "예측 요약 :  ronaldo scores hat trick in minutes as madrid\n",
      "\n",
      "\n",
      "원문 : india largest carmaker maruti suzuki india md ceo said policy stability important industry ecosystem business environment becoming uncertain said auto industry policy sensitive one change regulation far reaching impact growth manufacturing \n",
      "실제 요약 : policy stability important for auto industry maruti suzuki \n",
      "예측 요약 :  india will not be in the tata motors md\n",
      "\n",
      "\n",
      "원문 : philippine president rodrigo duterte said get son killed drug trafficking allegations proven adding people anything say duterte said protect police carry killing drug personalities killed police operations since duterte took office last year \n",
      "실제 요약 : will get son killed if he is involved in drugs duterte \n",
      "예측 요약 :  philippine prez duterte calls drug drug drug\n",
      "\n",
      "\n"
     ]
    }
   ],
   "source": [
    "for i in range(0, 5):\n",
    "    print(\"원문 :\", seq2text(encoder_input_test[i]))\n",
    "    print(\"실제 요약 :\", seq2headlines(decoder_input_test[i]))\n",
    "    print(\"예측 요약 :\", decode_sequence(encoder_input_test[i].reshape(1, text_max_len)))\n",
    "    print(\"\\n\")"
   ]
  },
  {
   "cell_type": "markdown",
   "id": "5673d87d",
   "metadata": {},
   "source": [
    "추상적 요약 결과 특징을 정리하면 다음과 같습니다. \n",
    "\n",
    "#### 문법 완성도가 떨어집니다. \n",
    "1. 주어에 있으면 안되는 단어가 주어에 위치함\n",
    "2. 데이터 전처리로 인해 특수문자가 없어서 소유격과 같은 단어구성이 떨어짐\n",
    "\n",
    "#### 핵심 단어를 (낮은 비율로) 포함합니다.\n",
    "낮은 비율이긴 하지만 핵심단어를 포함합니다. \n",
    "- 어떤 문장에서는 \"누군가의 daughter\", \"play(연기하다)\" 핵심 단어가 포함되는 것을 찾을 수 있습니다. (문법은 여전히 틀림)\n",
    "    ```\n",
    "    실제 요약 : charlie daughter played his mother in his biopic \n",
    "    예측 요약 :  sridevi daughter to play mother in biopic\n",
    "    ```\n",
    "- 그러나 어떤 문장에서 전혀 상관없는 단어들로 구성되기도 합니다.\n",
    "    ```\n",
    "    실제 요약 : town in requires every household to own gun \n",
    "    예측 요약 :  us embassy in law to be used to protect chicken\n",
    "    ```\n"
   ]
  },
  {
   "cell_type": "markdown",
   "id": "42cd4b81",
   "metadata": {},
   "source": [
    "### 추출적 요약 분석"
   ]
  },
  {
   "cell_type": "code",
   "execution_count": 81,
   "id": "e587c91f",
   "metadata": {
    "scrolled": true
   },
   "outputs": [
    {
     "name": "stdout",
     "output_type": "stream",
     "text": [
      "원문 : Saurav Kant, an alumnus of upGrad and IIIT-B's PG Program in Machine learning and Artificial Intelligence, was a Sr Systems Engineer at Infosys with almost 5 years of work experience. The program and upGrad's 360-degree career support helped him transition to a Data Scientist at Tech Mahindra with 90% salary hike. upGrad's Online Power Learning has powered 3 lakh+ careers.\n",
      "\n",
      "실제 요약 : upGrad learner switches to career in ML & Al with 90% salary hike\n",
      "\n",
      "0.5% 출력 : upGrad's Online Power Learning has powered 3 lakh+ careers.\n",
      "\n",
      "단어 15개 출력 :  upGrad's Online Power Learning has powered 3 lakh+ careers.\n",
      "\n",
      "\n",
      "\n",
      "원문 : Kunal Shah's credit card bill payment platform, CRED, gave users a chance to win free food from Swiggy for one year. Pranav Kaushik, a Delhi techie, bagged this reward after spending 2000 CRED coins. Users get one CRED coin per rupee of bill paid, which can be used to avail rewards from brands like Ixigo, BookMyShow, UberEats, Cult.Fit and more.\n",
      "\n",
      "실제 요약 : Delhi techie wins free food from Swiggy for one year on CRED\n",
      "\n",
      "0.5% 출력 : Users get one CRED coin per rupee of bill paid, which can be used to avail rewards from brands like Ixigo, BookMyShow, UberEats, Cult.Fit and more.\n",
      "\n",
      "단어 15개 출력 :  Users get one CRED coin per rupee of bill paid, which can be used to avail rewards from brands like Ixigo, BookMyShow, UberEats, Cult.Fit and more.\n",
      "\n",
      "\n",
      "\n",
      "원문 : New Zealand defeated India by 8 wickets in the fourth ODI at Hamilton on Thursday to win their first match of the five-match ODI series. India lost an international match under Rohit Sharma's captaincy after 12 consecutive victories dating back to March 2018. The match witnessed India getting all out for 92, their seventh lowest total in ODI cricket history.\n",
      "\n",
      "실제 요약 : New Zealand end Rohit Sharma-led India's 12-match winning streak\n",
      "\n",
      "0.5% 출력 : The match witnessed India getting all out for 92, their seventh lowest total in ODI cricket history.\n",
      "\n",
      "단어 15개 출력 :  The match witnessed India getting all out for 92, their seventh lowest total in ODI cricket history.\n",
      "\n",
      "\n",
      "\n",
      "원문 : With Aegon Life iTerm Insurance plan, customers can enjoy tax benefits on your premiums paid and save up to Ã¢ÂÂ¹46,800^ on taxes. The plan provides life cover up to the age of 100 years. Also, customers have options to insure against Critical Illnesses, Disability and Accidental Death Benefit Rider with a life cover up to the age of 80 years.\n",
      "\n",
      "실제 요약 : Aegon life iTerm insurance plan helps customers save tax\n",
      "\n",
      "0.5% 출력 : Also, customers have options to insure against Critical Illnesses, Disability and Accidental Death Benefit Rider with a life cover up to the age of 80 years.\n",
      "\n",
      "단어 15개 출력 :  Also, customers have options to insure against Critical Illnesses, Disability and Accidental Death Benefit Rider with a life cover up to the age of 80 years.\n",
      "\n",
      "\n",
      "\n",
      "원문 : Speaking about the sexual harassment allegations against Rajkumar Hirani, Sonam Kapoor said, \"I've known Hirani for many years...What if it's not true, the [#MeToo] movement will get derailed.\" \"In the #MeToo movement, I always believe a woman. But in this case, we need to reserve our judgment,\" she added. Hirani has been accused by an assistant who worked in 'Sanju'.\n",
      "\n",
      "실제 요약 : Have known Hirani for yrs, what if MeToo claims are not true: Sonam\n",
      "\n",
      "0.5% 출력 : Speaking about the sexual harassment allegations against Rajkumar Hirani, Sonam Kapoor said, \"I've known Hirani for many years...What if it's not true, the [#MeToo] movement will get derailed.\" \"In the #MeToo movement, I always believe a woman.\n",
      "\n",
      "단어 15개 출력 :  \n",
      "\n",
      "\n",
      "\n"
     ]
    }
   ],
   "source": [
    "for i in range(0, 5):\n",
    "    print(\"원문 :\", extractiveData['text'].iloc[i])\n",
    "    print(\"\\n실제 요약 :\", extractiveData['headlines'].iloc[i])\n",
    "    print(\"\\n0.5% 출력 :\", extractiveData['text5summary'].iloc[i])\n",
    "    print(\"\\n단어 15개 출력 : \", extractiveData['text50words'].iloc[i])\n",
    "    \n",
    "    print('\\n\\n')"
   ]
  },
  {
   "cell_type": "markdown",
   "id": "bb80b43e",
   "metadata": {},
   "source": [
    "추출적 요약 결과 특징을 정리하면 다음과 같습니다. \n",
    "\n",
    "#### 문법 완성도가 높습니다.\n",
    "1. 주술목 모두 적절한 위치에 있습니다.\n",
    "2. 원문의 문장을 활용하기 때문에 문장 구성이 알맞습니다.\n",
    "\n",
    "#### 핵심 단어를 포함하지 못합니다.\n",
    "- 추출적 요약은 원문에서 요약할 문장을 꼽는 형태로 결과를 출력합니다. 그러나 출력한 문장이 핵심 단어를 포함하는 경우는 적고, 실제 요약 결과와 전혀 다른 문장을 보여줍니다."
   ]
  },
  {
   "cell_type": "markdown",
   "id": "1baa0339",
   "metadata": {},
   "source": [
    "---\n",
    "\n",
    "# 회고\n",
    "\n",
    "### 1. 어려웠던 점\n",
    "- 학습하는데 시간이 오래 걸렸던 점이 쉽지 않았습니다. 원본 텍스트의 max_len 설정을 변경하면서 실험해보고 싶었는데.. 학습이 너무 오래걸려 (시간 관계상) 하지 못했습니다.\n",
    "\n",
    "\n",
    "### 2. 시도한 것들\n",
    "- 정수 인코딩에 적절한 범위를 찾기 위해 값을 수정해봤습니다.\n",
    "- 데이터 전처리에 몇가지 특수기호를 제거하도록 적용해보기도 했었습니다만, 결과에 큰 차이가 없었습니다.\n",
    "\n",
    "\n",
    "### 3. 자기 다짐\n",
    "```\n",
    "막판에 제출 마감에 쫓겨 시간적 여유가 없어서 시도하지 못한 부분들이 아쉽습니다. 다음에는 연휴라고 손 놓지말고 미리미리.. 시간날때 천천히 모델학습 돌려놓으면서 과제 수행해야겠다고 다짐하게 됐습니다.\n",
    "```\n"
   ]
  }
 ],
 "metadata": {
  "kernelspec": {
   "display_name": "Python 3 (ipykernel)",
   "language": "python",
   "name": "python3"
  },
  "language_info": {
   "codemirror_mode": {
    "name": "ipython",
    "version": 3
   },
   "file_extension": ".py",
   "mimetype": "text/x-python",
   "name": "python",
   "nbconvert_exporter": "python",
   "pygments_lexer": "ipython3",
   "version": "3.9.7"
  }
 },
 "nbformat": 4,
 "nbformat_minor": 5
}
