{
 "cells": [
  {
   "cell_type": "markdown",
   "id": "c5fc9d37",
   "metadata": {},
   "source": [
    "# 네이버 영화리뷰 감성분석 도전하기"
   ]
  },
  {
   "cell_type": "code",
   "execution_count": 1,
   "id": "2831d28e",
   "metadata": {},
   "outputs": [],
   "source": [
    "import numpy as np\n",
    "import tensorflow as tf\n",
    "import pandas as pd\n",
    "import matplotlib.pyplot as plt\n",
    "import os"
   ]
  },
  {
   "cell_type": "markdown",
   "id": "298ebcd7",
   "metadata": {},
   "source": [
    "---"
   ]
  },
  {
   "cell_type": "markdown",
   "id": "6439a6c5",
   "metadata": {},
   "source": [
    "# 1. 데이터 준비와 확인"
   ]
  },
  {
   "cell_type": "code",
   "execution_count": 2,
   "id": "c5314873",
   "metadata": {},
   "outputs": [
    {
     "name": "stdout",
     "output_type": "stream",
     "text": [
      "(150000, 3)\n"
     ]
    },
    {
     "data": {
      "text/html": [
       "<div>\n",
       "<style scoped>\n",
       "    .dataframe tbody tr th:only-of-type {\n",
       "        vertical-align: middle;\n",
       "    }\n",
       "\n",
       "    .dataframe tbody tr th {\n",
       "        vertical-align: top;\n",
       "    }\n",
       "\n",
       "    .dataframe thead th {\n",
       "        text-align: right;\n",
       "    }\n",
       "</style>\n",
       "<table border=\"1\" class=\"dataframe\">\n",
       "  <thead>\n",
       "    <tr style=\"text-align: right;\">\n",
       "      <th></th>\n",
       "      <th>id</th>\n",
       "      <th>document</th>\n",
       "      <th>label</th>\n",
       "    </tr>\n",
       "  </thead>\n",
       "  <tbody>\n",
       "    <tr>\n",
       "      <th>0</th>\n",
       "      <td>9976970</td>\n",
       "      <td>아 더빙.. 진짜 짜증나네요 목소리</td>\n",
       "      <td>0</td>\n",
       "    </tr>\n",
       "    <tr>\n",
       "      <th>1</th>\n",
       "      <td>3819312</td>\n",
       "      <td>흠...포스터보고 초딩영화줄....오버연기조차 가볍지 않구나</td>\n",
       "      <td>1</td>\n",
       "    </tr>\n",
       "    <tr>\n",
       "      <th>2</th>\n",
       "      <td>10265843</td>\n",
       "      <td>너무재밓었다그래서보는것을추천한다</td>\n",
       "      <td>0</td>\n",
       "    </tr>\n",
       "    <tr>\n",
       "      <th>3</th>\n",
       "      <td>9045019</td>\n",
       "      <td>교도소 이야기구먼 ..솔직히 재미는 없다..평점 조정</td>\n",
       "      <td>0</td>\n",
       "    </tr>\n",
       "    <tr>\n",
       "      <th>4</th>\n",
       "      <td>6483659</td>\n",
       "      <td>사이몬페그의 익살스런 연기가 돋보였던 영화!스파이더맨에서 늙어보이기만 했던 커스틴 ...</td>\n",
       "      <td>1</td>\n",
       "    </tr>\n",
       "  </tbody>\n",
       "</table>\n",
       "</div>"
      ],
      "text/plain": [
       "         id                                           document  label\n",
       "0   9976970                                아 더빙.. 진짜 짜증나네요 목소리      0\n",
       "1   3819312                  흠...포스터보고 초딩영화줄....오버연기조차 가볍지 않구나      1\n",
       "2  10265843                                  너무재밓었다그래서보는것을추천한다      0\n",
       "3   9045019                      교도소 이야기구먼 ..솔직히 재미는 없다..평점 조정      0\n",
       "4   6483659  사이몬페그의 익살스런 연기가 돋보였던 영화!스파이더맨에서 늙어보이기만 했던 커스틴 ...      1"
      ]
     },
     "execution_count": 2,
     "metadata": {},
     "output_type": "execute_result"
    }
   ],
   "source": [
    "train_data = pd.read_table('./data/ratings_train.txt')\n",
    "test_data = pd.read_table('./data/ratings_test.txt')\n",
    "\n",
    "print(train_data.shape)\n",
    "train_data.head()"
   ]
  },
  {
   "cell_type": "code",
   "execution_count": 3,
   "id": "1fef20ee",
   "metadata": {},
   "outputs": [
    {
     "name": "stdout",
     "output_type": "stream",
     "text": [
      "(50000, 3)\n"
     ]
    },
    {
     "data": {
      "text/html": [
       "<div>\n",
       "<style scoped>\n",
       "    .dataframe tbody tr th:only-of-type {\n",
       "        vertical-align: middle;\n",
       "    }\n",
       "\n",
       "    .dataframe tbody tr th {\n",
       "        vertical-align: top;\n",
       "    }\n",
       "\n",
       "    .dataframe thead th {\n",
       "        text-align: right;\n",
       "    }\n",
       "</style>\n",
       "<table border=\"1\" class=\"dataframe\">\n",
       "  <thead>\n",
       "    <tr style=\"text-align: right;\">\n",
       "      <th></th>\n",
       "      <th>id</th>\n",
       "      <th>document</th>\n",
       "      <th>label</th>\n",
       "    </tr>\n",
       "  </thead>\n",
       "  <tbody>\n",
       "    <tr>\n",
       "      <th>0</th>\n",
       "      <td>6270596</td>\n",
       "      <td>굳 ㅋ</td>\n",
       "      <td>1</td>\n",
       "    </tr>\n",
       "    <tr>\n",
       "      <th>1</th>\n",
       "      <td>9274899</td>\n",
       "      <td>GDNTOPCLASSINTHECLUB</td>\n",
       "      <td>0</td>\n",
       "    </tr>\n",
       "    <tr>\n",
       "      <th>2</th>\n",
       "      <td>8544678</td>\n",
       "      <td>뭐야 이 평점들은.... 나쁘진 않지만 10점 짜리는 더더욱 아니잖아</td>\n",
       "      <td>0</td>\n",
       "    </tr>\n",
       "    <tr>\n",
       "      <th>3</th>\n",
       "      <td>6825595</td>\n",
       "      <td>지루하지는 않은데 완전 막장임... 돈주고 보기에는....</td>\n",
       "      <td>0</td>\n",
       "    </tr>\n",
       "    <tr>\n",
       "      <th>4</th>\n",
       "      <td>6723715</td>\n",
       "      <td>3D만 아니었어도 별 다섯 개 줬을텐데.. 왜 3D로 나와서 제 심기를 불편하게 하죠??</td>\n",
       "      <td>0</td>\n",
       "    </tr>\n",
       "  </tbody>\n",
       "</table>\n",
       "</div>"
      ],
      "text/plain": [
       "        id                                           document  label\n",
       "0  6270596                                                굳 ㅋ      1\n",
       "1  9274899                               GDNTOPCLASSINTHECLUB      0\n",
       "2  8544678             뭐야 이 평점들은.... 나쁘진 않지만 10점 짜리는 더더욱 아니잖아      0\n",
       "3  6825595                   지루하지는 않은데 완전 막장임... 돈주고 보기에는....      0\n",
       "4  6723715  3D만 아니었어도 별 다섯 개 줬을텐데.. 왜 3D로 나와서 제 심기를 불편하게 하죠??      0"
      ]
     },
     "execution_count": 3,
     "metadata": {},
     "output_type": "execute_result"
    }
   ],
   "source": [
    "print(test_data.shape)\n",
    "test_data.head()"
   ]
  },
  {
   "cell_type": "markdown",
   "id": "6911e804",
   "metadata": {},
   "source": [
    "# 2. 데이터 구성\n",
    "\n",
    "1. docoment 컬럼 기준으로 데이터 중복 제거\n",
    "2. NaN 하나라도 컬럼에 있으면 결측치 제거\n",
    "3. Mecab으로 형태소 추출 -> 토큰화\n",
    "4. 안쓰는 불용어(stopwords)는 빼기\n",
    "5. 토큰들(단어) 각각 개수를 세봤을 때, 많은 것 순으로 정렬한 뒤 {10000-4}개 단어들만 가져와서\n",
    "    - 별도 `'<PAD>', '<BOS>', '<UNK>', '<UNUSED>'` 추가\n",
    "6. 단어 딕셔너리 만들기; word_to_index, index_to_word"
   ]
  },
  {
   "cell_type": "code",
   "execution_count": 127,
   "id": "55face26",
   "metadata": {},
   "outputs": [
    {
     "name": "stdout",
     "output_type": "stream",
     "text": [
      "안녕하세요 주인공이 말했다\n",
      "True\n",
      "False\n"
     ]
    }
   ],
   "source": [
    "import re\n",
    "\n",
    "def preprocess_sentence(sentence):\n",
    "#     sentence = re.sub(r\"[a-zA-Z!@#$%^&*()~!?\\'\\\".,]+\", \" \", sentence)\n",
    "    sentence = re.sub(r\"[^ 가-힣]+\", \" \", sentence)\n",
    "    sentence = re.sub(r'[\" \"]+', \" \", sentence)\n",
    "    sentence = sentence.strip()\n",
    "    return sentence\n",
    "\n",
    "\n",
    "print(preprocess_sentence(\"This is sample sentence. \\\"안녕하세요~~~~~\\\" 주인공이 말했다\"))"
   ]
  },
  {
   "cell_type": "code",
   "execution_count": 165,
   "id": "611db13b",
   "metadata": {},
   "outputs": [],
   "source": [
    "from konlpy.tag import Mecab\n",
    "from collections import Counter\n",
    "\n",
    "tokenizer = Mecab()\n",
    "stopwords = ['의','가','이','은','들','는','좀','잘','걍','과','도','를','으로','자','에','와','한','하다']\n",
    "\n",
    "def load_data(train_data, test_data, num_words=10000):\n",
    "    train_data.drop_duplicates(subset=['document'], inplace=True)\n",
    "    train_data = train_data.dropna(how = 'any') \n",
    "    test_data.drop_duplicates(subset=['document'], inplace=True)\n",
    "    test_data = test_data.dropna(how = 'any') \n",
    "    \n",
    "    X_train = []\n",
    "    for sentence in train_data['document']:\n",
    "        s = preprocess_sentence(sentence)\n",
    "        temp_X = tokenizer.morphs(s) # 토큰화\n",
    "        temp_X = [word for word in temp_X if not word in stopwords] # 불용어 제거\n",
    "        X_train.append(temp_X)\n",
    "\n",
    "    X_test = []\n",
    "    for sentence in test_data['document']:\n",
    "        s = preprocess_sentence(sentence)\n",
    "        temp_X = tokenizer.morphs(s) # 토큰화\n",
    "        temp_X = [word for word in temp_X if not word in stopwords] # 불용어 제거\n",
    "        X_test.append(temp_X)\n",
    "    \n",
    "    words = np.concatenate(X_train).tolist()\n",
    "    counter = Counter(words)\n",
    "    counter = counter.most_common(num_words-4) # 많은 것 순으로 정렬한 뒤, {num_words-4}개 단어들만 반환\n",
    "    vocab = ['<PAD>', '<BOS>', '<UNK>', '<UNUSED>'] + [key for key, _ in counter]\n",
    "    word_to_index = {word:index for index, word in enumerate(vocab)}\n",
    "        \n",
    "    def get_indexlist(wordlist):\n",
    "        return [word_to_index[word] if word in word_to_index else word_to_index['<UNK>'] for word in wordlist]\n",
    "        \n",
    "    X_train = list(map(get_indexlist, X_train)) #\n",
    "    X_test = list(map(get_indexlist, X_test))\n",
    "        \n",
    "    return X_train, np.array(list(train_data['label'])), X_test, np.array(list(test_data['label'])), word_to_index"
   ]
  },
  {
   "cell_type": "code",
   "execution_count": 166,
   "id": "c76dcc5a",
   "metadata": {},
   "outputs": [
    {
     "name": "stdout",
     "output_type": "stream",
     "text": [
      "46885\n"
     ]
    }
   ],
   "source": [
    "X_train, y_train, X_test, y_test, word_to_index = load_data(train_data, test_data)"
   ]
  },
  {
   "cell_type": "code",
   "execution_count": 167,
   "id": "c420a6d4",
   "metadata": {},
   "outputs": [],
   "source": [
    "index_to_word = {index:word for word, index in word_to_index.items()}"
   ]
  },
  {
   "cell_type": "code",
   "execution_count": 168,
   "id": "e25c03cc",
   "metadata": {},
   "outputs": [
    {
     "data": {
      "text/plain": [
       "146182"
      ]
     },
     "execution_count": 168,
     "metadata": {},
     "output_type": "execute_result"
    }
   ],
   "source": [
    "len(X_train)"
   ]
  },
  {
   "cell_type": "markdown",
   "id": "e8ed57a5",
   "metadata": {},
   "source": [
    "### 데이터 확인"
   ]
  },
  {
   "cell_type": "code",
   "execution_count": 169,
   "id": "a6c9d957",
   "metadata": {},
   "outputs": [],
   "source": [
    "# 문장 1개를 활용할 딕셔너리와 함께 주면, 단어 인덱스 리스트 벡터로 변환해 주는 함수입니다. \n",
    "# 단, 모든 문장은 <BOS>로 시작하는 것으로 합니다. \n",
    "def get_encoded_sentence(sentence, word_to_index):\n",
    "    return [word_to_index['<BOS>']]+[word_to_index[word] if word in word_to_index else word_to_index['<UNK>'] for word in sentence.split()]\n",
    "\n",
    "# 여러 개의 문장 리스트를 한꺼번에 단어 인덱스 리스트 벡터로 encode해 주는 함수입니다. \n",
    "def get_encoded_sentences(sentences, word_to_index):\n",
    "    return [get_encoded_sentence(sentence, word_to_index) for sentence in sentences]\n",
    "\n",
    "# 숫자 벡터로 encode된 문장을 원래대로 decode하는 함수입니다. \n",
    "def get_decoded_sentence(encoded_sentence, index_to_word):\n",
    "    return ' '.join(index_to_word[index] if index in index_to_word else '<UNK>' for index in encoded_sentence[1:])  #[1:]를 통해 <BOS>를 제외\n",
    "\n",
    "# 여러 개의 숫자 벡터로 encode된 문장을 한꺼번에 원래대로 decode하는 함수입니다. \n",
    "def get_decoded_sentences(encoded_sentences, index_to_word):\n",
    "    return [get_decoded_sentence(encoded_sentence, index_to_word) for encoded_sentence in encoded_sentences]"
   ]
  },
  {
   "cell_type": "markdown",
   "id": "097e9fae",
   "metadata": {},
   "source": [
    "---\n",
    "\n",
    "# 3. 모델 구성을 위한 데이터 분석 및 가공\n",
    "\n",
    "- 데이터셋 내 문장 길이 분포\n",
    "- 적절한 최대 문장 길이 지정\n",
    "- keras.preprocessing.sequence.pad_sequences 을 활용한 패딩 추가"
   ]
  },
  {
   "cell_type": "markdown",
   "id": "669727cb",
   "metadata": {},
   "source": [
    "### 데이터셋 내 문장 길이 분포"
   ]
  },
  {
   "cell_type": "code",
   "execution_count": 171,
   "id": "63fcf317",
   "metadata": {},
   "outputs": [
    {
     "name": "stdout",
     "output_type": "stream",
     "text": [
      "문장길이 평균 :  13.551139301419584\n",
      "문장길이 최대 :  83\n",
      "문장길이 표준편차 :  11.439028396810833\n"
     ]
    }
   ],
   "source": [
    "total_data_text = list(X_train) + list(X_test)\n",
    "\n",
    "num_tokens = [len(tokens) for tokens in total_data_text]\n",
    "num_tokens = np.array(num_tokens)\n",
    "\n",
    "print('문장길이 평균 : ', np.mean(num_tokens))\n",
    "print('문장길이 최대 : ', np.max(num_tokens))\n",
    "print('문장길이 표준편차 : ', np.std(num_tokens))"
   ]
  },
  {
   "cell_type": "code",
   "execution_count": 172,
   "id": "eb100f1c",
   "metadata": {},
   "outputs": [],
   "source": [
    "import matplotlib.pyplot as plt"
   ]
  },
  {
   "cell_type": "markdown",
   "id": "edfdc8ea",
   "metadata": {},
   "source": [
    "### 적절한 최대 문장 길이 지정"
   ]
  },
  {
   "cell_type": "code",
   "execution_count": 201,
   "id": "c73deba2",
   "metadata": {},
   "outputs": [
    {
     "name": "stdout",
     "output_type": "stream",
     "text": [
      "pad_sequences maxlen :  42\n",
      "전체 문장의 0.9551702425014974%가 maxlen 설정값 이내에 포함됩니다. \n"
     ]
    }
   ],
   "source": [
    "max_tokens = np.mean(num_tokens) + 2.5 * np.std(num_tokens)\n",
    "maxlen = int(max_tokens)\n",
    "\n",
    "print('pad_sequences maxlen : ', maxlen)\n",
    "print('전체 문장의 {}%가 maxlen 설정값 이내에 포함됩니다. '.format(np.sum(num_tokens < max_tokens) / len(num_tokens)))"
   ]
  },
  {
   "cell_type": "markdown",
   "id": "531c6e0d",
   "metadata": {},
   "source": [
    "### 패딩 추가"
   ]
  },
  {
   "cell_type": "code",
   "execution_count": 202,
   "id": "792068c4",
   "metadata": {},
   "outputs": [
    {
     "name": "stdout",
     "output_type": "stream",
     "text": [
      "(146182, 42)\n",
      "(49157, 42)\n"
     ]
    }
   ],
   "source": [
    "X_train = tf.keras.preprocessing.sequence.pad_sequences(X_train,\n",
    "                                                        value=word_to_index[\"<PAD>\"],\n",
    "                                                        padding='pre',\n",
    "                                                        maxlen=maxlen)\n",
    "\n",
    "X_test = tf.keras.preprocessing.sequence.pad_sequences(X_test,\n",
    "                                                       value=word_to_index[\"<PAD>\"],\n",
    "                                                       padding='pre',\n",
    "                                                       maxlen=maxlen)\n",
    "\n",
    "print(X_train.shape)\n",
    "print(X_test.shape)"
   ]
  },
  {
   "cell_type": "markdown",
   "id": "891748f5",
   "metadata": {},
   "source": [
    "---\n",
    "\n",
    "# 4. 모델 구성 및 validation set 구성"
   ]
  },
  {
   "cell_type": "code",
   "execution_count": 203,
   "id": "25c1ebce",
   "metadata": {},
   "outputs": [],
   "source": [
    "VOCAB_SIZE = 10000\n",
    "WORD_VECTOR_DIM = 10"
   ]
  },
  {
   "cell_type": "markdown",
   "id": "d226c9c4",
   "metadata": {},
   "source": [
    "### RNN 모델 구성"
   ]
  },
  {
   "cell_type": "code",
   "execution_count": 241,
   "id": "35742829",
   "metadata": {},
   "outputs": [],
   "source": [
    "def getRNN_model(vocab_size, word_vector_dim, embedding_layer=False):\n",
    "    if not embedding_layer:\n",
    "        embedding_layer = tf.keras.layers.Embedding(vocab_size, word_vector_dim, input_shape=(None,))\n",
    "        \n",
    "    model = tf.keras.Sequential()\n",
    "    model.add(embedding_layer)\n",
    "    model.add(tf.keras.layers.LSTM(8))\n",
    "    model.add(tf.keras.layers.Dense(8, activation='relu'))\n",
    "    model.add(tf.keras.layers.Dense(1, activation='sigmoid'))\n",
    "\n",
    "    model.summary()\n",
    "    \n",
    "    return model"
   ]
  },
  {
   "cell_type": "markdown",
   "id": "60c2c0f5",
   "metadata": {},
   "source": [
    "### 1-D CNN"
   ]
  },
  {
   "cell_type": "code",
   "execution_count": 242,
   "id": "88ae016f",
   "metadata": {},
   "outputs": [],
   "source": [
    "def getCNN_model(vocab_size, word_vector_dim, embedding_layer=False):\n",
    "    if not embedding_layer:\n",
    "        embedding_layer = tf.keras.layers.Embedding(vocab_size, word_vector_dim, input_shape=(None,))\n",
    "        \n",
    "    model = tf.keras.Sequential()\n",
    "    model.add(embedding_layer)\n",
    "    model.add(tf.keras.layers.Conv1D(16, 7, activation='relu'))\n",
    "    model.add(tf.keras.layers.MaxPooling1D(5))\n",
    "    model.add(tf.keras.layers.Conv1D(16, 7, activation='relu'))\n",
    "    model.add(tf.keras.layers.GlobalMaxPooling1D())\n",
    "    model.add(tf.keras.layers.Dense(8, activation='relu'))\n",
    "    model.add(tf.keras.layers.Dense(1, activation='sigmoid'))\n",
    "\n",
    "    model.summary()\n",
    "    \n",
    "    return model"
   ]
  },
  {
   "cell_type": "markdown",
   "id": "9e866465",
   "metadata": {},
   "source": [
    "### GlobalMaxPooling1D"
   ]
  },
  {
   "cell_type": "code",
   "execution_count": 243,
   "id": "640778b5",
   "metadata": {},
   "outputs": [],
   "source": [
    "def getGlobalMaxPooling_model(vocab_size, word_vector_dim, embedding_layer=False):\n",
    "    if not embedding_layer:\n",
    "        embedding_layer = tf.keras.layers.Embedding(vocab_size, word_vector_dim, input_shape=(None,))\n",
    "\n",
    "    model = tf.keras.Sequential()\n",
    "    model.add(embedding_layer)\n",
    "    model.add(tf.keras.layers.GlobalMaxPooling1D())\n",
    "    model.add(tf.keras.layers.Dense(8, activation='relu'))\n",
    "    model.add(tf.keras.layers.Dense(1, activation='sigmoid'))\n",
    "\n",
    "    model.summary()\n",
    "    \n",
    "    return model"
   ]
  },
  {
   "cell_type": "markdown",
   "id": "e271e360",
   "metadata": {},
   "source": [
    "### Validation set 구성"
   ]
  },
  {
   "cell_type": "code",
   "execution_count": 207,
   "id": "4976bb47",
   "metadata": {},
   "outputs": [
    {
     "name": "stdout",
     "output_type": "stream",
     "text": [
      "(97025, 42)\n",
      "(97025,)\n"
     ]
    }
   ],
   "source": [
    "val_size = len(X_test) # 테스트셋 사이즈와 동일하게 validation set 구성\n",
    "\n",
    "X_val = X_train[:val_size]\n",
    "y_val = y_train[:val_size]\n",
    "\n",
    "partial_X_train = X_train[val_size:]\n",
    "partial_y_train = y_train[val_size:]\n",
    "\n",
    "print(partial_X_train.shape)\n",
    "print(partial_y_train.shape)"
   ]
  },
  {
   "cell_type": "markdown",
   "id": "7d6edaef",
   "metadata": {},
   "source": [
    "---\n",
    "\n",
    "# 5. 모델 훈련 개시"
   ]
  },
  {
   "cell_type": "markdown",
   "id": "e197b348",
   "metadata": {},
   "source": [
    "### RNN model 훈련"
   ]
  },
  {
   "cell_type": "code",
   "execution_count": 208,
   "id": "f5364d3d",
   "metadata": {
    "scrolled": true
   },
   "outputs": [
    {
     "name": "stdout",
     "output_type": "stream",
     "text": [
      "Model: \"sequential_15\"\n",
      "_________________________________________________________________\n",
      "Layer (type)                 Output Shape              Param #   \n",
      "=================================================================\n",
      "embedding_15 (Embedding)     (None, None, 10)          100000    \n",
      "_________________________________________________________________\n",
      "lstm_4 (LSTM)                (None, 8)                 608       \n",
      "_________________________________________________________________\n",
      "dense_30 (Dense)             (None, 8)                 72        \n",
      "_________________________________________________________________\n",
      "dense_31 (Dense)             (None, 1)                 9         \n",
      "=================================================================\n",
      "Total params: 100,689\n",
      "Trainable params: 100,689\n",
      "Non-trainable params: 0\n",
      "_________________________________________________________________\n",
      "Epoch 1/20\n",
      "190/190 [==============================] - 3s 9ms/step - loss: 0.5934 - accuracy: 0.7257 - val_loss: 0.4584 - val_accuracy: 0.8207\n",
      "Epoch 2/20\n",
      "190/190 [==============================] - 1s 6ms/step - loss: 0.3975 - accuracy: 0.8360 - val_loss: 0.3724 - val_accuracy: 0.8388\n",
      "Epoch 3/20\n",
      "190/190 [==============================] - 1s 6ms/step - loss: 0.3450 - accuracy: 0.8543 - val_loss: 0.3623 - val_accuracy: 0.8403\n",
      "Epoch 4/20\n",
      "190/190 [==============================] - 1s 6ms/step - loss: 0.3264 - accuracy: 0.8630 - val_loss: 0.3655 - val_accuracy: 0.8387\n",
      "Epoch 5/20\n",
      "190/190 [==============================] - 1s 6ms/step - loss: 0.3164 - accuracy: 0.8679 - val_loss: 0.3669 - val_accuracy: 0.8381\n",
      "Epoch 6/20\n",
      "190/190 [==============================] - 1s 6ms/step - loss: 0.3085 - accuracy: 0.8720 - val_loss: 0.3690 - val_accuracy: 0.8376\n",
      "Epoch 7/20\n",
      "190/190 [==============================] - 1s 6ms/step - loss: 0.3031 - accuracy: 0.8743 - val_loss: 0.3751 - val_accuracy: 0.8373\n",
      "Epoch 8/20\n",
      "190/190 [==============================] - 1s 6ms/step - loss: 0.2963 - accuracy: 0.8778 - val_loss: 0.3761 - val_accuracy: 0.8368\n",
      "Epoch 9/20\n",
      "190/190 [==============================] - 1s 6ms/step - loss: 0.2895 - accuracy: 0.8809 - val_loss: 0.3800 - val_accuracy: 0.8364\n",
      "Epoch 10/20\n",
      "190/190 [==============================] - 1s 6ms/step - loss: 0.2825 - accuracy: 0.8848 - val_loss: 0.3837 - val_accuracy: 0.8368\n",
      "Epoch 11/20\n",
      "190/190 [==============================] - 1s 6ms/step - loss: 0.2749 - accuracy: 0.8886 - val_loss: 0.3925 - val_accuracy: 0.8352\n",
      "Epoch 12/20\n",
      "190/190 [==============================] - 1s 6ms/step - loss: 0.2669 - accuracy: 0.8926 - val_loss: 0.4003 - val_accuracy: 0.8350\n",
      "Epoch 13/20\n",
      "190/190 [==============================] - 1s 6ms/step - loss: 0.2587 - accuracy: 0.8957 - val_loss: 0.3999 - val_accuracy: 0.8343\n",
      "Epoch 14/20\n",
      "190/190 [==============================] - 1s 6ms/step - loss: 0.2506 - accuracy: 0.8998 - val_loss: 0.4109 - val_accuracy: 0.8342\n",
      "Epoch 15/20\n",
      "190/190 [==============================] - 1s 6ms/step - loss: 0.2431 - accuracy: 0.9023 - val_loss: 0.4216 - val_accuracy: 0.8329\n",
      "Epoch 16/20\n",
      "190/190 [==============================] - 1s 6ms/step - loss: 0.2355 - accuracy: 0.9070 - val_loss: 0.4385 - val_accuracy: 0.8303\n",
      "Epoch 17/20\n",
      "190/190 [==============================] - 1s 6ms/step - loss: 0.2290 - accuracy: 0.9091 - val_loss: 0.4543 - val_accuracy: 0.8306\n",
      "Epoch 18/20\n",
      "190/190 [==============================] - 1s 6ms/step - loss: 0.2227 - accuracy: 0.9113 - val_loss: 0.4722 - val_accuracy: 0.8299\n",
      "Epoch 19/20\n",
      "190/190 [==============================] - 1s 6ms/step - loss: 0.2150 - accuracy: 0.9146 - val_loss: 0.4818 - val_accuracy: 0.8280\n",
      "Epoch 20/20\n",
      "190/190 [==============================] - 1s 6ms/step - loss: 0.2079 - accuracy: 0.9182 - val_loss: 0.5005 - val_accuracy: 0.8271\n"
     ]
    }
   ],
   "source": [
    "RNN_model = getRNN_model(VOCAB_SIZE, WORD_VECTOR_DIM)\n",
    "\n",
    "RNN_model.compile(optimizer='adam',\n",
    "              loss='binary_crossentropy',\n",
    "              metrics=['accuracy'])\n",
    "\n",
    "epochs=20\n",
    "\n",
    "RNN_history = RNN_model.fit(partial_X_train,\n",
    "                    partial_y_train,\n",
    "                    epochs=epochs,\n",
    "                    batch_size=512,\n",
    "                    validation_data=(X_val, y_val),\n",
    "                    verbose=1)"
   ]
  },
  {
   "cell_type": "code",
   "execution_count": 209,
   "id": "28bf7a4b",
   "metadata": {},
   "outputs": [
    {
     "name": "stdout",
     "output_type": "stream",
     "text": [
      "1537/1537 - 3s - loss: 0.4979 - accuracy: 0.8260\n",
      "[0.4978763461112976, 0.8260267972946167]\n"
     ]
    }
   ],
   "source": [
    "RNN_results = RNN_model.evaluate(X_test,  y_test, verbose=2)\n",
    "\n",
    "print(RNN_results)"
   ]
  },
  {
   "cell_type": "markdown",
   "id": "9b5cfd02",
   "metadata": {},
   "source": [
    "### CNN model 훈련"
   ]
  },
  {
   "cell_type": "code",
   "execution_count": 210,
   "id": "eb59b9e7",
   "metadata": {
    "scrolled": true
   },
   "outputs": [
    {
     "name": "stdout",
     "output_type": "stream",
     "text": [
      "Model: \"sequential_16\"\n",
      "_________________________________________________________________\n",
      "Layer (type)                 Output Shape              Param #   \n",
      "=================================================================\n",
      "embedding_16 (Embedding)     (None, None, 10)          100000    \n",
      "_________________________________________________________________\n",
      "conv1d_8 (Conv1D)            (None, None, 16)          1136      \n",
      "_________________________________________________________________\n",
      "max_pooling1d_4 (MaxPooling1 (None, None, 16)          0         \n",
      "_________________________________________________________________\n",
      "conv1d_9 (Conv1D)            (None, None, 16)          1808      \n",
      "_________________________________________________________________\n",
      "global_max_pooling1d_11 (Glo (None, 16)                0         \n",
      "_________________________________________________________________\n",
      "dense_32 (Dense)             (None, 8)                 136       \n",
      "_________________________________________________________________\n",
      "dense_33 (Dense)             (None, 1)                 9         \n",
      "=================================================================\n",
      "Total params: 103,089\n",
      "Trainable params: 103,089\n",
      "Non-trainable params: 0\n",
      "_________________________________________________________________\n",
      "Epoch 1/20\n",
      "190/190 [==============================] - 2s 6ms/step - loss: 0.5759 - accuracy: 0.6870 - val_loss: 0.4095 - val_accuracy: 0.8109\n",
      "Epoch 2/20\n",
      "190/190 [==============================] - 1s 5ms/step - loss: 0.3809 - accuracy: 0.8288 - val_loss: 0.3845 - val_accuracy: 0.8220\n",
      "Epoch 3/20\n",
      "190/190 [==============================] - 1s 5ms/step - loss: 0.3442 - accuracy: 0.8489 - val_loss: 0.3833 - val_accuracy: 0.8229\n",
      "Epoch 4/20\n",
      "190/190 [==============================] - 1s 5ms/step - loss: 0.3215 - accuracy: 0.8603 - val_loss: 0.3896 - val_accuracy: 0.8235\n",
      "Epoch 5/20\n",
      "190/190 [==============================] - 1s 5ms/step - loss: 0.3015 - accuracy: 0.8701 - val_loss: 0.3963 - val_accuracy: 0.8222\n",
      "Epoch 6/20\n",
      "190/190 [==============================] - 1s 5ms/step - loss: 0.2806 - accuracy: 0.8812 - val_loss: 0.4104 - val_accuracy: 0.8200\n",
      "Epoch 7/20\n",
      "190/190 [==============================] - 1s 5ms/step - loss: 0.2612 - accuracy: 0.8911 - val_loss: 0.4203 - val_accuracy: 0.8190\n",
      "Epoch 8/20\n",
      "190/190 [==============================] - 1s 5ms/step - loss: 0.2405 - accuracy: 0.9014 - val_loss: 0.4432 - val_accuracy: 0.8168\n",
      "Epoch 9/20\n",
      "190/190 [==============================] - 1s 5ms/step - loss: 0.2203 - accuracy: 0.9116 - val_loss: 0.4693 - val_accuracy: 0.8109\n",
      "Epoch 10/20\n",
      "190/190 [==============================] - 1s 5ms/step - loss: 0.2025 - accuracy: 0.9200 - val_loss: 0.4917 - val_accuracy: 0.8106\n",
      "Epoch 11/20\n",
      "190/190 [==============================] - 1s 5ms/step - loss: 0.1853 - accuracy: 0.9277 - val_loss: 0.5183 - val_accuracy: 0.8076\n",
      "Epoch 12/20\n",
      "190/190 [==============================] - 1s 5ms/step - loss: 0.1701 - accuracy: 0.9349 - val_loss: 0.5430 - val_accuracy: 0.8059\n",
      "Epoch 13/20\n",
      "190/190 [==============================] - 1s 5ms/step - loss: 0.1563 - accuracy: 0.9405 - val_loss: 0.5713 - val_accuracy: 0.8029\n",
      "Epoch 14/20\n",
      "190/190 [==============================] - 1s 5ms/step - loss: 0.1449 - accuracy: 0.9452 - val_loss: 0.6191 - val_accuracy: 0.8002\n",
      "Epoch 15/20\n",
      "190/190 [==============================] - 1s 5ms/step - loss: 0.1355 - accuracy: 0.9495 - val_loss: 0.6255 - val_accuracy: 0.7994\n",
      "Epoch 16/20\n",
      "190/190 [==============================] - 1s 5ms/step - loss: 0.1257 - accuracy: 0.9530 - val_loss: 0.6660 - val_accuracy: 0.7985\n",
      "Epoch 17/20\n",
      "190/190 [==============================] - 1s 5ms/step - loss: 0.1177 - accuracy: 0.9565 - val_loss: 0.6906 - val_accuracy: 0.7957\n",
      "Epoch 18/20\n",
      "190/190 [==============================] - 1s 5ms/step - loss: 0.1116 - accuracy: 0.9584 - val_loss: 0.7289 - val_accuracy: 0.7937\n",
      "Epoch 19/20\n",
      "190/190 [==============================] - 1s 5ms/step - loss: 0.1070 - accuracy: 0.9601 - val_loss: 0.7266 - val_accuracy: 0.7931\n",
      "Epoch 20/20\n",
      "190/190 [==============================] - 1s 5ms/step - loss: 0.1029 - accuracy: 0.9612 - val_loss: 0.7669 - val_accuracy: 0.7933\n"
     ]
    }
   ],
   "source": [
    "# 1-D CNN model 학습\n",
    "CNN_model = getCNN_model(VOCAB_SIZE, WORD_VECTOR_DIM)\n",
    "\n",
    "CNN_model.compile(optimizer='adam',\n",
    "              loss='binary_crossentropy',\n",
    "              metrics=['accuracy'])\n",
    "\n",
    "epochs=20\n",
    "\n",
    "CNN_history = CNN_model.fit(partial_X_train,\n",
    "                    partial_y_train,\n",
    "                    epochs=epochs,\n",
    "                    batch_size=512,\n",
    "                    validation_data=(X_val, y_val),\n",
    "                    verbose=1)"
   ]
  },
  {
   "cell_type": "code",
   "execution_count": 211,
   "id": "aa7e7ae6",
   "metadata": {},
   "outputs": [
    {
     "name": "stdout",
     "output_type": "stream",
     "text": [
      "1537/1537 - 2s - loss: 0.7633 - accuracy: 0.7923\n",
      "[0.7632555961608887, 0.7922778129577637]\n"
     ]
    }
   ],
   "source": [
    "CNN_results = CNN_model.evaluate(X_test,  y_test, verbose=2)\n",
    "\n",
    "print(CNN_results)"
   ]
  },
  {
   "cell_type": "markdown",
   "id": "f811bdb0",
   "metadata": {},
   "source": [
    "### GlobalMaxPooling1D model 훈련"
   ]
  },
  {
   "cell_type": "code",
   "execution_count": 212,
   "id": "4a76e14c",
   "metadata": {
    "scrolled": true
   },
   "outputs": [
    {
     "name": "stdout",
     "output_type": "stream",
     "text": [
      "Model: \"sequential_17\"\n",
      "_________________________________________________________________\n",
      "Layer (type)                 Output Shape              Param #   \n",
      "=================================================================\n",
      "embedding_17 (Embedding)     (None, None, 10)          100000    \n",
      "_________________________________________________________________\n",
      "global_max_pooling1d_12 (Glo (None, 10)                0         \n",
      "_________________________________________________________________\n",
      "dense_34 (Dense)             (None, 8)                 88        \n",
      "_________________________________________________________________\n",
      "dense_35 (Dense)             (None, 1)                 9         \n",
      "=================================================================\n",
      "Total params: 100,097\n",
      "Trainable params: 100,097\n",
      "Non-trainable params: 0\n",
      "_________________________________________________________________\n",
      "Epoch 1/20\n",
      "190/190 [==============================] - 1s 4ms/step - loss: 0.6333 - accuracy: 0.7374 - val_loss: 0.5130 - val_accuracy: 0.8023\n",
      "Epoch 2/20\n",
      "190/190 [==============================] - 1s 4ms/step - loss: 0.4305 - accuracy: 0.8220 - val_loss: 0.3933 - val_accuracy: 0.8260\n",
      "Epoch 3/20\n",
      "190/190 [==============================] - 1s 4ms/step - loss: 0.3599 - accuracy: 0.8472 - val_loss: 0.3737 - val_accuracy: 0.8332\n",
      "Epoch 4/20\n",
      "190/190 [==============================] - 1s 4ms/step - loss: 0.3283 - accuracy: 0.8628 - val_loss: 0.3692 - val_accuracy: 0.8363\n",
      "Epoch 5/20\n",
      "190/190 [==============================] - 1s 4ms/step - loss: 0.3065 - accuracy: 0.8731 - val_loss: 0.3706 - val_accuracy: 0.8367\n",
      "Epoch 6/20\n",
      "190/190 [==============================] - 1s 4ms/step - loss: 0.2891 - accuracy: 0.8806 - val_loss: 0.3749 - val_accuracy: 0.8364\n",
      "Epoch 7/20\n",
      "190/190 [==============================] - 1s 4ms/step - loss: 0.2748 - accuracy: 0.8879 - val_loss: 0.3815 - val_accuracy: 0.8354\n",
      "Epoch 8/20\n",
      "190/190 [==============================] - 1s 4ms/step - loss: 0.2626 - accuracy: 0.8947 - val_loss: 0.3894 - val_accuracy: 0.8345\n",
      "Epoch 9/20\n",
      "190/190 [==============================] - 1s 4ms/step - loss: 0.2520 - accuracy: 0.8992 - val_loss: 0.3980 - val_accuracy: 0.8336\n",
      "Epoch 10/20\n",
      "190/190 [==============================] - 1s 4ms/step - loss: 0.2426 - accuracy: 0.9044 - val_loss: 0.4070 - val_accuracy: 0.8319\n",
      "Epoch 11/20\n",
      "190/190 [==============================] - 1s 4ms/step - loss: 0.2343 - accuracy: 0.9077 - val_loss: 0.4168 - val_accuracy: 0.8302\n",
      "Epoch 12/20\n",
      "190/190 [==============================] - 1s 4ms/step - loss: 0.2265 - accuracy: 0.9112 - val_loss: 0.4279 - val_accuracy: 0.8284\n",
      "Epoch 13/20\n",
      "190/190 [==============================] - 1s 4ms/step - loss: 0.2198 - accuracy: 0.9149 - val_loss: 0.4378 - val_accuracy: 0.8268\n",
      "Epoch 14/20\n",
      "190/190 [==============================] - 1s 4ms/step - loss: 0.2134 - accuracy: 0.9173 - val_loss: 0.4474 - val_accuracy: 0.8264\n",
      "Epoch 15/20\n",
      "190/190 [==============================] - 1s 4ms/step - loss: 0.2076 - accuracy: 0.9204 - val_loss: 0.4573 - val_accuracy: 0.8245\n",
      "Epoch 16/20\n",
      "190/190 [==============================] - 1s 4ms/step - loss: 0.2021 - accuracy: 0.9225 - val_loss: 0.4672 - val_accuracy: 0.8231\n",
      "Epoch 17/20\n",
      "190/190 [==============================] - 1s 4ms/step - loss: 0.1972 - accuracy: 0.9254 - val_loss: 0.4769 - val_accuracy: 0.8228\n",
      "Epoch 18/20\n",
      "190/190 [==============================] - 1s 4ms/step - loss: 0.1929 - accuracy: 0.9275 - val_loss: 0.4858 - val_accuracy: 0.8214\n",
      "Epoch 19/20\n",
      "190/190 [==============================] - 1s 4ms/step - loss: 0.1887 - accuracy: 0.9298 - val_loss: 0.4950 - val_accuracy: 0.8209\n",
      "Epoch 20/20\n",
      "190/190 [==============================] - 1s 4ms/step - loss: 0.1848 - accuracy: 0.9316 - val_loss: 0.5037 - val_accuracy: 0.8196\n"
     ]
    }
   ],
   "source": [
    "# GlobalMaxPooling1D model 학습\n",
    "globalMaxPooling_model = getGlobalMaxPooling_model(VOCAB_SIZE, WORD_VECTOR_DIM)\n",
    "\n",
    "globalMaxPooling_model.compile(optimizer='adam',\n",
    "              loss='binary_crossentropy',\n",
    "              metrics=['accuracy'])\n",
    "\n",
    "epochs=20\n",
    "\n",
    "globalMaxPooling_history = globalMaxPooling_model.fit(partial_X_train,\n",
    "                    partial_y_train,\n",
    "                    epochs=epochs,\n",
    "                    batch_size=512,\n",
    "                    validation_data=(X_val, y_val),\n",
    "                    verbose=1)"
   ]
  },
  {
   "cell_type": "code",
   "execution_count": 213,
   "id": "f7bf8fc6",
   "metadata": {},
   "outputs": [
    {
     "name": "stdout",
     "output_type": "stream",
     "text": [
      "1537/1537 - 2s - loss: 0.5085 - accuracy: 0.8156\n",
      "[0.5084824562072754, 0.8155705332756042]\n"
     ]
    }
   ],
   "source": [
    "globalMaxPooling_results = globalMaxPooling_model.evaluate(X_test,  y_test, verbose=2)\n",
    "\n",
    "print(globalMaxPooling_results)"
   ]
  },
  {
   "cell_type": "markdown",
   "id": "74d2b4a5",
   "metadata": {},
   "source": [
    "---\n",
    "\n",
    "# 6. Loss, Accuracy 그래프 시각화"
   ]
  },
  {
   "cell_type": "markdown",
   "id": "44b27060",
   "metadata": {},
   "source": [
    "### RNN model - Loss, Accuracy 시각화"
   ]
  },
  {
   "cell_type": "code",
   "execution_count": 214,
   "id": "f8af0fa3",
   "metadata": {},
   "outputs": [
    {
     "data": {
      "image/png": "[encoded data removed]",
      "text/plain": [
       "<Figure size 864x1080 with 6 Axes>"
      ]
     },
     "metadata": {
      "needs_background": "light"
     },
     "output_type": "display_data"
    }
   ],
   "source": [
    "def visualize(name, history, plt, height, idx=1):\n",
    "    history_dict = history.history\n",
    "\n",
    "    acc = history_dict['accuracy']\n",
    "    val_acc = history_dict['val_accuracy']\n",
    "    loss = history_dict['loss']\n",
    "    val_loss = history_dict['val_loss']\n",
    "\n",
    "    epochs = range(1, len(acc) + 1)\n",
    "\n",
    "\n",
    "    ax1 = fig.add_subplot(height,2,idx)\n",
    "    plt.plot(epochs, loss, 'bo', label='Training loss')\n",
    "    plt.plot(epochs, val_loss, 'b', label='Validation loss')\n",
    "\n",
    "    plt.title(name + ' Training and validation loss')\n",
    "    plt.xlabel('Epochs')\n",
    "    plt.ylabel('Loss')\n",
    "    plt.legend()\n",
    "\n",
    "    ax2 = fig.add_subplot(height,2,idx+1)\n",
    "    plt.plot(epochs, acc, 'bo', label='Training acc')\n",
    "    plt.plot(epochs, val_acc, 'b', label='Validation acc')\n",
    "    plt.title(name + ' Training and validation accuracy')\n",
    "    plt.xlabel('Epochs')\n",
    "    plt.ylabel('Accuracy')\n",
    "    plt.legend()\n",
    "\n",
    "    \n",
    "histories = {'RNN': RNN_history, 'CNN': CNN_history, 'GlobalMaxPooling': globalMaxPooling_history}\n",
    "\n",
    "fig = plt.figure(figsize=(12,15))\n",
    "idx = 0\n",
    "for name, h in histories.items():\n",
    "    visualize(name, h, plt, 3, (idx*2)+1)\n",
    "    idx += 1\n",
    "plt.show()"
   ]
  },
  {
   "cell_type": "markdown",
   "id": "f39798f9",
   "metadata": {},
   "source": [
    "---\n",
    "\n",
    "# 7. 학습된 Embedding 레이어 분석"
   ]
  },
  {
   "cell_type": "code",
   "execution_count": 215,
   "id": "86d25b49",
   "metadata": {},
   "outputs": [],
   "source": [
    "embedding_layer = globalMaxPooling_model.layers[0]\n",
    "weights = embedding_layer.get_weights()[0]\n",
    "# print(weights.shape)\n",
    "\n",
    "word2vec_file_path = os.getenv('HOME')+'/aiffel/sentiment_classification/data/word2vec.txt'\n",
    "f = open(word2vec_file_path, 'w')\n",
    "f.write('{} {}\\n'.format(VOCAB_SIZE-4, WORD_VECTOR_DIM))\n",
    "\n",
    "vectors = globalMaxPooling_model.get_weights()[0]\n",
    "for i in range(4,VOCAB_SIZE):\n",
    "    f.write('{} {}\\n'.format(index_to_word[i], ' '.join(map(str, list(vectors[i, :])))))\n",
    "f.close()"
   ]
  },
  {
   "cell_type": "code",
   "execution_count": 216,
   "id": "832a574a",
   "metadata": {},
   "outputs": [
    {
     "data": {
      "text/plain": [
       "array([-0.01397574, -0.04528309, -0.13647899, -0.14192891, -0.14126888,\n",
       "       -0.13324222,  0.06186666, -0.0007721 , -0.14897779, -0.21387856],\n",
       "      dtype=float32)"
      ]
     },
     "execution_count": 216,
     "metadata": {},
     "output_type": "execute_result"
    }
   ],
   "source": [
    "from gensim.models.keyedvectors import Word2VecKeyedVectors\n",
    "\n",
    "word_vectors = Word2VecKeyedVectors.load_word2vec_format(word2vec_file_path, binary=False)\n",
    "vector = word_vectors['사람']\n",
    "vector"
   ]
  },
  {
   "cell_type": "code",
   "execution_count": 217,
   "id": "6056c42e",
   "metadata": {},
   "outputs": [
    {
     "data": {
      "text/plain": [
       "[('결정판', 0.9504469037055969),\n",
       " ('대표', 0.9466128349304199),\n",
       " ('놓', 0.9418346881866455),\n",
       " ('빠진', 0.9361637830734253),\n",
       " ('을까', 0.933508574962616),\n",
       " ('상식', 0.93063884973526),\n",
       " ('블루', 0.912011981010437),\n",
       " ('라면', 0.9033735990524292),\n",
       " ('특이', 0.9022936820983887),\n",
       " ('침', 0.89844810962677)]"
      ]
     },
     "execution_count": 217,
     "metadata": {},
     "output_type": "execute_result"
    }
   ],
   "source": [
    "word_vectors.similar_by_word(\"사람\") # \"사랑\" 단어와 가장 유사한 단어들을 출력"
   ]
  },
  {
   "cell_type": "markdown",
   "id": "f6f5124e",
   "metadata": {},
   "source": [
    "그나마 가장 나은 성능을 가진 모델의 워드벡터로 유사도를 분석해봤으나, 좋은 결과를 내지 않았습니다."
   ]
  },
  {
   "cell_type": "markdown",
   "id": "998eacb5",
   "metadata": {},
   "source": [
    "---\n",
    "\n",
    "# 8. 한국어 Word2Vec 임베딩 활용하여 성능 개선"
   ]
  },
  {
   "cell_type": "code",
   "execution_count": 235,
   "id": "3310ee04",
   "metadata": {
    "scrolled": true
   },
   "outputs": [
    {
     "data": {
      "text/plain": [
       "array([ 0.7412252 , -1.1187236 ,  2.0681474 ,  1.05749   , -1.3211275 ,\n",
       "       -2.414994  , -1.133681  ,  1.5452526 , -0.4543698 ,  0.02380616,\n",
       "        0.12370981, -0.8839078 , -2.9051683 , -0.34940982,  1.3418512 ,\n",
       "        2.8225965 ,  1.0794274 ,  0.4287113 , -1.9613483 ,  0.4262147 ,\n",
       "       -0.40650806, -0.34994036, -0.8416261 ,  0.52574843, -0.29543158,\n",
       "       -0.5593075 ,  0.84687376,  0.0889315 , -2.5240638 ,  0.46828857,\n",
       "        2.8982353 , -1.6508341 , -0.37446976, -2.2825975 ,  0.7083552 ,\n",
       "       -0.59711653,  0.2839199 , -1.0247895 ,  2.3036754 ,  0.45918384,\n",
       "       -0.83396995,  0.85293204,  0.972802  , -0.5457918 , -0.93798906,\n",
       "       -0.8009529 ,  2.160266  ,  0.10052549, -0.16650781, -0.07592812,\n",
       "       -0.45869842,  1.3352628 ,  2.3284414 ,  0.7132327 , -2.4690466 ,\n",
       "        0.05213251,  0.38745207, -0.2773064 , -0.67375   , -0.59059584,\n",
       "        1.0310122 ,  1.9923794 , -0.94680166, -1.3167765 , -1.4717319 ,\n",
       "        0.97447944,  0.8103551 ,  0.8915873 ,  0.7474684 , -0.00637981,\n",
       "        0.7444418 ,  0.7939502 , -1.0944605 ,  1.392656  ,  0.37654135,\n",
       "       -1.2034026 ,  1.0072207 , -0.40544778,  0.44212767, -3.0634484 ,\n",
       "        1.1875361 , -0.12091239,  1.4954131 ,  0.36426282, -1.0021433 ,\n",
       "        0.11045299, -0.8199569 ,  0.73303777,  0.26993483,  0.5307779 ,\n",
       "        3.26409   , -1.0755528 , -1.1228558 ,  1.6779242 ,  1.790663  ,\n",
       "       -0.2767947 ,  1.4767654 ,  0.08618896,  0.5165028 ,  2.7088833 ,\n",
       "       -0.46314278,  0.99281746,  0.39835286,  0.88094866, -0.6806667 ,\n",
       "        1.6146507 ,  0.40473613,  0.4831634 ,  0.8650192 , -2.2554002 ,\n",
       "        1.4073339 ,  0.29678002,  0.312536  , -0.24908657, -0.63724786,\n",
       "        0.01833764,  0.28282273,  0.5918058 , -0.4271871 , -0.36062592,\n",
       "        0.28868324, -1.5452292 , -2.195867  , -3.35319   ,  0.90652514,\n",
       "        0.69410455, -2.4260206 ,  0.62638485,  1.4539987 ,  0.66689837,\n",
       "       -0.43008897, -1.0371583 ,  1.7439222 ,  2.1849706 ,  2.809909  ,\n",
       "       -0.3376442 ,  0.6059654 , -0.11268281,  0.5642306 , -2.0597198 ,\n",
       "        0.2558234 , -0.8461995 ,  1.9621457 ,  2.4020708 ,  0.10118579,\n",
       "        0.7569208 , -0.52231586,  0.69310755, -0.12435903,  1.7258118 ,\n",
       "       -0.47222325, -0.11036941,  0.09247034, -0.24319325,  0.26812062,\n",
       "       -1.8018712 ,  0.31583163,  0.14499973, -0.6330405 ,  1.0520003 ,\n",
       "       -1.4853543 ,  0.34385768,  0.5239166 , -2.2002435 , -2.701687  ,\n",
       "       -1.4307605 ,  0.77635235,  2.863714  , -0.73031855,  1.1225786 ,\n",
       "       -1.8527915 , -2.1887116 , -1.2744621 , -0.53644854,  1.459293  ,\n",
       "       -0.47653604,  0.5469871 , -0.22993626,  1.1055657 ,  0.47264385,\n",
       "       -1.3790879 ,  2.063961  ,  2.1002257 , -0.16041307, -1.7497696 ,\n",
       "        1.8129411 , -0.30766737, -0.9470096 , -1.6739731 ,  0.02093687,\n",
       "       -0.26385018,  0.18818851, -0.520275  ,  0.08425661,  1.003671  ,\n",
       "        0.97272223,  0.85132086,  1.3672657 , -0.7964044 , -2.9975104 ],\n",
       "      dtype=float32)"
      ]
     },
     "execution_count": 235,
     "metadata": {},
     "output_type": "execute_result"
    }
   ],
   "source": [
    "import gensim\n",
    "import warnings\n",
    "warnings.filterwarnings(\"ignore\", category=DeprecationWarning) \n",
    "\n",
    "word2vec_path = '/aiffel/ko.bin'\n",
    "word2vec = gensim.models.Word2Vec.load(word2vec_path)\n",
    "vector = word2vec['사람']\n",
    "vector"
   ]
  },
  {
   "cell_type": "code",
   "execution_count": 236,
   "id": "546c08fc",
   "metadata": {},
   "outputs": [
    {
     "data": {
      "text/plain": [
       "[('젊은이', 0.6494427919387817),\n",
       " ('여인', 0.6287257671356201),\n",
       " ('백성', 0.6063710451126099),\n",
       " ('포졸', 0.6043275594711304),\n",
       " ('죄인', 0.5960500836372375),\n",
       " ('선비', 0.5868039131164551),\n",
       " ('부녀자', 0.5654411315917969),\n",
       " ('죄수', 0.5639811754226685),\n",
       " ('구경꾼', 0.5620019435882568),\n",
       " ('손님', 0.5589558482170105)]"
      ]
     },
     "execution_count": 236,
     "metadata": {},
     "output_type": "execute_result"
    }
   ],
   "source": [
    "# 메모리를 다소 많이 소비하는 작업이니 유의해 주세요.\n",
    "word2vec.similar_by_word(\"사람\")"
   ]
  },
  {
   "cell_type": "markdown",
   "id": "b8259aa9",
   "metadata": {},
   "source": [
    "### 한국어 Word2Vec으로 임베딩 레이어 교체하기"
   ]
  },
  {
   "cell_type": "code",
   "execution_count": 237,
   "id": "a65668df",
   "metadata": {},
   "outputs": [],
   "source": [
    "vocab_size = 10000\n",
    "word_vector_dim = 200\n",
    "embedding_matrix = np.random.rand(vocab_size, word_vector_dim)\n",
    "\n",
    "for i in range(4, vocab_size):\n",
    "    if index_to_word[i] in word2vec:\n",
    "        embedding_matrix[i] = word2vec[index_to_word[i]]"
   ]
  },
  {
   "cell_type": "markdown",
   "id": "510443f7",
   "metadata": {},
   "source": [
    "### 모델 다시 작성 & 학습 & 평가"
   ]
  },
  {
   "cell_type": "code",
   "execution_count": 254,
   "id": "bcaf4899",
   "metadata": {},
   "outputs": [
    {
     "name": "stdout",
     "output_type": "stream",
     "text": [
      "Model: \"sequential_28\"\n",
      "_________________________________________________________________\n",
      "Layer (type)                 Output Shape              Param #   \n",
      "=================================================================\n",
      "embedding_28 (Embedding)     (None, 42, 200)           2000000   \n",
      "_________________________________________________________________\n",
      "global_max_pooling1d_21 (Glo (None, 200)               0         \n",
      "_________________________________________________________________\n",
      "dense_56 (Dense)             (None, 8)                 1608      \n",
      "_________________________________________________________________\n",
      "dense_57 (Dense)             (None, 1)                 9         \n",
      "=================================================================\n",
      "Total params: 2,001,617\n",
      "Trainable params: 2,001,617\n",
      "Non-trainable params: 0\n",
      "_________________________________________________________________\n"
     ]
    }
   ],
   "source": [
    "from tensorflow.keras.initializers import Constant\n",
    "\n",
    "vocab_size = 10000\n",
    "word_vector_dim = 200\n",
    "embedding_layer = tf.keras.layers.Embedding(vocab_size, \n",
    "                                 word_vector_dim,\n",
    "                                 embeddings_initializer=Constant(embedding_matrix),\n",
    "                                 input_length=maxlen, \n",
    "                                 trainable=True)\n",
    "\n",
    "\n",
    "# getRNN_model(vocab_size, word_vector_dim, embedding_layer)\n",
    "# getCNN_model(vocab_size, word_vector_dim, embedding_layer)\n",
    "model = getGlobalMaxPooling_model(vocab_size, word_vector_dim, embedding_layer)"
   ]
  },
  {
   "cell_type": "code",
   "execution_count": 255,
   "id": "3c50c867",
   "metadata": {
    "scrolled": true
   },
   "outputs": [
    {
     "name": "stdout",
     "output_type": "stream",
     "text": [
      "Epoch 1/20\n",
      "190/190 [==============================] - 2s 6ms/step - loss: 0.7095 - accuracy: 0.4993 - val_loss: 0.6927 - val_accuracy: 0.5012\n",
      "Epoch 2/20\n",
      "190/190 [==============================] - 1s 5ms/step - loss: 0.6910 - accuracy: 0.5134 - val_loss: 0.6834 - val_accuracy: 0.5623\n",
      "Epoch 3/20\n",
      "190/190 [==============================] - 1s 5ms/step - loss: 0.6505 - accuracy: 0.6306 - val_loss: 0.5919 - val_accuracy: 0.6896\n",
      "Epoch 4/20\n",
      "190/190 [==============================] - 1s 5ms/step - loss: 0.5376 - accuracy: 0.7336 - val_loss: 0.5045 - val_accuracy: 0.7566\n",
      "Epoch 5/20\n",
      "190/190 [==============================] - 1s 5ms/step - loss: 0.4778 - accuracy: 0.7736 - val_loss: 0.4705 - val_accuracy: 0.7770\n",
      "Epoch 6/20\n",
      "190/190 [==============================] - 1s 5ms/step - loss: 0.4432 - accuracy: 0.7953 - val_loss: 0.4498 - val_accuracy: 0.7882\n",
      "Epoch 7/20\n",
      "190/190 [==============================] - 1s 5ms/step - loss: 0.4160 - accuracy: 0.8110 - val_loss: 0.4367 - val_accuracy: 0.7955\n",
      "Epoch 8/20\n",
      "190/190 [==============================] - 1s 5ms/step - loss: 0.3945 - accuracy: 0.8230 - val_loss: 0.4264 - val_accuracy: 0.8009\n",
      "Epoch 9/20\n",
      "190/190 [==============================] - 1s 5ms/step - loss: 0.3777 - accuracy: 0.8324 - val_loss: 0.4270 - val_accuracy: 0.8025\n",
      "Epoch 10/20\n",
      "190/190 [==============================] - 1s 5ms/step - loss: 0.3615 - accuracy: 0.8415 - val_loss: 0.4156 - val_accuracy: 0.8074\n",
      "Epoch 11/20\n",
      "190/190 [==============================] - 1s 5ms/step - loss: 0.3464 - accuracy: 0.8494 - val_loss: 0.4123 - val_accuracy: 0.8104\n",
      "Epoch 12/20\n",
      "190/190 [==============================] - 1s 5ms/step - loss: 0.3331 - accuracy: 0.8566 - val_loss: 0.4178 - val_accuracy: 0.8104\n",
      "Epoch 13/20\n",
      "190/190 [==============================] - 1s 5ms/step - loss: 0.3207 - accuracy: 0.8636 - val_loss: 0.4124 - val_accuracy: 0.8131\n",
      "Epoch 14/20\n",
      "190/190 [==============================] - 1s 5ms/step - loss: 0.3095 - accuracy: 0.8692 - val_loss: 0.4092 - val_accuracy: 0.8162\n",
      "Epoch 15/20\n",
      "190/190 [==============================] - 1s 5ms/step - loss: 0.2983 - accuracy: 0.8755 - val_loss: 0.4099 - val_accuracy: 0.8163\n",
      "Epoch 16/20\n",
      "190/190 [==============================] - 1s 5ms/step - loss: 0.2873 - accuracy: 0.8810 - val_loss: 0.4116 - val_accuracy: 0.8175\n",
      "Epoch 17/20\n",
      "190/190 [==============================] - 1s 5ms/step - loss: 0.2767 - accuracy: 0.8864 - val_loss: 0.4126 - val_accuracy: 0.8192\n",
      "Epoch 18/20\n",
      "190/190 [==============================] - 1s 5ms/step - loss: 0.2661 - accuracy: 0.8915 - val_loss: 0.4193 - val_accuracy: 0.8181\n",
      "Epoch 19/20\n",
      "190/190 [==============================] - 1s 5ms/step - loss: 0.2563 - accuracy: 0.8961 - val_loss: 0.4190 - val_accuracy: 0.8190\n",
      "Epoch 20/20\n",
      "190/190 [==============================] - 1s 5ms/step - loss: 0.2472 - accuracy: 0.9010 - val_loss: 0.4228 - val_accuracy: 0.8205\n"
     ]
    }
   ],
   "source": [
    "# 학습의 진행\n",
    "model.compile(optimizer='adam',\n",
    "              loss='binary_crossentropy',\n",
    "              metrics=['accuracy'])\n",
    "              \n",
    "epochs=20  # 몇 epoch를 훈련하면 좋을지 결과를 보면서 바꾸어 봅시다. \n",
    "\n",
    "history = model.fit(partial_X_train,\n",
    "                    partial_y_train,\n",
    "                    epochs=epochs,\n",
    "                    batch_size=512,\n",
    "                    validation_data=(X_val, y_val),\n",
    "                    verbose=1)"
   ]
  },
  {
   "cell_type": "code",
   "execution_count": 256,
   "id": "42d1ed11",
   "metadata": {},
   "outputs": [
    {
     "name": "stdout",
     "output_type": "stream",
     "text": [
      "1537/1537 - 2s - loss: 0.4303 - accuracy: 0.8165\n",
      "[0.43031150102615356, 0.8165266513824463]\n"
     ]
    }
   ],
   "source": [
    "# 테스트셋을 통한 모델 평가\n",
    "results = model.evaluate(X_test, y_test, verbose=2)\n",
    "\n",
    "print(results)"
   ]
  },
  {
   "cell_type": "markdown",
   "id": "9cf22895",
   "metadata": {},
   "source": [
    "### 시각화"
   ]
  },
  {
   "cell_type": "code",
   "execution_count": 257,
   "id": "eda2fd97",
   "metadata": {},
   "outputs": [
    {
     "data": {
      "text/plain": [
       "<Figure size 432x288 with 0 Axes>"
      ]
     },
     "metadata": {},
     "output_type": "display_data"
    },
    {
     "data": {
      "image/png": "[encoded data removed]",
      "text/plain": [
       "<Figure size 864x360 with 2 Axes>"
      ]
     },
     "metadata": {
      "needs_background": "light"
     },
     "output_type": "display_data"
    }
   ],
   "source": [
    "plt.clf()   # 그림을 초기화합니다\n",
    "fig = plt.figure(figsize=(12,5))\n",
    "\n",
    "visualize('New Word2Vec', history, plt, 1)\n",
    "plt.show()"
   ]
  },
  {
   "cell_type": "markdown",
   "id": "796da06a",
   "metadata": {},
   "source": [
    "--- \n",
    "\n",
    "# Accuracy, loss \n",
    "\n",
    "1. global\n",
    "```\n",
    "    # 1. 첫 시도\n",
    "    1537/1537 - 2s - loss: 0.4470 - accuracy: 0.8163\n",
    "    [0.4470440745353699, 0.8163435459136963]\n",
    "    \n",
    "    # 2. 문장길이 키우기\n",
    "    1537/1537 - 2s - loss: 0.4235 - accuracy: 0.8212\n",
    "    [0.4234999418258667, 0.8212462067604065]\n",
    "    \n",
    "    # 3. 한글만 filter, 문장 길이 키우기\n",
    "    1537/1537 - 2s - loss: 0.4450 - accuracy: 0.8122\n",
    "    [0.4450375437736511, 0.8121732473373413]\n",
    "```\n",
    "\n",
    "2. RNN\n",
    "```\n",
    "    # 4. 다른 모델로 적용해보기\n",
    "    1537/1537 - 3s - loss: 0.8146 - accuracy: 0.8216\n",
    "    [0.8145668506622314, 0.8216123580932617]\n",
    "```"
   ]
  },
  {
   "cell_type": "markdown",
   "id": "5af92197",
   "metadata": {},
   "source": [
    "# 회고\n",
    "\n",
    "### 1. 어려웠던 점\n",
    "- 데이터 전처리를 해도, 사전 크기를 늘려봐도, 문장 최대 길이를 늘려봐도... 정확도,손실에 큰 개선을 이뤄내지 못해 어려웠습니다.\n",
    "\n",
    "\n",
    "### 2. 시도한 것들\n",
    "#### 1) word_vector_dimension 사이즈를 어떤걸로 설정해야할까?\n",
    "    - 처음에는 적정 사이즈를 어떻게 두면 좋을지 검색해보고, number_of_categories**0.25 이렇게 초기 설정해서 진행했습니다.\n",
    "        - https://stackoverflow.com/questions/48479915/what-is-the-preferred-ratio-between-the-vocabulary-size-and-embedding-dimension\n",
    "    - 이후에는 accuracy가 잘 나오는 값을 찾아서 값을 늘려 학습해보았습니다.\n",
    "#### 2) validation dataset 개수는 얼마가 적절할까?\n",
    "    - test dataset size는 0.2가 적절하다는걸 아는데, validation dataset size는 어떻게 구성하는게 좋을지 찾아봤습니다.\n",
    "        - https://stackoverflow.com/questions/13610074/is-there-a-rule-of-thumb-for-how-to-divide-a-dataset-into-training-and-validatio\n",
    "    - validation dataset도 0.2가 적절하다고 합니다. (작은 데이터셋인 경우에는 7:3 또는 6:4도 권장)\n",
    "    - 그러나 현재 train, test dataset은 이미 나눠진 상태였기 때문에, validation size를 test size와 동일하게 구성하였습니다.\n",
    "#### 3) 한글 임베딩 파일을 로드할 때 에러 발생발생했고, 아래 링크에서 문제해결을 찾아 에러를 고쳤습니다.\n",
    "    - https://stackoverflow.com/questions/27659985/error-utf8-codec-cant-decode-byte-0x80-in-position-0-invalid-start-byte\n",
    "#### 4) 데이터 전처리 추가\n",
    "    - 영어, 숫자, 특수문자는 한글 텍스트 분석에 적절하지 않다 판단하였고, 데이터 전처리를 통해 데이터에 한글만 유효하도록 수정했습니다. (자음, 모음만 있는 것도 삭제)\n",
    "#### 5) 데이터 전처리를 추가하고 난 뒤, \"CNN Negative dimension size caused by subtracting ..\"와 같은 에러가 발생했습니다.\n",
    "    - 문장 최대 길이를 2 -> 2.5 가중치를 늘려 오류를 해결했습니다.\n",
    "        - max_tokens = np.mean(num_tokens) + 2.5 * np.std(num_tokens)\n",
    "\n",
    "\n",
    "\n",
    "### 3. 루브릭 달성하지 못한 이유\n",
    "```\n",
    "[네이버 영화리뷰 데이터 감성분석 정확도를 85% 이상 달성함] 루브릭을 달성하지 못했습니다. \n",
    "가장 성능이 괜찮아 보였던 GlobalMaxPooling1D 기준으로 해보기도 했고\n",
    "데이터 전처리를 하거나, 사전 크기를 늘려봐도, 문장 최대 길이를 늘려봐도... 정확도,손실에 큰 개선을 이뤄내지 못했습니다. \n",
    "저도 이유를 알고싶습니다. 다른 분들의 과정도 궁금합니다\n",
    "```\n"
   ]
  }
 ],
 "metadata": {
  "kernelspec": {
   "display_name": "Python 3 (ipykernel)",
   "language": "python",
   "name": "python3"
  },
  "language_info": {
   "codemirror_mode": {
    "name": "ipython",
    "version": 3
   },
   "file_extension": ".py",
   "mimetype": "text/x-python",
   "name": "python",
   "nbconvert_exporter": "python",
   "pygments_lexer": "ipython3",
   "version": "3.9.7"
  }
 },
 "nbformat": 4,
 "nbformat_minor": 5
}
