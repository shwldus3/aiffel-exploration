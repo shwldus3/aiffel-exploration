{
 "cells": [
  {
   "cell_type": "markdown",
   "id": "ad7bc77f",
   "metadata": {},
   "source": [
    "# 데이터 준비"
   ]
  },
  {
   "cell_type": "code",
   "execution_count": 1,
   "id": "3e974544",
   "metadata": {},
   "outputs": [
    {
     "data": {
      "text/html": [
       "<div>\n",
       "<style scoped>\n",
       "    .dataframe tbody tr th:only-of-type {\n",
       "        vertical-align: middle;\n",
       "    }\n",
       "\n",
       "    .dataframe tbody tr th {\n",
       "        vertical-align: top;\n",
       "    }\n",
       "\n",
       "    .dataframe thead th {\n",
       "        text-align: right;\n",
       "    }\n",
       "</style>\n",
       "<table border=\"1\" class=\"dataframe\">\n",
       "  <thead>\n",
       "    <tr style=\"text-align: right;\">\n",
       "      <th></th>\n",
       "      <th>user_id</th>\n",
       "      <th>movie_id</th>\n",
       "      <th>ratings</th>\n",
       "      <th>timestamp</th>\n",
       "    </tr>\n",
       "  </thead>\n",
       "  <tbody>\n",
       "    <tr>\n",
       "      <th>0</th>\n",
       "      <td>1</td>\n",
       "      <td>1193</td>\n",
       "      <td>5</td>\n",
       "      <td>978300760</td>\n",
       "    </tr>\n",
       "    <tr>\n",
       "      <th>1</th>\n",
       "      <td>1</td>\n",
       "      <td>661</td>\n",
       "      <td>3</td>\n",
       "      <td>978302109</td>\n",
       "    </tr>\n",
       "    <tr>\n",
       "      <th>2</th>\n",
       "      <td>1</td>\n",
       "      <td>914</td>\n",
       "      <td>3</td>\n",
       "      <td>978301968</td>\n",
       "    </tr>\n",
       "    <tr>\n",
       "      <th>3</th>\n",
       "      <td>1</td>\n",
       "      <td>3408</td>\n",
       "      <td>4</td>\n",
       "      <td>978300275</td>\n",
       "    </tr>\n",
       "    <tr>\n",
       "      <th>4</th>\n",
       "      <td>1</td>\n",
       "      <td>2355</td>\n",
       "      <td>5</td>\n",
       "      <td>978824291</td>\n",
       "    </tr>\n",
       "  </tbody>\n",
       "</table>\n",
       "</div>"
      ],
      "text/plain": [
       "   user_id  movie_id  ratings  timestamp\n",
       "0        1      1193        5  978300760\n",
       "1        1       661        3  978302109\n",
       "2        1       914        3  978301968\n",
       "3        1      3408        4  978300275\n",
       "4        1      2355        5  978824291"
      ]
     },
     "execution_count": 1,
     "metadata": {},
     "output_type": "execute_result"
    }
   ],
   "source": [
    "import pandas as pd\n",
    "import os\n",
    "\n",
    "rating_file_path=os.getenv('HOME') + '/aiffel/recommendata_iu/data/ml-1m/ratings.dat'\n",
    "ratings_cols = ['user_id', 'movie_id', 'ratings', 'timestamp']\n",
    "ratings = pd.read_csv(rating_file_path, sep='::', names=ratings_cols, engine='python', encoding = \"ISO-8859-1\")\n",
    "orginal_data_size = len(ratings)\n",
    "ratings.head()"
   ]
  },
  {
   "cell_type": "markdown",
   "id": "63577835",
   "metadata": {},
   "source": [
    "# 데이터 전처리"
   ]
  },
  {
   "cell_type": "code",
   "execution_count": 2,
   "id": "b6a5bfa4",
   "metadata": {},
   "outputs": [
    {
     "name": "stdout",
     "output_type": "stream",
     "text": [
      "orginal_data_size: 1000209, filtered_data_size: 836478\n",
      "Ratio of Remaining Data is 83.63%\n"
     ]
    }
   ],
   "source": [
    "# 3점 이상만 남깁니다.\n",
    "ratings = ratings[ratings['ratings']>=3]\n",
    "filtered_data_size = len(ratings)\n",
    "\n",
    "print(f'orginal_data_size: {orginal_data_size}, filtered_data_size: {filtered_data_size}')\n",
    "print(f'Ratio of Remaining Data is {filtered_data_size / orginal_data_size:.2%}')"
   ]
  },
  {
   "cell_type": "code",
   "execution_count": 3,
   "id": "112dee45",
   "metadata": {},
   "outputs": [],
   "source": [
    "# ratings 컬럼의 이름을 counts로 바꿉니다.\n",
    "ratings.rename(columns={'ratings':'counts'}, inplace=True)"
   ]
  },
  {
   "cell_type": "code",
   "execution_count": 4,
   "id": "2ecf33e7",
   "metadata": {},
   "outputs": [
    {
     "data": {
      "text/plain": [
       "0          5\n",
       "1          3\n",
       "2          3\n",
       "3          4\n",
       "4          5\n",
       "          ..\n",
       "1000203    3\n",
       "1000205    5\n",
       "1000206    5\n",
       "1000207    4\n",
       "1000208    4\n",
       "Name: counts, Length: 836478, dtype: int64"
      ]
     },
     "execution_count": 4,
     "metadata": {},
     "output_type": "execute_result"
    }
   ],
   "source": [
    "ratings['counts']"
   ]
  },
  {
   "cell_type": "code",
   "execution_count": 5,
   "id": "4e033da5",
   "metadata": {},
   "outputs": [
    {
     "data": {
      "text/html": [
       "<div>\n",
       "<style scoped>\n",
       "    .dataframe tbody tr th:only-of-type {\n",
       "        vertical-align: middle;\n",
       "    }\n",
       "\n",
       "    .dataframe tbody tr th {\n",
       "        vertical-align: top;\n",
       "    }\n",
       "\n",
       "    .dataframe thead th {\n",
       "        text-align: right;\n",
       "    }\n",
       "</style>\n",
       "<table border=\"1\" class=\"dataframe\">\n",
       "  <thead>\n",
       "    <tr style=\"text-align: right;\">\n",
       "      <th></th>\n",
       "      <th>movie_id</th>\n",
       "      <th>title</th>\n",
       "      <th>genre</th>\n",
       "    </tr>\n",
       "  </thead>\n",
       "  <tbody>\n",
       "    <tr>\n",
       "      <th>0</th>\n",
       "      <td>1</td>\n",
       "      <td>Toy Story (1995)</td>\n",
       "      <td>Animation|Children's|Comedy</td>\n",
       "    </tr>\n",
       "    <tr>\n",
       "      <th>1</th>\n",
       "      <td>2</td>\n",
       "      <td>Jumanji (1995)</td>\n",
       "      <td>Adventure|Children's|Fantasy</td>\n",
       "    </tr>\n",
       "    <tr>\n",
       "      <th>2</th>\n",
       "      <td>3</td>\n",
       "      <td>Grumpier Old Men (1995)</td>\n",
       "      <td>Comedy|Romance</td>\n",
       "    </tr>\n",
       "    <tr>\n",
       "      <th>3</th>\n",
       "      <td>4</td>\n",
       "      <td>Waiting to Exhale (1995)</td>\n",
       "      <td>Comedy|Drama</td>\n",
       "    </tr>\n",
       "    <tr>\n",
       "      <th>4</th>\n",
       "      <td>5</td>\n",
       "      <td>Father of the Bride Part II (1995)</td>\n",
       "      <td>Comedy</td>\n",
       "    </tr>\n",
       "  </tbody>\n",
       "</table>\n",
       "</div>"
      ],
      "text/plain": [
       "   movie_id                               title                         genre\n",
       "0         1                    Toy Story (1995)   Animation|Children's|Comedy\n",
       "1         2                      Jumanji (1995)  Adventure|Children's|Fantasy\n",
       "2         3             Grumpier Old Men (1995)                Comedy|Romance\n",
       "3         4            Waiting to Exhale (1995)                  Comedy|Drama\n",
       "4         5  Father of the Bride Part II (1995)                        Comedy"
      ]
     },
     "execution_count": 5,
     "metadata": {},
     "output_type": "execute_result"
    }
   ],
   "source": [
    "# 영화 제목을 보기 위해 메타 데이터를 읽어옵니다.\n",
    "movie_file_path=os.getenv('HOME') + '/aiffel/recommendata_iu/data/ml-1m/movies.dat'\n",
    "cols = ['movie_id', 'title', 'genre'] \n",
    "movies = pd.read_csv(movie_file_path, sep='::', names=cols, engine='python', encoding='ISO-8859-1')\n",
    "movies.head()"
   ]
  },
  {
   "cell_type": "code",
   "execution_count": 6,
   "id": "0d0cfee1",
   "metadata": {},
   "outputs": [
    {
     "data": {
      "text/plain": [
       "0         1193\n",
       "1          661\n",
       "2          914\n",
       "3         3408\n",
       "4         2355\n",
       "          ... \n",
       "996177    2192\n",
       "996467    3245\n",
       "996637    3336\n",
       "997181      59\n",
       "997451    3443\n",
       "Name: movie_id, Length: 17223, dtype: int64"
      ]
     },
     "execution_count": 6,
     "metadata": {},
     "output_type": "execute_result"
    }
   ],
   "source": [
    "ratings.groupby('movie_id')['movie_id'].head()"
   ]
  },
  {
   "cell_type": "markdown",
   "id": "b9fa6afb",
   "metadata": {},
   "source": [
    "#### ratings와 movies 데이터 조인"
   ]
  },
  {
   "cell_type": "code",
   "execution_count": 7,
   "id": "2155ac47",
   "metadata": {},
   "outputs": [],
   "source": [
    "data = pd.merge(ratings, movies, how='inner', on = 'movie_id')"
   ]
  },
  {
   "cell_type": "code",
   "execution_count": 8,
   "id": "b24c7418",
   "metadata": {},
   "outputs": [
    {
     "data": {
      "text/html": [
       "<div>\n",
       "<style scoped>\n",
       "    .dataframe tbody tr th:only-of-type {\n",
       "        vertical-align: middle;\n",
       "    }\n",
       "\n",
       "    .dataframe tbody tr th {\n",
       "        vertical-align: top;\n",
       "    }\n",
       "\n",
       "    .dataframe thead th {\n",
       "        text-align: right;\n",
       "    }\n",
       "</style>\n",
       "<table border=\"1\" class=\"dataframe\">\n",
       "  <thead>\n",
       "    <tr style=\"text-align: right;\">\n",
       "      <th></th>\n",
       "      <th>user_id</th>\n",
       "      <th>movie_id</th>\n",
       "      <th>counts</th>\n",
       "      <th>timestamp</th>\n",
       "      <th>title</th>\n",
       "      <th>genre</th>\n",
       "    </tr>\n",
       "  </thead>\n",
       "  <tbody>\n",
       "    <tr>\n",
       "      <th>0</th>\n",
       "      <td>1</td>\n",
       "      <td>1193</td>\n",
       "      <td>5</td>\n",
       "      <td>978300760</td>\n",
       "      <td>One Flew Over the Cuckoo's Nest (1975)</td>\n",
       "      <td>Drama</td>\n",
       "    </tr>\n",
       "    <tr>\n",
       "      <th>1</th>\n",
       "      <td>2</td>\n",
       "      <td>1193</td>\n",
       "      <td>5</td>\n",
       "      <td>978298413</td>\n",
       "      <td>One Flew Over the Cuckoo's Nest (1975)</td>\n",
       "      <td>Drama</td>\n",
       "    </tr>\n",
       "    <tr>\n",
       "      <th>2</th>\n",
       "      <td>12</td>\n",
       "      <td>1193</td>\n",
       "      <td>4</td>\n",
       "      <td>978220179</td>\n",
       "      <td>One Flew Over the Cuckoo's Nest (1975)</td>\n",
       "      <td>Drama</td>\n",
       "    </tr>\n",
       "    <tr>\n",
       "      <th>3</th>\n",
       "      <td>15</td>\n",
       "      <td>1193</td>\n",
       "      <td>4</td>\n",
       "      <td>978199279</td>\n",
       "      <td>One Flew Over the Cuckoo's Nest (1975)</td>\n",
       "      <td>Drama</td>\n",
       "    </tr>\n",
       "    <tr>\n",
       "      <th>4</th>\n",
       "      <td>17</td>\n",
       "      <td>1193</td>\n",
       "      <td>5</td>\n",
       "      <td>978158471</td>\n",
       "      <td>One Flew Over the Cuckoo's Nest (1975)</td>\n",
       "      <td>Drama</td>\n",
       "    </tr>\n",
       "    <tr>\n",
       "      <th>...</th>\n",
       "      <td>...</td>\n",
       "      <td>...</td>\n",
       "      <td>...</td>\n",
       "      <td>...</td>\n",
       "      <td>...</td>\n",
       "      <td>...</td>\n",
       "    </tr>\n",
       "    <tr>\n",
       "      <th>836473</th>\n",
       "      <td>5851</td>\n",
       "      <td>3607</td>\n",
       "      <td>5</td>\n",
       "      <td>957756608</td>\n",
       "      <td>One Little Indian (1973)</td>\n",
       "      <td>Comedy|Drama|Western</td>\n",
       "    </tr>\n",
       "    <tr>\n",
       "      <th>836474</th>\n",
       "      <td>5854</td>\n",
       "      <td>3026</td>\n",
       "      <td>4</td>\n",
       "      <td>958346883</td>\n",
       "      <td>Slaughterhouse (1987)</td>\n",
       "      <td>Horror</td>\n",
       "    </tr>\n",
       "    <tr>\n",
       "      <th>836475</th>\n",
       "      <td>5854</td>\n",
       "      <td>690</td>\n",
       "      <td>3</td>\n",
       "      <td>957744257</td>\n",
       "      <td>Promise, The (Versprechen, Das) (1994)</td>\n",
       "      <td>Romance</td>\n",
       "    </tr>\n",
       "    <tr>\n",
       "      <th>836476</th>\n",
       "      <td>5938</td>\n",
       "      <td>2909</td>\n",
       "      <td>4</td>\n",
       "      <td>957273353</td>\n",
       "      <td>Five Wives, Three Secretaries and Me (1998)</td>\n",
       "      <td>Documentary</td>\n",
       "    </tr>\n",
       "    <tr>\n",
       "      <th>836477</th>\n",
       "      <td>5948</td>\n",
       "      <td>1360</td>\n",
       "      <td>5</td>\n",
       "      <td>1016563709</td>\n",
       "      <td>Identification of a Woman (Identificazione di ...</td>\n",
       "      <td>Drama</td>\n",
       "    </tr>\n",
       "  </tbody>\n",
       "</table>\n",
       "<p>836478 rows × 6 columns</p>\n",
       "</div>"
      ],
      "text/plain": [
       "        user_id  movie_id  counts   timestamp  \\\n",
       "0             1      1193       5   978300760   \n",
       "1             2      1193       5   978298413   \n",
       "2            12      1193       4   978220179   \n",
       "3            15      1193       4   978199279   \n",
       "4            17      1193       5   978158471   \n",
       "...         ...       ...     ...         ...   \n",
       "836473     5851      3607       5   957756608   \n",
       "836474     5854      3026       4   958346883   \n",
       "836475     5854       690       3   957744257   \n",
       "836476     5938      2909       4   957273353   \n",
       "836477     5948      1360       5  1016563709   \n",
       "\n",
       "                                                    title  \\\n",
       "0                  One Flew Over the Cuckoo's Nest (1975)   \n",
       "1                  One Flew Over the Cuckoo's Nest (1975)   \n",
       "2                  One Flew Over the Cuckoo's Nest (1975)   \n",
       "3                  One Flew Over the Cuckoo's Nest (1975)   \n",
       "4                  One Flew Over the Cuckoo's Nest (1975)   \n",
       "...                                                   ...   \n",
       "836473                           One Little Indian (1973)   \n",
       "836474                              Slaughterhouse (1987)   \n",
       "836475             Promise, The (Versprechen, Das) (1994)   \n",
       "836476        Five Wives, Three Secretaries and Me (1998)   \n",
       "836477  Identification of a Woman (Identificazione di ...   \n",
       "\n",
       "                       genre  \n",
       "0                      Drama  \n",
       "1                      Drama  \n",
       "2                      Drama  \n",
       "3                      Drama  \n",
       "4                      Drama  \n",
       "...                      ...  \n",
       "836473  Comedy|Drama|Western  \n",
       "836474                Horror  \n",
       "836475               Romance  \n",
       "836476           Documentary  \n",
       "836477                 Drama  \n",
       "\n",
       "[836478 rows x 6 columns]"
      ]
     },
     "execution_count": 8,
     "metadata": {},
     "output_type": "execute_result"
    }
   ],
   "source": [
    "data"
   ]
  },
  {
   "cell_type": "markdown",
   "id": "b7728625",
   "metadata": {},
   "source": [
    "---\n",
    "\n",
    "# 데이터 탐색\n",
    "\n",
    "- ratings에 있는 유니크한 영화 개수\n",
    "- ratings에 있는 유니크한 사용자 수\n",
    "- 가장 인기 있는 영화 30개(인기순)\n"
   ]
  },
  {
   "cell_type": "markdown",
   "id": "0e8e79f8",
   "metadata": {},
   "source": [
    "#### 데이터셋 전체 크기"
   ]
  },
  {
   "cell_type": "code",
   "execution_count": 9,
   "id": "7fc811bd",
   "metadata": {},
   "outputs": [
    {
     "data": {
      "text/plain": [
       "836478"
      ]
     },
     "execution_count": 9,
     "metadata": {},
     "output_type": "execute_result"
    }
   ],
   "source": [
    "len(data)"
   ]
  },
  {
   "cell_type": "markdown",
   "id": "a5ffb6ae",
   "metadata": {},
   "source": [
    "#### ratings에 있는 유니크한 영화 개수"
   ]
  },
  {
   "cell_type": "code",
   "execution_count": 10,
   "id": "c101a1f4",
   "metadata": {},
   "outputs": [
    {
     "data": {
      "text/plain": [
       "3628"
      ]
     },
     "execution_count": 10,
     "metadata": {},
     "output_type": "execute_result"
    }
   ],
   "source": [
    "data['movie_id'].nunique()"
   ]
  },
  {
   "cell_type": "markdown",
   "id": "78f0eed1",
   "metadata": {},
   "source": [
    "#### ratings에 있는 유니크한 사용자 수"
   ]
  },
  {
   "cell_type": "code",
   "execution_count": 11,
   "id": "b4354150",
   "metadata": {},
   "outputs": [
    {
     "data": {
      "text/plain": [
       "6039"
      ]
     },
     "execution_count": 11,
     "metadata": {},
     "output_type": "execute_result"
    }
   ],
   "source": [
    "data['user_id'].nunique()"
   ]
  },
  {
   "cell_type": "markdown",
   "id": "ab688734",
   "metadata": {},
   "source": [
    "#### 가장 인기 있는 영화 30개(인기순)"
   ]
  },
  {
   "cell_type": "code",
   "execution_count": 12,
   "id": "849645aa",
   "metadata": {},
   "outputs": [
    {
     "data": {
      "text/plain": [
       "movie_id  title                                                \n",
       "2858      American Beauty (1999)                                   3211\n",
       "260       Star Wars: Episode IV - A New Hope (1977)                2910\n",
       "1196      Star Wars: Episode V - The Empire Strikes Back (1980)    2885\n",
       "1210      Star Wars: Episode VI - Return of the Jedi (1983)        2716\n",
       "2028      Saving Private Ryan (1998)                               2561\n",
       "589       Terminator 2: Judgment Day (1991)                        2509\n",
       "593       Silence of the Lambs, The (1991)                         2498\n",
       "1198      Raiders of the Lost Ark (1981)                           2473\n",
       "1270      Back to the Future (1985)                                2460\n",
       "2571      Matrix, The (1999)                                       2434\n",
       "480       Jurassic Park (1993)                                     2413\n",
       "2762      Sixth Sense, The (1999)                                  2385\n",
       "608       Fargo (1996)                                             2371\n",
       "110       Braveheart (1995)                                        2314\n",
       "1580      Men in Black (1997)                                      2297\n",
       "527       Schindler's List (1993)                                  2257\n",
       "1197      Princess Bride, The (1987)                               2252\n",
       "2396      Shakespeare in Love (1998)                               2213\n",
       "1617      L.A. Confidential (1997)                                 2210\n",
       "318       Shawshank Redemption, The (1994)                         2194\n",
       "858       Godfather, The (1972)                                    2167\n",
       "1265      Groundhog Day (1993)                                     2121\n",
       "1097      E.T. the Extra-Terrestrial (1982)                        2102\n",
       "2997      Being John Malkovich (1999)                              2066\n",
       "2716      Ghostbusters (1984)                                      2051\n",
       "296       Pulp Fiction (1994)                                      2030\n",
       "356       Forrest Gump (1994)                                      2022\n",
       "1240      Terminator, The (1984)                                   2019\n",
       "1         Toy Story (1995)                                         2000\n",
       "457       Fugitive, The (1993)                                     1941\n",
       "1214      Alien (1979)                                             1920\n",
       "3578      Gladiator (2000)                                         1798\n",
       "2916      Total Recall (1990)                                      1786\n",
       "2628      Star Wars: Episode I - The Phantom Menace (1999)         1783\n",
       "50        Usual Suspects, The (1995)                               1744\n",
       "1259      Stand by Me (1986)                                       1728\n",
       "541       Blade Runner (1982)                                      1722\n",
       "1200      Aliens (1986)                                            1720\n",
       "1193      One Flew Over the Cuckoo's Nest (1975)                   1680\n",
       "919       Wizard of Oz, The (1939)                                 1650\n",
       "1221      Godfather: Part II, The (1974)                           1624\n",
       "912       Casablanca (1942)                                        1623\n",
       "2987      Who Framed Roger Rabbit? (1988)                          1605\n",
       "2355      Bug's Life, A (1998)                                     1599\n",
       "1387      Jaws (1975)                                              1598\n",
       "1213      GoodFellas (1990)                                        1595\n",
       "1036      Die Hard (1988)                                          1593\n",
       "1610      Hunt for Red October, The (1990)                         1587\n",
       "2791      Airplane! (1980)                                         1586\n",
       "34        Babe (1995)                                              1574\n",
       "1291      Indiana Jones and the Last Crusade (1989)                1573\n",
       "3175      Galaxy Quest (1999)                                      1572\n",
       "924       2001: A Space Odyssey (1968)                             1568\n",
       "1127      Abyss, The (1989)                                        1555\n",
       "1136      Monty Python and the Holy Grail (1974)                   1532\n",
       "2000      Lethal Weapon (1987)                                     1527\n",
       "3114      Toy Story 2 (1999)                                       1516\n",
       "1704      Good Will Hunting (1997)                                 1496\n",
       "1307      When Harry Met Sally... (1989)                           1487\n",
       "377       Speed (1994)                                             1442\n",
       "Name: user_id, dtype: int64"
      ]
     },
     "execution_count": 12,
     "metadata": {},
     "output_type": "execute_result"
    }
   ],
   "source": [
    "movie_count = data.groupby(['movie_id', 'title'])['user_id'].count()\n",
    "movie_count.sort_values(ascending=False).head(60)"
   ]
  },
  {
   "cell_type": "markdown",
   "id": "9d925987",
   "metadata": {},
   "source": [
    "#### 내가 선호하는 영화를 5가지 골라서 데이터에 추가"
   ]
  },
  {
   "cell_type": "code",
   "execution_count": 13,
   "id": "c5237e36",
   "metadata": {},
   "outputs": [],
   "source": [
    "import calendar\n",
    "import time\n",
    "\n",
    "ts = calendar.timegm(time.gmtime())\n",
    "\n",
    "my_movie_ids = [2571, 1580, 1270, 3114, 1]\n",
    "jiyeon_user_id = data.user_id.max() + 1\n",
    "\n",
    "my_movies = []\n",
    "for movie_id in my_movie_ids:\n",
    "    m = movies[movies['movie_id'] == movie_id]\n",
    "    my_movies.append({\n",
    "        'user_id': jiyeon_user_id, \n",
    "        'movie_id': movie_id, \n",
    "        'counts': 7, \n",
    "        'timestamp': ts, \n",
    "        'title': m['title'].values[0], \n",
    "        'genre': m['genre'].values[0]\n",
    "    })\n",
    "    \n",
    "my_favorite = pd.DataFrame(my_movies, columns=data.columns)"
   ]
  },
  {
   "cell_type": "code",
   "execution_count": 14,
   "id": "9e68b793",
   "metadata": {},
   "outputs": [
    {
     "data": {
      "text/html": [
       "<div>\n",
       "<style scoped>\n",
       "    .dataframe tbody tr th:only-of-type {\n",
       "        vertical-align: middle;\n",
       "    }\n",
       "\n",
       "    .dataframe tbody tr th {\n",
       "        vertical-align: top;\n",
       "    }\n",
       "\n",
       "    .dataframe thead th {\n",
       "        text-align: right;\n",
       "    }\n",
       "</style>\n",
       "<table border=\"1\" class=\"dataframe\">\n",
       "  <thead>\n",
       "    <tr style=\"text-align: right;\">\n",
       "      <th></th>\n",
       "      <th>user_id</th>\n",
       "      <th>movie_id</th>\n",
       "      <th>counts</th>\n",
       "      <th>timestamp</th>\n",
       "      <th>title</th>\n",
       "      <th>genre</th>\n",
       "    </tr>\n",
       "  </thead>\n",
       "  <tbody>\n",
       "    <tr>\n",
       "      <th>0</th>\n",
       "      <td>6041</td>\n",
       "      <td>2571</td>\n",
       "      <td>7</td>\n",
       "      <td>1645776414</td>\n",
       "      <td>Matrix, The (1999)</td>\n",
       "      <td>Action|Sci-Fi|Thriller</td>\n",
       "    </tr>\n",
       "    <tr>\n",
       "      <th>1</th>\n",
       "      <td>6041</td>\n",
       "      <td>1580</td>\n",
       "      <td>7</td>\n",
       "      <td>1645776414</td>\n",
       "      <td>Men in Black (1997)</td>\n",
       "      <td>Action|Adventure|Comedy|Sci-Fi</td>\n",
       "    </tr>\n",
       "    <tr>\n",
       "      <th>2</th>\n",
       "      <td>6041</td>\n",
       "      <td>1270</td>\n",
       "      <td>7</td>\n",
       "      <td>1645776414</td>\n",
       "      <td>Back to the Future (1985)</td>\n",
       "      <td>Comedy|Sci-Fi</td>\n",
       "    </tr>\n",
       "    <tr>\n",
       "      <th>3</th>\n",
       "      <td>6041</td>\n",
       "      <td>3114</td>\n",
       "      <td>7</td>\n",
       "      <td>1645776414</td>\n",
       "      <td>Toy Story 2 (1999)</td>\n",
       "      <td>Animation|Children's|Comedy</td>\n",
       "    </tr>\n",
       "    <tr>\n",
       "      <th>4</th>\n",
       "      <td>6041</td>\n",
       "      <td>1</td>\n",
       "      <td>7</td>\n",
       "      <td>1645776414</td>\n",
       "      <td>Toy Story (1995)</td>\n",
       "      <td>Animation|Children's|Comedy</td>\n",
       "    </tr>\n",
       "  </tbody>\n",
       "</table>\n",
       "</div>"
      ],
      "text/plain": [
       "   user_id  movie_id  counts   timestamp                      title  \\\n",
       "0     6041      2571       7  1645776414         Matrix, The (1999)   \n",
       "1     6041      1580       7  1645776414        Men in Black (1997)   \n",
       "2     6041      1270       7  1645776414  Back to the Future (1985)   \n",
       "3     6041      3114       7  1645776414         Toy Story 2 (1999)   \n",
       "4     6041         1       7  1645776414           Toy Story (1995)   \n",
       "\n",
       "                            genre  \n",
       "0          Action|Sci-Fi|Thriller  \n",
       "1  Action|Adventure|Comedy|Sci-Fi  \n",
       "2                   Comedy|Sci-Fi  \n",
       "3     Animation|Children's|Comedy  \n",
       "4     Animation|Children's|Comedy  "
      ]
     },
     "execution_count": 14,
     "metadata": {},
     "output_type": "execute_result"
    }
   ],
   "source": [
    "my_favorite"
   ]
  },
  {
   "cell_type": "code",
   "execution_count": 15,
   "id": "9fd38d0e",
   "metadata": {},
   "outputs": [
    {
     "data": {
      "text/html": [
       "<div>\n",
       "<style scoped>\n",
       "    .dataframe tbody tr th:only-of-type {\n",
       "        vertical-align: middle;\n",
       "    }\n",
       "\n",
       "    .dataframe tbody tr th {\n",
       "        vertical-align: top;\n",
       "    }\n",
       "\n",
       "    .dataframe thead th {\n",
       "        text-align: right;\n",
       "    }\n",
       "</style>\n",
       "<table border=\"1\" class=\"dataframe\">\n",
       "  <thead>\n",
       "    <tr style=\"text-align: right;\">\n",
       "      <th></th>\n",
       "      <th>user_id</th>\n",
       "      <th>movie_id</th>\n",
       "      <th>counts</th>\n",
       "      <th>timestamp</th>\n",
       "      <th>title</th>\n",
       "      <th>genre</th>\n",
       "    </tr>\n",
       "  </thead>\n",
       "  <tbody>\n",
       "    <tr>\n",
       "      <th>836473</th>\n",
       "      <td>5851</td>\n",
       "      <td>3607</td>\n",
       "      <td>5</td>\n",
       "      <td>957756608</td>\n",
       "      <td>One Little Indian (1973)</td>\n",
       "      <td>Comedy|Drama|Western</td>\n",
       "    </tr>\n",
       "    <tr>\n",
       "      <th>836474</th>\n",
       "      <td>5854</td>\n",
       "      <td>3026</td>\n",
       "      <td>4</td>\n",
       "      <td>958346883</td>\n",
       "      <td>Slaughterhouse (1987)</td>\n",
       "      <td>Horror</td>\n",
       "    </tr>\n",
       "    <tr>\n",
       "      <th>836475</th>\n",
       "      <td>5854</td>\n",
       "      <td>690</td>\n",
       "      <td>3</td>\n",
       "      <td>957744257</td>\n",
       "      <td>Promise, The (Versprechen, Das) (1994)</td>\n",
       "      <td>Romance</td>\n",
       "    </tr>\n",
       "    <tr>\n",
       "      <th>836476</th>\n",
       "      <td>5938</td>\n",
       "      <td>2909</td>\n",
       "      <td>4</td>\n",
       "      <td>957273353</td>\n",
       "      <td>Five Wives, Three Secretaries and Me (1998)</td>\n",
       "      <td>Documentary</td>\n",
       "    </tr>\n",
       "    <tr>\n",
       "      <th>836477</th>\n",
       "      <td>5948</td>\n",
       "      <td>1360</td>\n",
       "      <td>5</td>\n",
       "      <td>1016563709</td>\n",
       "      <td>Identification of a Woman (Identificazione di ...</td>\n",
       "      <td>Drama</td>\n",
       "    </tr>\n",
       "    <tr>\n",
       "      <th>0</th>\n",
       "      <td>6041</td>\n",
       "      <td>2571</td>\n",
       "      <td>7</td>\n",
       "      <td>1645776414</td>\n",
       "      <td>Matrix, The (1999)</td>\n",
       "      <td>Action|Sci-Fi|Thriller</td>\n",
       "    </tr>\n",
       "    <tr>\n",
       "      <th>1</th>\n",
       "      <td>6041</td>\n",
       "      <td>1580</td>\n",
       "      <td>7</td>\n",
       "      <td>1645776414</td>\n",
       "      <td>Men in Black (1997)</td>\n",
       "      <td>Action|Adventure|Comedy|Sci-Fi</td>\n",
       "    </tr>\n",
       "    <tr>\n",
       "      <th>2</th>\n",
       "      <td>6041</td>\n",
       "      <td>1270</td>\n",
       "      <td>7</td>\n",
       "      <td>1645776414</td>\n",
       "      <td>Back to the Future (1985)</td>\n",
       "      <td>Comedy|Sci-Fi</td>\n",
       "    </tr>\n",
       "    <tr>\n",
       "      <th>3</th>\n",
       "      <td>6041</td>\n",
       "      <td>3114</td>\n",
       "      <td>7</td>\n",
       "      <td>1645776414</td>\n",
       "      <td>Toy Story 2 (1999)</td>\n",
       "      <td>Animation|Children's|Comedy</td>\n",
       "    </tr>\n",
       "    <tr>\n",
       "      <th>4</th>\n",
       "      <td>6041</td>\n",
       "      <td>1</td>\n",
       "      <td>7</td>\n",
       "      <td>1645776414</td>\n",
       "      <td>Toy Story (1995)</td>\n",
       "      <td>Animation|Children's|Comedy</td>\n",
       "    </tr>\n",
       "  </tbody>\n",
       "</table>\n",
       "</div>"
      ],
      "text/plain": [
       "        user_id  movie_id  counts   timestamp  \\\n",
       "836473     5851      3607       5   957756608   \n",
       "836474     5854      3026       4   958346883   \n",
       "836475     5854       690       3   957744257   \n",
       "836476     5938      2909       4   957273353   \n",
       "836477     5948      1360       5  1016563709   \n",
       "0          6041      2571       7  1645776414   \n",
       "1          6041      1580       7  1645776414   \n",
       "2          6041      1270       7  1645776414   \n",
       "3          6041      3114       7  1645776414   \n",
       "4          6041         1       7  1645776414   \n",
       "\n",
       "                                                    title  \\\n",
       "836473                           One Little Indian (1973)   \n",
       "836474                              Slaughterhouse (1987)   \n",
       "836475             Promise, The (Versprechen, Das) (1994)   \n",
       "836476        Five Wives, Three Secretaries and Me (1998)   \n",
       "836477  Identification of a Woman (Identificazione di ...   \n",
       "0                                      Matrix, The (1999)   \n",
       "1                                     Men in Black (1997)   \n",
       "2                               Back to the Future (1985)   \n",
       "3                                      Toy Story 2 (1999)   \n",
       "4                                        Toy Story (1995)   \n",
       "\n",
       "                                 genre  \n",
       "836473            Comedy|Drama|Western  \n",
       "836474                          Horror  \n",
       "836475                         Romance  \n",
       "836476                     Documentary  \n",
       "836477                           Drama  \n",
       "0               Action|Sci-Fi|Thriller  \n",
       "1       Action|Adventure|Comedy|Sci-Fi  \n",
       "2                        Comedy|Sci-Fi  \n",
       "3          Animation|Children's|Comedy  \n",
       "4          Animation|Children's|Comedy  "
      ]
     },
     "execution_count": 15,
     "metadata": {},
     "output_type": "execute_result"
    }
   ],
   "source": [
    "if not data.isin({'user_id':[jiyeon_user_id]})['user_id'].any():\n",
    "    data = data.append(my_favorite)\n",
    "\n",
    "data.tail(10)"
   ]
  },
  {
   "cell_type": "markdown",
   "id": "482770e9",
   "metadata": {},
   "source": [
    "#### 데이터가 잘 들어갔는지 확인"
   ]
  },
  {
   "cell_type": "code",
   "execution_count": 16,
   "id": "98400e58",
   "metadata": {},
   "outputs": [
    {
     "data": {
      "text/html": [
       "<div>\n",
       "<style scoped>\n",
       "    .dataframe tbody tr th:only-of-type {\n",
       "        vertical-align: middle;\n",
       "    }\n",
       "\n",
       "    .dataframe tbody tr th {\n",
       "        vertical-align: top;\n",
       "    }\n",
       "\n",
       "    .dataframe thead th {\n",
       "        text-align: right;\n",
       "    }\n",
       "</style>\n",
       "<table border=\"1\" class=\"dataframe\">\n",
       "  <thead>\n",
       "    <tr style=\"text-align: right;\">\n",
       "      <th></th>\n",
       "      <th>user_id</th>\n",
       "      <th>movie_id</th>\n",
       "      <th>counts</th>\n",
       "      <th>timestamp</th>\n",
       "      <th>title</th>\n",
       "      <th>genre</th>\n",
       "    </tr>\n",
       "  </thead>\n",
       "  <tbody>\n",
       "    <tr>\n",
       "      <th>0</th>\n",
       "      <td>6041</td>\n",
       "      <td>2571</td>\n",
       "      <td>7</td>\n",
       "      <td>1645776414</td>\n",
       "      <td>Matrix, The (1999)</td>\n",
       "      <td>Action|Sci-Fi|Thriller</td>\n",
       "    </tr>\n",
       "    <tr>\n",
       "      <th>1</th>\n",
       "      <td>6041</td>\n",
       "      <td>1580</td>\n",
       "      <td>7</td>\n",
       "      <td>1645776414</td>\n",
       "      <td>Men in Black (1997)</td>\n",
       "      <td>Action|Adventure|Comedy|Sci-Fi</td>\n",
       "    </tr>\n",
       "    <tr>\n",
       "      <th>2</th>\n",
       "      <td>6041</td>\n",
       "      <td>1270</td>\n",
       "      <td>7</td>\n",
       "      <td>1645776414</td>\n",
       "      <td>Back to the Future (1985)</td>\n",
       "      <td>Comedy|Sci-Fi</td>\n",
       "    </tr>\n",
       "    <tr>\n",
       "      <th>3</th>\n",
       "      <td>6041</td>\n",
       "      <td>3114</td>\n",
       "      <td>7</td>\n",
       "      <td>1645776414</td>\n",
       "      <td>Toy Story 2 (1999)</td>\n",
       "      <td>Animation|Children's|Comedy</td>\n",
       "    </tr>\n",
       "    <tr>\n",
       "      <th>4</th>\n",
       "      <td>6041</td>\n",
       "      <td>1</td>\n",
       "      <td>7</td>\n",
       "      <td>1645776414</td>\n",
       "      <td>Toy Story (1995)</td>\n",
       "      <td>Animation|Children's|Comedy</td>\n",
       "    </tr>\n",
       "  </tbody>\n",
       "</table>\n",
       "</div>"
      ],
      "text/plain": [
       "   user_id  movie_id  counts   timestamp                      title  \\\n",
       "0     6041      2571       7  1645776414         Matrix, The (1999)   \n",
       "1     6041      1580       7  1645776414        Men in Black (1997)   \n",
       "2     6041      1270       7  1645776414  Back to the Future (1985)   \n",
       "3     6041      3114       7  1645776414         Toy Story 2 (1999)   \n",
       "4     6041         1       7  1645776414           Toy Story (1995)   \n",
       "\n",
       "                            genre  \n",
       "0          Action|Sci-Fi|Thriller  \n",
       "1  Action|Adventure|Comedy|Sci-Fi  \n",
       "2                   Comedy|Sci-Fi  \n",
       "3     Animation|Children's|Comedy  \n",
       "4     Animation|Children's|Comedy  "
      ]
     },
     "execution_count": 16,
     "metadata": {},
     "output_type": "execute_result"
    }
   ],
   "source": [
    "data[data['user_id'] == jiyeon_user_id]"
   ]
  },
  {
   "cell_type": "markdown",
   "id": "aa6bdf40",
   "metadata": {},
   "source": [
    "#### 유저, 영화 indexing 하는 코드\n",
    "\n",
    "- user_id 기준으로 유저 인덱싱\n",
    "- title 기준으로 영화 인덱싱"
   ]
  },
  {
   "cell_type": "code",
   "execution_count": 17,
   "id": "c941bde9",
   "metadata": {},
   "outputs": [],
   "source": [
    "user_unique = data['user_id'].unique()\n",
    "movie_unique = data['title'].unique()\n",
    "\n",
    "user_to_idx = {v:k for k,v in enumerate(user_unique)}\n",
    "movie_to_idx = {v:k for k,v in enumerate(movie_unique)}"
   ]
  },
  {
   "cell_type": "code",
   "execution_count": 18,
   "id": "133e037d",
   "metadata": {},
   "outputs": [
    {
     "name": "stdout",
     "output_type": "stream",
     "text": [
      "6039\n",
      "124\n"
     ]
    }
   ],
   "source": [
    "print(user_to_idx[jiyeon_user_id]) # 6040명 유저에서 마지막으로 추가된 유저이니 6039이 나와야 합니다. \n",
    "print(movie_to_idx['Matrix, The (1999)'])"
   ]
  },
  {
   "cell_type": "markdown",
   "id": "7124ebce",
   "metadata": {},
   "source": [
    "#### 추가된 데이터도 인덱싱하기"
   ]
  },
  {
   "cell_type": "code",
   "execution_count": 19,
   "id": "96c316e9",
   "metadata": {},
   "outputs": [
    {
     "name": "stdout",
     "output_type": "stream",
     "text": [
      "user_id column indexing OK!!\n",
      "title column indexing OK!!\n"
     ]
    },
    {
     "data": {
      "text/html": [
       "<div>\n",
       "<style scoped>\n",
       "    .dataframe tbody tr th:only-of-type {\n",
       "        vertical-align: middle;\n",
       "    }\n",
       "\n",
       "    .dataframe tbody tr th {\n",
       "        vertical-align: top;\n",
       "    }\n",
       "\n",
       "    .dataframe thead th {\n",
       "        text-align: right;\n",
       "    }\n",
       "</style>\n",
       "<table border=\"1\" class=\"dataframe\">\n",
       "  <thead>\n",
       "    <tr style=\"text-align: right;\">\n",
       "      <th></th>\n",
       "      <th>user_id</th>\n",
       "      <th>movie_id</th>\n",
       "      <th>counts</th>\n",
       "      <th>timestamp</th>\n",
       "      <th>title</th>\n",
       "      <th>genre</th>\n",
       "    </tr>\n",
       "  </thead>\n",
       "  <tbody>\n",
       "    <tr>\n",
       "      <th>0</th>\n",
       "      <td>0</td>\n",
       "      <td>1193</td>\n",
       "      <td>5</td>\n",
       "      <td>978300760</td>\n",
       "      <td>0</td>\n",
       "      <td>Drama</td>\n",
       "    </tr>\n",
       "    <tr>\n",
       "      <th>1</th>\n",
       "      <td>1</td>\n",
       "      <td>1193</td>\n",
       "      <td>5</td>\n",
       "      <td>978298413</td>\n",
       "      <td>0</td>\n",
       "      <td>Drama</td>\n",
       "    </tr>\n",
       "    <tr>\n",
       "      <th>2</th>\n",
       "      <td>2</td>\n",
       "      <td>1193</td>\n",
       "      <td>4</td>\n",
       "      <td>978220179</td>\n",
       "      <td>0</td>\n",
       "      <td>Drama</td>\n",
       "    </tr>\n",
       "    <tr>\n",
       "      <th>3</th>\n",
       "      <td>3</td>\n",
       "      <td>1193</td>\n",
       "      <td>4</td>\n",
       "      <td>978199279</td>\n",
       "      <td>0</td>\n",
       "      <td>Drama</td>\n",
       "    </tr>\n",
       "    <tr>\n",
       "      <th>4</th>\n",
       "      <td>4</td>\n",
       "      <td>1193</td>\n",
       "      <td>5</td>\n",
       "      <td>978158471</td>\n",
       "      <td>0</td>\n",
       "      <td>Drama</td>\n",
       "    </tr>\n",
       "    <tr>\n",
       "      <th>...</th>\n",
       "      <td>...</td>\n",
       "      <td>...</td>\n",
       "      <td>...</td>\n",
       "      <td>...</td>\n",
       "      <td>...</td>\n",
       "      <td>...</td>\n",
       "    </tr>\n",
       "    <tr>\n",
       "      <th>0</th>\n",
       "      <td>6039</td>\n",
       "      <td>2571</td>\n",
       "      <td>7</td>\n",
       "      <td>1645776414</td>\n",
       "      <td>124</td>\n",
       "      <td>Action|Sci-Fi|Thriller</td>\n",
       "    </tr>\n",
       "    <tr>\n",
       "      <th>1</th>\n",
       "      <td>6039</td>\n",
       "      <td>1580</td>\n",
       "      <td>7</td>\n",
       "      <td>1645776414</td>\n",
       "      <td>175</td>\n",
       "      <td>Action|Adventure|Comedy|Sci-Fi</td>\n",
       "    </tr>\n",
       "    <tr>\n",
       "      <th>2</th>\n",
       "      <td>6039</td>\n",
       "      <td>1270</td>\n",
       "      <td>7</td>\n",
       "      <td>1645776414</td>\n",
       "      <td>22</td>\n",
       "      <td>Comedy|Sci-Fi</td>\n",
       "    </tr>\n",
       "    <tr>\n",
       "      <th>3</th>\n",
       "      <td>6039</td>\n",
       "      <td>3114</td>\n",
       "      <td>7</td>\n",
       "      <td>1645776414</td>\n",
       "      <td>50</td>\n",
       "      <td>Animation|Children's|Comedy</td>\n",
       "    </tr>\n",
       "    <tr>\n",
       "      <th>4</th>\n",
       "      <td>6039</td>\n",
       "      <td>1</td>\n",
       "      <td>7</td>\n",
       "      <td>1645776414</td>\n",
       "      <td>40</td>\n",
       "      <td>Animation|Children's|Comedy</td>\n",
       "    </tr>\n",
       "  </tbody>\n",
       "</table>\n",
       "<p>836483 rows × 6 columns</p>\n",
       "</div>"
      ],
      "text/plain": [
       "    user_id  movie_id  counts   timestamp  title  \\\n",
       "0         0      1193       5   978300760      0   \n",
       "1         1      1193       5   978298413      0   \n",
       "2         2      1193       4   978220179      0   \n",
       "3         3      1193       4   978199279      0   \n",
       "4         4      1193       5   978158471      0   \n",
       "..      ...       ...     ...         ...    ...   \n",
       "0      6039      2571       7  1645776414    124   \n",
       "1      6039      1580       7  1645776414    175   \n",
       "2      6039      1270       7  1645776414     22   \n",
       "3      6039      3114       7  1645776414     50   \n",
       "4      6039         1       7  1645776414     40   \n",
       "\n",
       "                             genre  \n",
       "0                            Drama  \n",
       "1                            Drama  \n",
       "2                            Drama  \n",
       "3                            Drama  \n",
       "4                            Drama  \n",
       "..                             ...  \n",
       "0           Action|Sci-Fi|Thriller  \n",
       "1   Action|Adventure|Comedy|Sci-Fi  \n",
       "2                    Comedy|Sci-Fi  \n",
       "3      Animation|Children's|Comedy  \n",
       "4      Animation|Children's|Comedy  \n",
       "\n",
       "[836483 rows x 6 columns]"
      ]
     },
     "execution_count": 19,
     "metadata": {},
     "output_type": "execute_result"
    }
   ],
   "source": [
    "# indexing을 통해 데이터 컬럼 내 값을 바꾸는 코드\n",
    "temp_user_data = data['user_id'].map(user_to_idx.get).dropna()\n",
    "if len(temp_user_data) == len(data):\n",
    "    print('user_id column indexing OK!!')\n",
    "    data['user_id'] = temp_user_data\n",
    "else:\n",
    "    print('user_id column indexing Fail!!')\n",
    "\n",
    "# movie_to_idx을 통해 movie_id 컬럼도 동일한 방식으로 인덱싱해 줍니다. \n",
    "temp_movie_data = data['title'].map(movie_to_idx.get).dropna()\n",
    "if len(temp_movie_data) == len(data):\n",
    "    print('title column indexing OK!!')\n",
    "    data['title'] = temp_movie_data\n",
    "else:\n",
    "    print('title column indexing Fail!!')\n",
    "\n",
    "data"
   ]
  },
  {
   "cell_type": "markdown",
   "id": "65f9f944",
   "metadata": {},
   "source": [
    "# CSR matrix 만들기\n",
    "\n",
    "- 기존 user_id, movie_id로는 만들면 에러를 발생했습니다. -> CSR matrix에 넣는 데이터는 순서대로 데이터 크기만큼의 index 순번이어야 함\n",
    "    - 새로 인덱싱한 컬럼을 기준으로 csr matrix를 만듬\n",
    "- 총 6040명인 user 기준으로 CSR matrix가 구성됐습니다."
   ]
  },
  {
   "cell_type": "code",
   "execution_count": 20,
   "id": "8f592214",
   "metadata": {},
   "outputs": [
    {
     "data": {
      "text/plain": [
       "<6040x3628 sparse matrix of type '<class 'numpy.int64'>'\n",
       "\twith 836483 stored elements in Compressed Sparse Row format>"
      ]
     },
     "execution_count": 20,
     "metadata": {},
     "output_type": "execute_result"
    }
   ],
   "source": [
    "from scipy.sparse import csr_matrix\n",
    "\n",
    "num_user = data['user_id'].nunique()\n",
    "num_movie = data['title'].nunique()\n",
    "\n",
    "csr_data = csr_matrix((data.counts, (data.user_id, data.title)), shape= (num_user, num_movie))\n",
    "csr_data"
   ]
  },
  {
   "cell_type": "markdown",
   "id": "df2440fa",
   "metadata": {},
   "source": [
    "# MF 모델 학습하기\n",
    "\n",
    "### AlternatingLeastSquares 클래스\n",
    "- factors : 유저와 아이템의 벡터를 몇 차원으로 할 것인지\n",
    "- regularization : 과적합을 방지하기 위해 정규화 값을 얼마나 사용할 것인지\n",
    "- use_gpu : GPU 사용할 것인지\n",
    "- iterations : epochs와 같은 의미 (데이터를 몇 번 반복해서 학습할 것인지"
   ]
  },
  {
   "cell_type": "code",
   "execution_count": 21,
   "id": "e05c965d",
   "metadata": {},
   "outputs": [],
   "source": [
    "from implicit.als import AlternatingLeastSquares\n",
    "import os\n",
    "import numpy as np\n",
    "\n",
    "os.environ['OPENBLAS_NUM_THREADS']='1'\n",
    "os.environ['KMP_DUPLICATE_LIB_OK']='True'\n",
    "os.environ['MKL_NUM_THREADS']='1'"
   ]
  },
  {
   "cell_type": "code",
   "execution_count": 22,
   "id": "15294061",
   "metadata": {},
   "outputs": [
    {
     "data": {
      "application/vnd.jupyter.widget-view+json": {
       "model_id": "fd1112b9365e4ee8ae9540a48bd221d4",
       "version_major": 2,
       "version_minor": 0
      },
      "text/plain": [
       "  0%|          | 0/15 [00:00<?, ?it/s]"
      ]
     },
     "metadata": {},
     "output_type": "display_data"
    }
   ],
   "source": [
    "als_model = AlternatingLeastSquares(factors=100, regularization=0.01, use_gpu=False, iterations=15, dtype=np.float32)\n",
    "\n",
    "csr_data_transpose = csr_data.T\n",
    "csr_data_transpose\n",
    "\n",
    "als_model.fit(csr_data_transpose)"
   ]
  },
  {
   "cell_type": "markdown",
   "id": "f0aff8da",
   "metadata": {},
   "source": [
    "---\n",
    "\n",
    "# 선호도 파악하기\n",
    "\n",
    "> 내가 선호하는 5가지 영화 중 1개 & 그 외의 영화 1개 -> 훈련된 모델이 예측한 나의 선호도를 파악하기\n",
    "\n",
    "### 1) 내가 원래 선호하던 5가지 영화 중 1개 \n",
    "- Man In Black 영화 선호도를 확인해보기"
   ]
  },
  {
   "cell_type": "code",
   "execution_count": 23,
   "id": "48a6dcf3",
   "metadata": {},
   "outputs": [],
   "source": [
    "jiyeon, man_in_black = user_to_idx[jiyeon_user_id], movie_to_idx['Men in Black (1997)']\n",
    "jiyeon_vector, man_in_black_vector = als_model.user_factors[jiyeon], als_model.item_factors[man_in_black]"
   ]
  },
  {
   "cell_type": "code",
   "execution_count": 24,
   "id": "44eac5e7",
   "metadata": {},
   "outputs": [
    {
     "data": {
      "text/plain": [
       "array([-0.23758286,  0.30074987,  0.17326394,  0.563944  ,  1.2126328 ,\n",
       "        0.2317357 , -0.9363153 ,  1.0189747 ,  0.6819774 ,  0.45132038,\n",
       "       -0.2094896 ,  0.850293  ,  0.21444596,  0.03765312, -0.40517867,\n",
       "       -0.03254031,  0.7294786 , -0.55818474, -0.35695496,  0.15268695,\n",
       "       -0.0845459 , -0.01293401, -0.2671625 , -0.06574966,  0.5136933 ,\n",
       "       -0.84315765,  0.43996996, -1.3515253 , -0.01724607,  0.18981668,\n",
       "       -0.34490874,  0.16955782,  0.10552771, -0.76932234, -0.6555545 ,\n",
       "        0.6910811 , -0.90843046, -0.06507647,  0.5806643 , -1.0342112 ,\n",
       "       -0.8525131 , -0.6069823 , -0.38871273,  0.53127086, -1.0696485 ,\n",
       "       -0.12141237, -0.59144855, -0.38313097,  0.37234303,  0.42941728,\n",
       "        0.4718578 , -1.4794798 , -1.222309  , -0.28669265,  0.623441  ,\n",
       "       -0.2763535 , -0.23059084,  0.58885866, -0.3722807 ,  0.3235594 ,\n",
       "       -0.49971738,  0.07009993,  0.34157357, -0.5999077 , -0.48253328,\n",
       "       -0.13803825, -0.13084047, -0.9924836 ,  0.5654055 ,  0.75996655,\n",
       "        1.4999496 , -0.60288733,  0.9868932 ,  0.36525556,  0.6345018 ,\n",
       "        0.03469332,  0.94910824,  0.12729663, -0.23654309, -0.5262835 ,\n",
       "       -0.06389862,  0.37755504,  0.3504576 ,  0.7470711 , -0.22321717,\n",
       "        1.1872675 , -0.03869176, -0.9877677 , -0.54830384,  1.2987086 ,\n",
       "        0.22269495,  0.22361195,  0.6220449 , -0.4260225 , -0.06546792,\n",
       "        0.2516072 , -0.15971307,  0.30222377,  0.19384272,  0.5385035 ],\n",
       "      dtype=float32)"
      ]
     },
     "execution_count": 24,
     "metadata": {},
     "output_type": "execute_result"
    }
   ],
   "source": [
    "jiyeon_vector"
   ]
  },
  {
   "cell_type": "code",
   "execution_count": 25,
   "id": "1cf3388f",
   "metadata": {},
   "outputs": [
    {
     "data": {
      "text/plain": [
       "array([-8.5443738e-05,  3.1069664e-02,  4.1186693e-03,  5.7890597e-03,\n",
       "        3.4684349e-02,  2.3954093e-02, -8.1466204e-03, -3.8924413e-03,\n",
       "        3.4683224e-02,  2.3674327e-03, -1.0376813e-02,  1.1118839e-02,\n",
       "        9.7939484e-03,  2.3995033e-02, -3.9803952e-02,  3.4048550e-02,\n",
       "        2.1988647e-02,  1.5243468e-03,  7.2227116e-03,  1.5640680e-02,\n",
       "        2.5555342e-02,  8.9092785e-03, -2.1460666e-03,  5.0160207e-04,\n",
       "        1.7369157e-02, -1.6221231e-02,  1.8496460e-03, -4.2060632e-02,\n",
       "        6.2914053e-03, -6.8564564e-03, -1.7069589e-03,  3.7438668e-02,\n",
       "        8.7266183e-03, -3.8028065e-02, -1.0987275e-02,  9.4029205e-03,\n",
       "        9.7004669e-03,  6.0150307e-03,  4.4230990e-02, -1.4961043e-02,\n",
       "        3.1075554e-03,  1.8391175e-02,  1.4346210e-02,  6.0959198e-03,\n",
       "       -1.9844178e-02, -1.9995451e-02,  5.9113484e-03,  3.6454708e-03,\n",
       "        4.1803710e-02,  2.1395944e-02, -7.3675048e-03, -3.2991229e-03,\n",
       "       -1.1336498e-02,  1.7939399e-04,  2.0259175e-02, -1.3558588e-02,\n",
       "       -3.1133741e-03,  5.3917342e-03,  4.1164834e-02,  4.7794790e-03,\n",
       "       -2.4341629e-03,  4.1704709e-04, -5.9398245e-03, -4.3505779e-03,\n",
       "        8.6600035e-03,  1.7773493e-05,  1.1246921e-02, -2.1418124e-02,\n",
       "        1.9637199e-02,  9.5528206e-03,  2.4154207e-02, -3.8340525e-03,\n",
       "        7.0894626e-03,  5.6866319e-03,  2.1037392e-02,  2.8688911e-02,\n",
       "        2.4368502e-02,  2.3606785e-02, -6.3246968e-03, -5.3318357e-03,\n",
       "       -1.9704783e-02, -1.0229291e-03,  4.3388218e-02,  4.5554601e-03,\n",
       "        3.5441124e-03,  2.4848795e-02, -6.6303462e-03, -4.2158607e-03,\n",
       "       -2.5235452e-02,  1.0057275e-02,  3.6797088e-02, -2.2928510e-03,\n",
       "        1.3860612e-02, -2.2519289e-02,  1.7330324e-02,  1.0082691e-02,\n",
       "       -3.2430407e-02,  1.5261527e-02, -3.2705821e-02,  2.7074939e-02],\n",
       "      dtype=float32)"
      ]
     },
     "execution_count": 25,
     "metadata": {},
     "output_type": "execute_result"
    }
   ],
   "source": [
    "man_in_black_vector"
   ]
  },
  {
   "cell_type": "code",
   "execution_count": 26,
   "id": "7039a7fd",
   "metadata": {},
   "outputs": [
    {
     "data": {
      "text/plain": [
       "0.5959657"
      ]
     },
     "execution_count": 26,
     "metadata": {},
     "output_type": "execute_result"
    }
   ],
   "source": [
    "np.dot(jiyeon_vector, man_in_black_vector)"
   ]
  },
  {
   "cell_type": "markdown",
   "id": "e7589f9b",
   "metadata": {},
   "source": [
    "### 2) 그 외 영화 1개 \n",
    "- 별로 좋아하지 않은 영화(Schindler's List) 선호도를 확인해보기     "
   ]
  },
  {
   "cell_type": "code",
   "execution_count": 27,
   "id": "b214b886",
   "metadata": {},
   "outputs": [],
   "source": [
    "jiyeon, schindler = user_to_idx[jiyeon_user_id], movie_to_idx[\"Schindler's List (1993)\"]\n",
    "jiyeon_vector, schindler_vector = als_model.user_factors[jiyeon], als_model.item_factors[schindler]"
   ]
  },
  {
   "cell_type": "code",
   "execution_count": 28,
   "id": "3bdb7b6d",
   "metadata": {},
   "outputs": [
    {
     "data": {
      "text/plain": [
       "0.07323523"
      ]
     },
     "execution_count": 28,
     "metadata": {},
     "output_type": "execute_result"
    }
   ],
   "source": [
    "np.dot(jiyeon_vector, schindler_vector)"
   ]
  },
  {
   "cell_type": "markdown",
   "id": "a125e62f",
   "metadata": {},
   "source": [
    "#### [원래 선호하던 영화]가 [그 외 영화] 보다 선호도가 더 높은 것을 확인할 수 있습니다. 실제 선호도에 따른 수치가 적절하게 나왔습니다."
   ]
  },
  {
   "cell_type": "markdown",
   "id": "e98b33d6",
   "metadata": {},
   "source": [
    "---\n",
    "\n",
    "> 추천을 진행하기 전에 미리 분석한 결과를 공유하면\n",
    ">\n",
    "> 별점으로 학습하여 추천한 영화들이 **genre(장르)와 강한 연관성**이 있음을 확인할 수 있었습니다.\n",
    ">\n",
    "> 따라서 장르 데이터와 함께 추천 결과를 비교해보겠습니다.\n",
    "\n",
    "\n",
    "# 내가 좋아하는 영화와 비슷한 영화를 추천받기\n",
    "\n",
    "#### 설정한 좋아하는 영화 리스트"
   ]
  },
  {
   "cell_type": "code",
   "execution_count": 54,
   "id": "2b7834e5",
   "metadata": {},
   "outputs": [
    {
     "data": {
      "text/html": [
       "<div>\n",
       "<style scoped>\n",
       "    .dataframe tbody tr th:only-of-type {\n",
       "        vertical-align: middle;\n",
       "    }\n",
       "\n",
       "    .dataframe tbody tr th {\n",
       "        vertical-align: top;\n",
       "    }\n",
       "\n",
       "    .dataframe thead th {\n",
       "        text-align: right;\n",
       "    }\n",
       "</style>\n",
       "<table border=\"1\" class=\"dataframe\">\n",
       "  <thead>\n",
       "    <tr style=\"text-align: right;\">\n",
       "      <th></th>\n",
       "      <th>movie_id</th>\n",
       "      <th>title</th>\n",
       "      <th>genre</th>\n",
       "    </tr>\n",
       "  </thead>\n",
       "  <tbody>\n",
       "    <tr>\n",
       "      <th>0</th>\n",
       "      <td>1</td>\n",
       "      <td>Toy Story (1995)</td>\n",
       "      <td>Animation|Children's|Comedy</td>\n",
       "    </tr>\n",
       "    <tr>\n",
       "      <th>1250</th>\n",
       "      <td>1270</td>\n",
       "      <td>Back to the Future (1985)</td>\n",
       "      <td>Comedy|Sci-Fi</td>\n",
       "    </tr>\n",
       "    <tr>\n",
       "      <th>1539</th>\n",
       "      <td>1580</td>\n",
       "      <td>Men in Black (1997)</td>\n",
       "      <td>Action|Adventure|Comedy|Sci-Fi</td>\n",
       "    </tr>\n",
       "    <tr>\n",
       "      <th>2502</th>\n",
       "      <td>2571</td>\n",
       "      <td>Matrix, The (1999)</td>\n",
       "      <td>Action|Sci-Fi|Thriller</td>\n",
       "    </tr>\n",
       "    <tr>\n",
       "      <th>3045</th>\n",
       "      <td>3114</td>\n",
       "      <td>Toy Story 2 (1999)</td>\n",
       "      <td>Animation|Children's|Comedy</td>\n",
       "    </tr>\n",
       "  </tbody>\n",
       "</table>\n",
       "</div>"
      ],
      "text/plain": [
       "      movie_id                      title                           genre\n",
       "0            1           Toy Story (1995)     Animation|Children's|Comedy\n",
       "1250      1270  Back to the Future (1985)                   Comedy|Sci-Fi\n",
       "1539      1580        Men in Black (1997)  Action|Adventure|Comedy|Sci-Fi\n",
       "2502      2571         Matrix, The (1999)          Action|Sci-Fi|Thriller\n",
       "3045      3114         Toy Story 2 (1999)     Animation|Children's|Comedy"
      ]
     },
     "execution_count": 54,
     "metadata": {},
     "output_type": "execute_result"
    }
   ],
   "source": [
    "my_movielist = ('Matrix, The (1999)', 'Men in Black (1997)', 'Back to the Future (1985)', 'Toy Story 2 (1999)', 'Toy Story (1995)')\n",
    "\n",
    "movies.loc[movies['title'].isin(my_movielist)]"
   ]
  },
  {
   "cell_type": "markdown",
   "id": "634ea2e5",
   "metadata": {},
   "source": [
    "#### 제가 좋아하는 영화 장르를 살펴보면,\n",
    "``중복된 장르 >= 2``를 기준으로 \n",
    "\n",
    "- Comedy(4)\n",
    "- SF(3)\n",
    "- Animation(2), Children's(2), Action(2) \n",
    "\n",
    "임을 알 수 있습니다.\n",
    "\n",
    "### 이를 기준으로 비슷한 영화를 추천 받아 보겠습니다."
   ]
  },
  {
   "cell_type": "code",
   "execution_count": 31,
   "id": "ada0dd15",
   "metadata": {},
   "outputs": [],
   "source": [
    "idx_to_movie = {v:k for k,v in movie_to_idx.items()}"
   ]
  },
  {
   "cell_type": "code",
   "execution_count": 32,
   "id": "123f834d",
   "metadata": {},
   "outputs": [],
   "source": [
    "def get_similar_movie(movie: str, num=10):\n",
    "    movie_id = movie_to_idx[movie]\n",
    "    similar_movie = als_model.similar_items(movie_id, N=num)\n",
    "    similar_movie = [idx_to_movie[i[0]] for i in similar_movie]\n",
    "    return similar_movie"
   ]
  },
  {
   "cell_type": "markdown",
   "id": "45dbebdf",
   "metadata": {},
   "source": [
    "### 매트릭스와 비슷한 영화들\n",
    "\n",
    "- Matrix, The (1999) : Action|Sci-Fi|Thriller"
   ]
  },
  {
   "cell_type": "code",
   "execution_count": 55,
   "id": "525d22fc",
   "metadata": {},
   "outputs": [
    {
     "data": {
      "text/html": [
       "<div>\n",
       "<style scoped>\n",
       "    .dataframe tbody tr th:only-of-type {\n",
       "        vertical-align: middle;\n",
       "    }\n",
       "\n",
       "    .dataframe tbody tr th {\n",
       "        vertical-align: top;\n",
       "    }\n",
       "\n",
       "    .dataframe thead th {\n",
       "        text-align: right;\n",
       "    }\n",
       "</style>\n",
       "<table border=\"1\" class=\"dataframe\">\n",
       "  <thead>\n",
       "    <tr style=\"text-align: right;\">\n",
       "      <th></th>\n",
       "      <th>movie_id</th>\n",
       "      <th>title</th>\n",
       "      <th>genre</th>\n",
       "    </tr>\n",
       "  </thead>\n",
       "  <tbody>\n",
       "    <tr>\n",
       "      <th>31</th>\n",
       "      <td>32</td>\n",
       "      <td>Twelve Monkeys (1995)</td>\n",
       "      <td>Drama|Sci-Fi</td>\n",
       "    </tr>\n",
       "    <tr>\n",
       "      <th>257</th>\n",
       "      <td>260</td>\n",
       "      <td>Star Wars: Episode IV - A New Hope (1977)</td>\n",
       "      <td>Action|Adventure|Fantasy|Sci-Fi</td>\n",
       "    </tr>\n",
       "    <tr>\n",
       "      <th>453</th>\n",
       "      <td>457</td>\n",
       "      <td>Fugitive, The (1993)</td>\n",
       "      <td>Action|Thriller</td>\n",
       "    </tr>\n",
       "    <tr>\n",
       "      <th>476</th>\n",
       "      <td>480</td>\n",
       "      <td>Jurassic Park (1993)</td>\n",
       "      <td>Action|Adventure|Sci-Fi</td>\n",
       "    </tr>\n",
       "    <tr>\n",
       "      <th>585</th>\n",
       "      <td>589</td>\n",
       "      <td>Terminator 2: Judgment Day (1991)</td>\n",
       "      <td>Action|Sci-Fi|Thriller</td>\n",
       "    </tr>\n",
       "    <tr>\n",
       "      <th>1220</th>\n",
       "      <td>1240</td>\n",
       "      <td>Terminator, The (1984)</td>\n",
       "      <td>Action|Sci-Fi|Thriller</td>\n",
       "    </tr>\n",
       "    <tr>\n",
       "      <th>1491</th>\n",
       "      <td>1527</td>\n",
       "      <td>Fifth Element, The (1997)</td>\n",
       "      <td>Action|Sci-Fi</td>\n",
       "    </tr>\n",
       "    <tr>\n",
       "      <th>1533</th>\n",
       "      <td>1573</td>\n",
       "      <td>Face/Off (1997)</td>\n",
       "      <td>Action|Sci-Fi|Thriller</td>\n",
       "    </tr>\n",
       "    <tr>\n",
       "      <th>1539</th>\n",
       "      <td>1580</td>\n",
       "      <td>Men in Black (1997)</td>\n",
       "      <td>Action|Adventure|Comedy|Sci-Fi</td>\n",
       "    </tr>\n",
       "    <tr>\n",
       "      <th>1568</th>\n",
       "      <td>1610</td>\n",
       "      <td>Hunt for Red October, The (1990)</td>\n",
       "      <td>Action|Thriller</td>\n",
       "    </tr>\n",
       "    <tr>\n",
       "      <th>1607</th>\n",
       "      <td>1653</td>\n",
       "      <td>Gattaca (1997)</td>\n",
       "      <td>Drama|Sci-Fi|Thriller</td>\n",
       "    </tr>\n",
       "    <tr>\n",
       "      <th>1959</th>\n",
       "      <td>2028</td>\n",
       "      <td>Saving Private Ryan (1998)</td>\n",
       "      <td>Action|Drama|War</td>\n",
       "    </tr>\n",
       "    <tr>\n",
       "      <th>2502</th>\n",
       "      <td>2571</td>\n",
       "      <td>Matrix, The (1999)</td>\n",
       "      <td>Action|Sci-Fi|Thriller</td>\n",
       "    </tr>\n",
       "    <tr>\n",
       "      <th>2693</th>\n",
       "      <td>2762</td>\n",
       "      <td>Sixth Sense, The (1999)</td>\n",
       "      <td>Thriller</td>\n",
       "    </tr>\n",
       "    <tr>\n",
       "      <th>2847</th>\n",
       "      <td>2916</td>\n",
       "      <td>Total Recall (1990)</td>\n",
       "      <td>Action|Adventure|Sci-Fi|Thriller</td>\n",
       "    </tr>\n",
       "  </tbody>\n",
       "</table>\n",
       "</div>"
      ],
      "text/plain": [
       "      movie_id                                      title  \\\n",
       "31          32                      Twelve Monkeys (1995)   \n",
       "257        260  Star Wars: Episode IV - A New Hope (1977)   \n",
       "453        457                       Fugitive, The (1993)   \n",
       "476        480                       Jurassic Park (1993)   \n",
       "585        589          Terminator 2: Judgment Day (1991)   \n",
       "1220      1240                     Terminator, The (1984)   \n",
       "1491      1527                  Fifth Element, The (1997)   \n",
       "1533      1573                            Face/Off (1997)   \n",
       "1539      1580                        Men in Black (1997)   \n",
       "1568      1610           Hunt for Red October, The (1990)   \n",
       "1607      1653                             Gattaca (1997)   \n",
       "1959      2028                 Saving Private Ryan (1998)   \n",
       "2502      2571                         Matrix, The (1999)   \n",
       "2693      2762                    Sixth Sense, The (1999)   \n",
       "2847      2916                        Total Recall (1990)   \n",
       "\n",
       "                                 genre  \n",
       "31                        Drama|Sci-Fi  \n",
       "257    Action|Adventure|Fantasy|Sci-Fi  \n",
       "453                    Action|Thriller  \n",
       "476            Action|Adventure|Sci-Fi  \n",
       "585             Action|Sci-Fi|Thriller  \n",
       "1220            Action|Sci-Fi|Thriller  \n",
       "1491                     Action|Sci-Fi  \n",
       "1533            Action|Sci-Fi|Thriller  \n",
       "1539    Action|Adventure|Comedy|Sci-Fi  \n",
       "1568                   Action|Thriller  \n",
       "1607             Drama|Sci-Fi|Thriller  \n",
       "1959                  Action|Drama|War  \n",
       "2502            Action|Sci-Fi|Thriller  \n",
       "2693                          Thriller  \n",
       "2847  Action|Adventure|Sci-Fi|Thriller  "
      ]
     },
     "execution_count": 55,
     "metadata": {},
     "output_type": "execute_result"
    }
   ],
   "source": [
    "similar_movies = get_similar_movie('Matrix, The (1999)', 15)\n",
    "movies.loc[movies['title'].isin(similar_movies)]"
   ]
  },
  {
   "cell_type": "markdown",
   "id": "67c317ae",
   "metadata": {},
   "source": [
    "**매트릭스(Action|Sci-Fi|Thriller)와 비슷한 장르의 영화들을 추천받았습니다.**"
   ]
  },
  {
   "cell_type": "markdown",
   "id": "0addc9e4",
   "metadata": {},
   "source": [
    "### 토이스토리와 비슷한 영화들\n",
    "\n",
    "- Toy Story 2 (1999) : Animation|Children's|Comedy"
   ]
  },
  {
   "cell_type": "code",
   "execution_count": 56,
   "id": "3a4b63c7",
   "metadata": {},
   "outputs": [
    {
     "data": {
      "text/html": [
       "<div>\n",
       "<style scoped>\n",
       "    .dataframe tbody tr th:only-of-type {\n",
       "        vertical-align: middle;\n",
       "    }\n",
       "\n",
       "    .dataframe tbody tr th {\n",
       "        vertical-align: top;\n",
       "    }\n",
       "\n",
       "    .dataframe thead th {\n",
       "        text-align: right;\n",
       "    }\n",
       "</style>\n",
       "<table border=\"1\" class=\"dataframe\">\n",
       "  <thead>\n",
       "    <tr style=\"text-align: right;\">\n",
       "      <th></th>\n",
       "      <th>movie_id</th>\n",
       "      <th>title</th>\n",
       "      <th>genre</th>\n",
       "    </tr>\n",
       "  </thead>\n",
       "  <tbody>\n",
       "    <tr>\n",
       "      <th>0</th>\n",
       "      <td>1</td>\n",
       "      <td>Toy Story (1995)</td>\n",
       "      <td>Animation|Children's|Comedy</td>\n",
       "    </tr>\n",
       "    <tr>\n",
       "      <th>33</th>\n",
       "      <td>34</td>\n",
       "      <td>Babe (1995)</td>\n",
       "      <td>Children's|Comedy|Drama</td>\n",
       "    </tr>\n",
       "    <tr>\n",
       "      <th>360</th>\n",
       "      <td>364</td>\n",
       "      <td>Lion King, The (1994)</td>\n",
       "      <td>Animation|Children's|Musical</td>\n",
       "    </tr>\n",
       "    <tr>\n",
       "      <th>584</th>\n",
       "      <td>588</td>\n",
       "      <td>Aladdin (1992)</td>\n",
       "      <td>Animation|Children's|Comedy|Musical</td>\n",
       "    </tr>\n",
       "    <tr>\n",
       "      <th>591</th>\n",
       "      <td>595</td>\n",
       "      <td>Beauty and the Beast (1991)</td>\n",
       "      <td>Animation|Children's|Musical</td>\n",
       "    </tr>\n",
       "    <tr>\n",
       "      <th>1526</th>\n",
       "      <td>1566</td>\n",
       "      <td>Hercules (1997)</td>\n",
       "      <td>Adventure|Animation|Children's|Comedy|Musical</td>\n",
       "    </tr>\n",
       "    <tr>\n",
       "      <th>2286</th>\n",
       "      <td>2355</td>\n",
       "      <td>Bug's Life, A (1998)</td>\n",
       "      <td>Animation|Children's|Comedy</td>\n",
       "    </tr>\n",
       "    <tr>\n",
       "      <th>2315</th>\n",
       "      <td>2384</td>\n",
       "      <td>Babe: Pig in the City (1998)</td>\n",
       "      <td>Children's|Comedy</td>\n",
       "    </tr>\n",
       "    <tr>\n",
       "      <th>2327</th>\n",
       "      <td>2396</td>\n",
       "      <td>Shakespeare in Love (1998)</td>\n",
       "      <td>Comedy|Romance</td>\n",
       "    </tr>\n",
       "    <tr>\n",
       "      <th>2618</th>\n",
       "      <td>2687</td>\n",
       "      <td>Tarzan (1999)</td>\n",
       "      <td>Animation|Children's</td>\n",
       "    </tr>\n",
       "    <tr>\n",
       "      <th>2692</th>\n",
       "      <td>2761</td>\n",
       "      <td>Iron Giant, The (1999)</td>\n",
       "      <td>Animation|Children's</td>\n",
       "    </tr>\n",
       "    <tr>\n",
       "      <th>3045</th>\n",
       "      <td>3114</td>\n",
       "      <td>Toy Story 2 (1999)</td>\n",
       "      <td>Animation|Children's|Comedy</td>\n",
       "    </tr>\n",
       "    <tr>\n",
       "      <th>3088</th>\n",
       "      <td>3157</td>\n",
       "      <td>Stuart Little (1999)</td>\n",
       "      <td>Children's|Comedy</td>\n",
       "    </tr>\n",
       "    <tr>\n",
       "      <th>3218</th>\n",
       "      <td>3287</td>\n",
       "      <td>Tigger Movie, The (2000)</td>\n",
       "      <td>Animation|Children's</td>\n",
       "    </tr>\n",
       "    <tr>\n",
       "      <th>3682</th>\n",
       "      <td>3751</td>\n",
       "      <td>Chicken Run (2000)</td>\n",
       "      <td>Animation|Children's|Comedy</td>\n",
       "    </tr>\n",
       "  </tbody>\n",
       "</table>\n",
       "</div>"
      ],
      "text/plain": [
       "      movie_id                         title  \\\n",
       "0            1              Toy Story (1995)   \n",
       "33          34                   Babe (1995)   \n",
       "360        364         Lion King, The (1994)   \n",
       "584        588                Aladdin (1992)   \n",
       "591        595   Beauty and the Beast (1991)   \n",
       "1526      1566               Hercules (1997)   \n",
       "2286      2355          Bug's Life, A (1998)   \n",
       "2315      2384  Babe: Pig in the City (1998)   \n",
       "2327      2396    Shakespeare in Love (1998)   \n",
       "2618      2687                 Tarzan (1999)   \n",
       "2692      2761        Iron Giant, The (1999)   \n",
       "3045      3114            Toy Story 2 (1999)   \n",
       "3088      3157          Stuart Little (1999)   \n",
       "3218      3287      Tigger Movie, The (2000)   \n",
       "3682      3751            Chicken Run (2000)   \n",
       "\n",
       "                                              genre  \n",
       "0                       Animation|Children's|Comedy  \n",
       "33                          Children's|Comedy|Drama  \n",
       "360                    Animation|Children's|Musical  \n",
       "584             Animation|Children's|Comedy|Musical  \n",
       "591                    Animation|Children's|Musical  \n",
       "1526  Adventure|Animation|Children's|Comedy|Musical  \n",
       "2286                    Animation|Children's|Comedy  \n",
       "2315                              Children's|Comedy  \n",
       "2327                                 Comedy|Romance  \n",
       "2618                           Animation|Children's  \n",
       "2692                           Animation|Children's  \n",
       "3045                    Animation|Children's|Comedy  \n",
       "3088                              Children's|Comedy  \n",
       "3218                           Animation|Children's  \n",
       "3682                    Animation|Children's|Comedy  "
      ]
     },
     "execution_count": 56,
     "metadata": {},
     "output_type": "execute_result"
    }
   ],
   "source": [
    "similar_movies = get_similar_movie('Toy Story 2 (1999)', 15)\n",
    "movies.loc[movies['title'].isin(similar_movies)]"
   ]
  },
  {
   "cell_type": "markdown",
   "id": "28b7ec97",
   "metadata": {},
   "source": [
    "**Toy Story 2 (1999)(Animation|Children's|Comedy)와 비슷한 장르의 영화들을 추천받았습니다.**"
   ]
  },
  {
   "cell_type": "markdown",
   "id": "f210e5ee",
   "metadata": {},
   "source": [
    "---\n",
    "\n",
    "# 내가 가장 좋아할 만한 영화들을 추천받기"
   ]
  },
  {
   "cell_type": "code",
   "execution_count": 35,
   "id": "7b6478f5",
   "metadata": {},
   "outputs": [],
   "source": [
    "user = user_to_idx[jiyeon_user_id]"
   ]
  },
  {
   "cell_type": "code",
   "execution_count": 36,
   "id": "f7303bbe",
   "metadata": {},
   "outputs": [
    {
     "data": {
      "text/plain": [
       "[(92, 0.5762428),\n",
       " (107, 0.54209596),\n",
       " (4, 0.5114997),\n",
       " (322, 0.41800052),\n",
       " (62, 0.39809644),\n",
       " (160, 0.38462758),\n",
       " (38, 0.3334483),\n",
       " (110, 0.3208392),\n",
       " (670, 0.31960294),\n",
       " (317, 0.30118093),\n",
       " (26, 0.29525116),\n",
       " (141, 0.28703824),\n",
       " (48, 0.28647113),\n",
       " (33, 0.28223056),\n",
       " (474, 0.2719693),\n",
       " (200, 0.27159557),\n",
       " (479, 0.27029067),\n",
       " (5, 0.26124462),\n",
       " (243, 0.25994566),\n",
       " (372, 0.2594849)]"
      ]
     },
     "execution_count": 36,
     "metadata": {},
     "output_type": "execute_result"
    }
   ],
   "source": [
    "movie_recommended = als_model.recommend(user, csr_data, N=20, filter_already_liked_items=True)\n",
    "movie_recommended"
   ]
  },
  {
   "cell_type": "markdown",
   "id": "399b3ec1",
   "metadata": {},
   "source": [
    "#### 내가 좋아할만한 영화들을 추천받아봅니다."
   ]
  },
  {
   "cell_type": "code",
   "execution_count": 37,
   "id": "e37489d8",
   "metadata": {},
   "outputs": [
    {
     "data": {
      "text/plain": [
       "['Terminator 2: Judgment Day (1991)',\n",
       " 'Jurassic Park (1993)',\n",
       " \"Bug's Life, A (1998)\",\n",
       " 'Babe (1995)',\n",
       " 'Total Recall (1990)',\n",
       " 'Forrest Gump (1994)',\n",
       " 'Sixth Sense, The (1999)',\n",
       " 'Groundhog Day (1993)',\n",
       " 'Galaxy Quest (1999)',\n",
       " 'Twelve Monkeys (1995)',\n",
       " 'E.T. the Extra-Terrestrial (1982)',\n",
       " 'Fugitive, The (1993)',\n",
       " 'Saving Private Ryan (1998)',\n",
       " 'Aladdin (1992)',\n",
       " 'Chicken Run (2000)',\n",
       " 'Terminator, The (1984)',\n",
       " 'Contact (1997)',\n",
       " 'Princess Bride, The (1987)',\n",
       " 'Ghostbusters (1984)',\n",
       " 'X-Men (2000)']"
      ]
     },
     "execution_count": 37,
     "metadata": {},
     "output_type": "execute_result"
    }
   ],
   "source": [
    "[idx_to_movie[i[0]] for i in movie_recommended]"
   ]
  },
  {
   "cell_type": "markdown",
   "id": "19a05114",
   "metadata": {},
   "source": [
    "#### 이 중에서 원래 좋아하던 영화(\"Aladdin (1992)\")를 골라 추천 기여도를 확인해봅니다."
   ]
  },
  {
   "cell_type": "code",
   "execution_count": 38,
   "id": "867b661d",
   "metadata": {},
   "outputs": [
    {
     "data": {
      "text/plain": [
       "[('Toy Story (1995)', 0.1758038457138342),\n",
       " ('Toy Story 2 (1999)', 0.06341676831393986),\n",
       " ('Back to the Future (1985)', 0.05129906372841753),\n",
       " ('Men in Black (1997)', 0.015620400609459097),\n",
       " ('Matrix, The (1999)', -0.027145758649772957)]"
      ]
     },
     "execution_count": 38,
     "metadata": {},
     "output_type": "execute_result"
    }
   ],
   "source": [
    "aladdin = movie_to_idx['Aladdin (1992)']\n",
    "explain = als_model.explain(user, csr_data, itemid=aladdin)\n",
    "\n",
    "[(idx_to_movie[i[0]], i[1]) for i in explain[1]]"
   ]
  },
  {
   "cell_type": "markdown",
   "id": "8f4bae7a",
   "metadata": {},
   "source": [
    "**\"Aladdin (1992)\" 영화는 토이스토리 영화 시리즈에 기여도가 많이 나옵니다. 애니메이션 장르로 묶여 추천된 것으로 보입니다.**\n",
    "\n",
    "**추천된 영화 중에 정말 좋아하는 영화(Forrest Gump (1994))가 뜻밖에 포함되어 있어 기여도를 확인해봅니다.**"
   ]
  },
  {
   "cell_type": "code",
   "execution_count": 39,
   "id": "c7d2de61",
   "metadata": {},
   "outputs": [
    {
     "data": {
      "text/plain": [
       "[('Back to the Future (1985)', 0.14945138492202126),\n",
       " ('Toy Story (1995)', 0.09205643873690289),\n",
       " ('Men in Black (1997)', 0.07096853516934001),\n",
       " ('Toy Story 2 (1999)', 0.06571132739706201),\n",
       " ('Matrix, The (1999)', 0.004321840875410904)]"
      ]
     },
     "execution_count": 39,
     "metadata": {},
     "output_type": "execute_result"
    }
   ],
   "source": [
    "forrest_gump = movie_to_idx['Forrest Gump (1994)']\n",
    "explain = als_model.explain(user, csr_data, itemid=forrest_gump)\n",
    "\n",
    "[(idx_to_movie[i[0]], i[1]) for i in explain[1]]"
   ]
  },
  {
   "cell_type": "markdown",
   "id": "adaa70b7",
   "metadata": {},
   "source": [
    "##### 사실 Forrest Gump (1994) 영화가 추천되서 뜻밖이었습니다. \n",
    "\n",
    "의도적으로 좋아하는 영화를 SF와 애니메이션 장르 영화만 설정해서 추천을 돌렸기 때문에\n",
    "\n",
    "\"Forrest Gump (1994)\" 영화가 Back to the Future나 Toy Story에 기여도로부터 추천되었다는 점은 조금 이상했습니다.\n",
    "\n",
    "그러나 Forrest Gump (1994)가 Back to the Future (1985), Toy Story (1995)와 어떤 연관이 있는지 데이터를 살펴보니,"
   ]
  },
  {
   "cell_type": "code",
   "execution_count": 52,
   "id": "af6b82d7",
   "metadata": {},
   "outputs": [
    {
     "data": {
      "text/html": [
       "<div>\n",
       "<style scoped>\n",
       "    .dataframe tbody tr th:only-of-type {\n",
       "        vertical-align: middle;\n",
       "    }\n",
       "\n",
       "    .dataframe tbody tr th {\n",
       "        vertical-align: top;\n",
       "    }\n",
       "\n",
       "    .dataframe thead th {\n",
       "        text-align: right;\n",
       "    }\n",
       "</style>\n",
       "<table border=\"1\" class=\"dataframe\">\n",
       "  <thead>\n",
       "    <tr style=\"text-align: right;\">\n",
       "      <th></th>\n",
       "      <th>movie_id</th>\n",
       "      <th>title</th>\n",
       "      <th>genre</th>\n",
       "    </tr>\n",
       "  </thead>\n",
       "  <tbody>\n",
       "    <tr>\n",
       "      <th>0</th>\n",
       "      <td>1</td>\n",
       "      <td>Toy Story (1995)</td>\n",
       "      <td>Animation|Children's|Comedy</td>\n",
       "    </tr>\n",
       "    <tr>\n",
       "      <th>352</th>\n",
       "      <td>356</td>\n",
       "      <td>Forrest Gump (1994)</td>\n",
       "      <td>Comedy|Romance|War</td>\n",
       "    </tr>\n",
       "    <tr>\n",
       "      <th>1250</th>\n",
       "      <td>1270</td>\n",
       "      <td>Back to the Future (1985)</td>\n",
       "      <td>Comedy|Sci-Fi</td>\n",
       "    </tr>\n",
       "  </tbody>\n",
       "</table>\n",
       "</div>"
      ],
      "text/plain": [
       "      movie_id                      title                        genre\n",
       "0            1           Toy Story (1995)  Animation|Children's|Comedy\n",
       "352        356        Forrest Gump (1994)           Comedy|Romance|War\n",
       "1250      1270  Back to the Future (1985)                Comedy|Sci-Fi"
      ]
     },
     "execution_count": 52,
     "metadata": {},
     "output_type": "execute_result"
    }
   ],
   "source": [
    "movies.loc[movies['movie_id'].isin((1270, 1, 356))]"
   ]
  },
  {
   "cell_type": "markdown",
   "id": "b9f88edd",
   "metadata": {},
   "source": [
    "genre 데이터에서 같은 ``Comedy`` 장르라는 정보를 확인할 수 있었습니다. 기여도가 적절하게 선정된 것을 확인할 수 있었습니다."
   ]
  },
  {
   "cell_type": "markdown",
   "id": "0b033cff",
   "metadata": {},
   "source": [
    "---\n",
    "\n",
    "# 회고\n",
    "\n",
    "### 시도한 것들\n",
    "    - 데이터셋의 정보를 더 잘 확인하기 위해 ratings와 movies 데이터를 join해서 처리했습니다.\n",
    "    - CSR matrix를 기존 user_id, movie_id로는 만들려했더니 에러를 발생했습니다\n",
    "        - 원인 : CSR matrix에 넣는 데이터는 순서대로 데이터 크기만큼의 index 순번이어야 함\n",
    "        - 해결 : 새로 인덱싱한 컬럼을 기준으로 csr matrix를 만들어 에러를 해결\n",
    "        \n",
    "### 아쉬운 점\n",
    "    - 추천 데이터에 timestamp를 활용해보면 어떨까 하는 아이디어가 떠올랐습니다. 시간이 지남에 따라 사람의 취향이 변할 수 있기 때문입니다. 따라서 동일 인물이더라도 기간 범주를 두어 다른 인물(취향)으로 분리해서 보는 방법은 어떨까 생각했습니다. (그러나 역시 아이디어 말고 실제 구현을 해봤어야...!)"
   ]
  }
 ],
 "metadata": {
  "kernelspec": {
   "display_name": "Python 3 (ipykernel)",
   "language": "python",
   "name": "python3"
  },
  "language_info": {
   "codemirror_mode": {
    "name": "ipython",
    "version": 3
   },
   "file_extension": ".py",
   "mimetype": "text/x-python",
   "name": "python",
   "nbconvert_exporter": "python",
   "pygments_lexer": "ipython3",
   "version": "3.9.7"
  }
 },
 "nbformat": 4,
 "nbformat_minor": 5
}
