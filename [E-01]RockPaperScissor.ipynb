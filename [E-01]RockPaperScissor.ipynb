{
 "cells": [
  {
   "cell_type": "markdown",
   "id": "784fec1d",
   "metadata": {},
   "source": [
    "# 인공지능과 가위바위보하기 미니프로젝트"
   ]
  },
  {
   "cell_type": "markdown",
   "id": "7ae26f47",
   "metadata": {},
   "source": [
    "### 1. 라이브러리 초기화"
   ]
  },
  {
   "cell_type": "code",
   "execution_count": 114,
   "id": "b3a48bde",
   "metadata": {},
   "outputs": [],
   "source": [
    "from PIL import Image\n",
    "import glob\n",
    "import os\n",
    "\n",
    "import tensorflow as tf\n",
    "from tensorflow import keras\n",
    "\n",
    "import numpy as np\n",
    "import matplotlib.pyplot as plt"
   ]
  },
  {
   "cell_type": "code",
   "execution_count": 115,
   "id": "fca7a5d3",
   "metadata": {},
   "outputs": [],
   "source": [
    "img_size = 28"
   ]
  },
  {
   "cell_type": "markdown",
   "id": "872d7b6d",
   "metadata": {},
   "source": [
    "### 2. 데이터 불러오기 + Resize하기"
   ]
  },
  {
   "cell_type": "code",
   "execution_count": 149,
   "id": "5d380514",
   "metadata": {},
   "outputs": [],
   "source": [
    "def resize_images(img_path, img_size):\n",
    "    images=glob.glob(img_path + \"/*.jpg\")  \n",
    "    \n",
    "    print(len(images), \" images to be resized.\")\n",
    "\n",
    "    # 파일마다 모두 28x28 사이즈로 바꾸어 저장합니다.\n",
    "    target_size=(img_size,img_size)\n",
    "    for img in images:\n",
    "        old_img=Image.open(img)\n",
    "        new_img=old_img.resize(target_size,Image.ANTIALIAS)\n",
    "        new_img.save(img, \"JPEG\")\n",
    "    \n",
    "    print(len(images), \" images resized.\")"
   ]
  },
  {
   "cell_type": "code",
   "execution_count": 150,
   "id": "afaa132c",
   "metadata": {},
   "outputs": [],
   "source": [
    "train_image_dir_path = os.getenv(\"HOME\") + \"/aiffel/rock_scissor_paper\""
   ]
  },
  {
   "cell_type": "code",
   "execution_count": 151,
   "id": "ac16b4fe",
   "metadata": {},
   "outputs": [
    {
     "name": "stdout",
     "output_type": "stream",
     "text": [
      "100  images to be resized.\n",
      "100  images resized.\n",
      "가위 이미지 resize 완료!\n",
      "100  images to be resized.\n",
      "100  images resized.\n",
      "보 이미지 resize 완료!\n",
      "100  images to be resized.\n",
      "100  images resized.\n",
      "바위 이미지 resize 완료!\n"
     ]
    }
   ],
   "source": [
    "# 이미지 사이즈 변환 (변환은 한번만)\n",
    "\n",
    "resize_images(train_image_dir_path + '/scissor', img_size)\n",
    "print(\"가위 이미지 resize 완료!\")\n",
    "\n",
    "resize_images(train_image_dir_path + '/paper', img_size)\n",
    "print(\"보 이미지 resize 완료!\")\n",
    "\n",
    "resize_images(train_image_dir_path + '/rock', img_size)\n",
    "print(\"바위 이미지 resize 완료!\")"
   ]
  },
  {
   "cell_type": "markdown",
   "id": "d55d56b0",
   "metadata": {},
   "source": [
    "### 3. 데이터 수치화하기"
   ]
  },
  {
   "cell_type": "code",
   "execution_count": 152,
   "id": "d03a4fc8",
   "metadata": {},
   "outputs": [],
   "source": [
    "def load_data(img_path, img_size, number_of_data=300):\n",
    "    # 가위 : 0, 바위 : 1, 보: 2\n",
    "    \n",
    "    color=3\n",
    "    \n",
    "    # 이미지 데이터와 라벨(가위:0, 바위:1, 보:2) 데이터를 담을 행렬(matrix) 영역을 생성합니다.\n",
    "    # imgs = 데이터 갯수 * 이미지 크기 * 색상(RGB=3) -> 각 이미지의 [이미지크기*색상]으로 구성된 배열들의 집합\n",
    "    imgs = np.zeros(number_of_data * img_size * img_size * color, dtype=np.int32).reshape(number_of_data, img_size, img_size, color)\n",
    "    # labels = 데이터 갯수\n",
    "    labels=np.zeros(number_of_data, dtype=np.int32)\n",
    "    \n",
    "    idx=0\n",
    "    for file in glob.iglob(img_path + '/scissor/*.jpg'):\n",
    "        img = np.array(Image.open(file), dtype=np.int32)\n",
    "        imgs[idx,:,:,:] = img # 데이터 영역에 이미지 행렬을 복사\n",
    "        labels[idx] = 0 # 가위 : 0\n",
    "        idx = idx+1\n",
    "        \n",
    "    for file in glob.iglob(img_path + '/rock/*.jpg'):\n",
    "        img = np.array(Image.open(file), dtype=np.int32)\n",
    "        imgs[idx,:,:,:] = img # 데이터 영역에 이미지 행렬을 복사\n",
    "        labels[idx] = 1 # 바위 : 1\n",
    "        idx = idx+1\n",
    "    \n",
    "    for file in glob.iglob(img_path + '/paper/*.jpg'):\n",
    "        img = np.array(Image.open(file), dtype=np.int32)\n",
    "        imgs[idx,:,:,:] = img # 데이터 영역에 이미지 행렬을 복사\n",
    "        labels[idx] = 2 # 보 : 2\n",
    "        idx = idx+1\n",
    "        \n",
    "    print(\"학습데이터(x_train)의 이미지 개수는\", idx,\"입니다.\")\n",
    "    return imgs, labels"
   ]
  },
  {
   "cell_type": "code",
   "execution_count": 153,
   "id": "9ca2a656",
   "metadata": {},
   "outputs": [
    {
     "name": "stdout",
     "output_type": "stream",
     "text": [
      "학습데이터(x_train)의 이미지 개수는 300 입니다.\n",
      "x_train shape: (300, 50, 50, 3)\n",
      "y_train shape: (300,)\n"
     ]
    }
   ],
   "source": [
    "(x_train, y_train) = load_data(train_image_dir_path, img_size)\n",
    "x_train_norm = x_train / 255.0 # 정규화\n",
    "\n",
    "print(\"x_train shape: {}\".format(x_train.shape))\n",
    "print(\"y_train shape: {}\".format(y_train.shape))"
   ]
  },
  {
   "cell_type": "code",
   "execution_count": 154,
   "id": "f628ac1b",
   "metadata": {},
   "outputs": [
    {
     "name": "stdout",
     "output_type": "stream",
     "text": [
      "라벨: 0\n"
     ]
    },
    {
     "data": {
      "image/png": "[encoded data removed]",
      "text/plain": [
       "<Figure size 432x288 with 1 Axes>"
      ]
     },
     "metadata": {
      "needs_background": "light"
     },
     "output_type": "display_data"
    }
   ],
   "source": [
    "plt.imshow(x_train[0])\n",
    "print('라벨:', y_train[0])"
   ]
  },
  {
   "cell_type": "markdown",
   "id": "ec85fd6c",
   "metadata": {},
   "source": [
    "### 4. 딥러닝 네트워크 설계하기"
   ]
  },
  {
   "cell_type": "code",
   "execution_count": 155,
   "id": "00f5fddb",
   "metadata": {},
   "outputs": [
    {
     "name": "stdout",
     "output_type": "stream",
     "text": [
      "Model에 추가된 Layer 개수: 7\n",
      "Model: \"sequential_21\"\n",
      "_________________________________________________________________\n",
      "Layer (type)                 Output Shape              Param #   \n",
      "=================================================================\n",
      "conv2d_42 (Conv2D)           (None, 48, 48, 16)        448       \n",
      "_________________________________________________________________\n",
      "max_pooling2d_42 (MaxPooling (None, 24, 24, 16)        0         \n",
      "_________________________________________________________________\n",
      "conv2d_43 (Conv2D)           (None, 22, 22, 32)        4640      \n",
      "_________________________________________________________________\n",
      "max_pooling2d_43 (MaxPooling (None, 11, 11, 32)        0         \n",
      "_________________________________________________________________\n",
      "flatten_21 (Flatten)         (None, 3872)              0         \n",
      "_________________________________________________________________\n",
      "dense_42 (Dense)             (None, 32)                123936    \n",
      "_________________________________________________________________\n",
      "dense_43 (Dense)             (None, 3)                 99        \n",
      "=================================================================\n",
      "Total params: 129,123\n",
      "Trainable params: 129,123\n",
      "Non-trainable params: 0\n",
      "_________________________________________________________________\n"
     ]
    }
   ],
   "source": [
    "model = keras.models.Sequential()\n",
    "model.add(keras.layers.Conv2D(16, (3,3), activation='relu', input_shape=(img_size,img_size,3)))\n",
    "model.add(keras.layers.MaxPool2D(2,2))\n",
    "model.add(keras.layers.Conv2D(32, (3,3), activation='relu'))\n",
    "model.add(keras.layers.MaxPooling2D((2,2)))\n",
    "model.add(keras.layers.Flatten())\n",
    "model.add(keras.layers.Dense(32, activation='relu'))\n",
    "model.add(keras.layers.Dense(3, activation='softmax'))\n",
    "\n",
    "print(f'Model에 추가된 Layer 개수: {len(model.layers)}')\n",
    "\n",
    "model.summary()"
   ]
  },
  {
   "cell_type": "markdown",
   "id": "8e0b45ea",
   "metadata": {},
   "source": [
    "### 5. 딥러닝 네트워크 학습시키기"
   ]
  },
  {
   "cell_type": "code",
   "execution_count": 156,
   "id": "10dbc74c",
   "metadata": {},
   "outputs": [
    {
     "name": "stdout",
     "output_type": "stream",
     "text": [
      "x_train_norm shape: (300, 50, 50, 3)\n",
      "Epoch 1/10\n",
      "10/10 [==============================] - 0s 3ms/step - loss: 1.1061 - accuracy: 0.3167\n",
      "Epoch 2/10\n",
      "10/10 [==============================] - 0s 3ms/step - loss: 1.0618 - accuracy: 0.4667\n",
      "Epoch 3/10\n",
      "10/10 [==============================] - 0s 3ms/step - loss: 0.9951 - accuracy: 0.5900\n",
      "Epoch 4/10\n",
      "10/10 [==============================] - 0s 3ms/step - loss: 0.8474 - accuracy: 0.6767\n",
      "Epoch 5/10\n",
      "10/10 [==============================] - 0s 3ms/step - loss: 0.6748 - accuracy: 0.7500\n",
      "Epoch 6/10\n",
      "10/10 [==============================] - 0s 3ms/step - loss: 0.5339 - accuracy: 0.8233\n",
      "Epoch 7/10\n",
      "10/10 [==============================] - 0s 3ms/step - loss: 0.3562 - accuracy: 0.9167\n",
      "Epoch 8/10\n",
      "10/10 [==============================] - 0s 3ms/step - loss: 0.2191 - accuracy: 0.9400\n",
      "Epoch 9/10\n",
      "10/10 [==============================] - 0s 3ms/step - loss: 0.1447 - accuracy: 0.9767\n",
      "Epoch 10/10\n",
      "10/10 [==============================] - 0s 3ms/step - loss: 0.0850 - accuracy: 1.0000\n"
     ]
    },
    {
     "data": {
      "text/plain": [
       "<keras.callbacks.History at 0x7f435440b8e0>"
      ]
     },
     "execution_count": 156,
     "metadata": {},
     "output_type": "execute_result"
    }
   ],
   "source": [
    "print(\"x_train_norm shape: {}\".format(x_train_norm.shape))\n",
    "\n",
    "model.compile(optimizer='adam',\n",
    "             loss='sparse_categorical_crossentropy',\n",
    "             metrics=['accuracy'])\n",
    "\n",
    "model.fit(x_train_norm, y_train, epochs=10)"
   ]
  },
  {
   "cell_type": "markdown",
   "id": "4c1c9447",
   "metadata": {},
   "source": [
    "### 6. 테스트하기"
   ]
  },
  {
   "cell_type": "markdown",
   "id": "07d10798",
   "metadata": {},
   "source": [
    "##### 테스트 데이터 로드하기"
   ]
  },
  {
   "cell_type": "code",
   "execution_count": 157,
   "id": "cdc7204c",
   "metadata": {},
   "outputs": [],
   "source": [
    "test_image_dir_path = os.getenv(\"HOME\") + \"/aiffel/rock_scissor_paper/test2\""
   ]
  },
  {
   "cell_type": "code",
   "execution_count": 158,
   "id": "9bc68678",
   "metadata": {},
   "outputs": [
    {
     "name": "stdout",
     "output_type": "stream",
     "text": [
      "100  images to be resized.\n",
      "100  images resized.\n",
      "가위 이미지 resize 완료!\n",
      "100  images to be resized.\n",
      "100  images resized.\n",
      "보 이미지 resize 완료!\n",
      "100  images to be resized.\n",
      "100  images resized.\n",
      "바위 이미지 resize 완료!\n"
     ]
    }
   ],
   "source": [
    "# 이미지 사이즈 변환 (변환은 한번만)\n",
    "\n",
    "resize_images(test_image_dir_path + '/scissor', img_size)\n",
    "print(\"가위 이미지 resize 완료!\")\n",
    "\n",
    "resize_images(test_image_dir_path + '/paper', img_size)\n",
    "print(\"보 이미지 resize 완료!\")\n",
    "\n",
    "resize_images(test_image_dir_path + '/rock', img_size)\n",
    "print(\"바위 이미지 resize 완료!\")"
   ]
  },
  {
   "cell_type": "code",
   "execution_count": 159,
   "id": "04f99664",
   "metadata": {},
   "outputs": [
    {
     "name": "stdout",
     "output_type": "stream",
     "text": [
      "학습데이터(x_train)의 이미지 개수는 300 입니다.\n",
      "x_test shape: (300, 50, 50, 3)\n",
      "y_test shape: (300,)\n"
     ]
    }
   ],
   "source": [
    "(x_test, y_test) = load_data(test_image_dir_path, img_size)\n",
    "x_test_norm = x_test / 255 # 정규화 \n",
    "\n",
    "print(\"x_test shape: {}\".format(x_test.shape))\n",
    "print(\"y_test shape: {}\".format(y_test.shape))"
   ]
  },
  {
   "cell_type": "code",
   "execution_count": 160,
   "id": "5ea279a1",
   "metadata": {},
   "outputs": [
    {
     "name": "stdout",
     "output_type": "stream",
     "text": [
      "라벨: 0\n"
     ]
    },
    {
     "data": {
      "image/png": "[encoded data removed]",
      "text/plain": [
       "<Figure size 432x288 with 1 Axes>"
      ]
     },
     "metadata": {
      "needs_background": "light"
     },
     "output_type": "display_data"
    }
   ],
   "source": [
    "plt.imshow(x_test[0])\n",
    "print('라벨:', y_test[0])"
   ]
  },
  {
   "cell_type": "markdown",
   "id": "171b520d",
   "metadata": {},
   "source": [
    "##### test accuracy 측정"
   ]
  },
  {
   "cell_type": "code",
   "execution_count": 161,
   "id": "89a82c3a",
   "metadata": {},
   "outputs": [
    {
     "name": "stdout",
     "output_type": "stream",
     "text": [
      "10/10 - 0s - loss: 1.5688 - accuracy: 0.4500\n",
      "test_loss: 1.5687782764434814\n",
      "test_accuracy: 0.44999998807907104\n"
     ]
    }
   ],
   "source": [
    "# print(x_test_norm.shape)\n",
    "\n",
    "test_loss, test_accuracy = model.evaluate(x_test_norm, y_test, verbose=2)\n",
    "print(f'test_loss: {test_loss}')\n",
    "print(f'test_accuracy: {test_accuracy}')"
   ]
  },
  {
   "cell_type": "markdown",
   "id": "e868e42f",
   "metadata": {},
   "source": [
    "---"
   ]
  },
  {
   "cell_type": "markdown",
   "id": "b958f985",
   "metadata": {},
   "source": [
    "### 더 좋은 네트워크 만들어보기"
   ]
  },
  {
   "cell_type": "code",
   "execution_count": 145,
   "id": "c263e3b1",
   "metadata": {},
   "outputs": [
    {
     "name": "stdout",
     "output_type": "stream",
     "text": [
      "100  images to be resized.\n",
      "100  images resized.\n",
      "가위 이미지 resize 완료!\n",
      "100  images to be resized.\n",
      "100  images resized.\n",
      "보 이미지 resize 완료!\n",
      "100  images to be resized.\n",
      "100  images resized.\n",
      "바위 이미지 resize 완료!\n",
      "학습데이터(x_train)의 이미지 개수는 300 입니다.\n",
      "x shape: (300, 50, 50, 3)\n",
      "y shape: (300,)\n",
      "라벨: 0\n",
      "100  images to be resized.\n",
      "100  images resized.\n",
      "가위 이미지 resize 완료!\n",
      "100  images to be resized.\n",
      "100  images resized.\n",
      "보 이미지 resize 완료!\n",
      "100  images to be resized.\n",
      "100  images resized.\n",
      "바위 이미지 resize 완료!\n",
      "학습데이터(x_train)의 이미지 개수는 300 입니다.\n",
      "x shape: (300, 50, 50, 3)\n",
      "y shape: (300,)\n",
      "라벨: 0\n"
     ]
    },
    {
     "data": {
      "image/png": "[encoded data removed]",
      "text/plain": [
       "<Figure size 432x288 with 1 Axes>"
      ]
     },
     "metadata": {
      "needs_background": "light"
     },
     "output_type": "display_data"
    }
   ],
   "source": [
    "# 이미지 사이즈, 경로 변경 시 처리\n",
    "\n",
    "img_size = 50\n",
    "\n",
    "def imageProcess(image_dir_path):\n",
    "    resize_images(image_dir_path + '/scissor', img_size)\n",
    "    print(\"가위 이미지 resize 완료!\")\n",
    "\n",
    "    resize_images(image_dir_path + '/paper', img_size)\n",
    "    print(\"보 이미지 resize 완료!\")\n",
    "\n",
    "    resize_images(image_dir_path + '/rock', img_size)\n",
    "    print(\"바위 이미지 resize 완료!\")\n",
    "\n",
    "    (x, y) = load_data(image_dir_path, img_size)\n",
    "    x_norm = x / 255.0 # 정규화\n",
    "\n",
    "    print(\"x shape: {}\".format(x.shape))\n",
    "    print(\"y shape: {}\".format(y.shape))\n",
    "\n",
    "    plt.imshow(x[0])\n",
    "    print('라벨:', y[0])\n",
    "\n",
    "    return x, y, x_norm\n",
    "\n",
    "\n",
    "train_image_dir_path = os.getenv(\"HOME\") + \"/aiffel/rock_scissor_paper/jiho\"\n",
    "x_train, y_train, x_train_norm = imageProcess(train_image_dir_path)\n",
    "\n",
    "test_image_dir_path = os.getenv(\"HOME\") + \"/aiffel/rock_scissor_paper/hyeji\"\n",
    "x_test, y_test, x_test_norm = imageProcess(test_image_dir_path)"
   ]
  },
  {
   "cell_type": "code",
   "execution_count": 146,
   "id": "553d3275",
   "metadata": {},
   "outputs": [
    {
     "name": "stdout",
     "output_type": "stream",
     "text": [
      "Model에 추가된 Layer 개수: 7\n",
      "Model: \"sequential_20\"\n",
      "_________________________________________________________________\n",
      "Layer (type)                 Output Shape              Param #   \n",
      "=================================================================\n",
      "conv2d_40 (Conv2D)           (None, 48, 48, 16)        448       \n",
      "_________________________________________________________________\n",
      "max_pooling2d_40 (MaxPooling (None, 24, 24, 16)        0         \n",
      "_________________________________________________________________\n",
      "conv2d_41 (Conv2D)           (None, 22, 22, 32)        4640      \n",
      "_________________________________________________________________\n",
      "max_pooling2d_41 (MaxPooling (None, 11, 11, 32)        0         \n",
      "_________________________________________________________________\n",
      "flatten_20 (Flatten)         (None, 3872)              0         \n",
      "_________________________________________________________________\n",
      "dense_40 (Dense)             (None, 32)                123936    \n",
      "_________________________________________________________________\n",
      "dense_41 (Dense)             (None, 3)                 99        \n",
      "=================================================================\n",
      "Total params: 129,123\n",
      "Trainable params: 129,123\n",
      "Non-trainable params: 0\n",
      "_________________________________________________________________\n",
      "Epoch 1/20\n",
      "10/10 [==============================] - 0s 12ms/step - loss: 1.0840 - accuracy: 0.3400\n",
      "Epoch 2/20\n",
      "10/10 [==============================] - 0s 3ms/step - loss: 0.9062 - accuracy: 0.6100\n",
      "Epoch 3/20\n",
      "10/10 [==============================] - 0s 3ms/step - loss: 0.5880 - accuracy: 0.9567\n",
      "Epoch 4/20\n",
      "10/10 [==============================] - 0s 3ms/step - loss: 0.2443 - accuracy: 0.9967\n",
      "Epoch 5/20\n",
      "10/10 [==============================] - 0s 3ms/step - loss: 0.0773 - accuracy: 0.9967\n",
      "Epoch 6/20\n",
      "10/10 [==============================] - 0s 3ms/step - loss: 0.0216 - accuracy: 1.0000\n",
      "Epoch 7/20\n",
      "10/10 [==============================] - 0s 3ms/step - loss: 0.0109 - accuracy: 1.0000\n",
      "Epoch 8/20\n",
      "10/10 [==============================] - 0s 3ms/step - loss: 0.0049 - accuracy: 1.0000\n",
      "Epoch 9/20\n",
      "10/10 [==============================] - 0s 3ms/step - loss: 0.0038 - accuracy: 1.0000\n",
      "Epoch 10/20\n",
      "10/10 [==============================] - 0s 3ms/step - loss: 0.0025 - accuracy: 1.0000\n",
      "Epoch 11/20\n",
      "10/10 [==============================] - 0s 3ms/step - loss: 0.0020 - accuracy: 1.0000\n",
      "Epoch 12/20\n",
      "10/10 [==============================] - 0s 3ms/step - loss: 0.0017 - accuracy: 1.0000\n",
      "Epoch 13/20\n",
      "10/10 [==============================] - 0s 3ms/step - loss: 0.0014 - accuracy: 1.0000\n",
      "Epoch 14/20\n",
      "10/10 [==============================] - 0s 3ms/step - loss: 0.0013 - accuracy: 1.0000\n",
      "Epoch 15/20\n",
      "10/10 [==============================] - 0s 3ms/step - loss: 0.0011 - accuracy: 1.0000\n",
      "Epoch 16/20\n",
      "10/10 [==============================] - 0s 3ms/step - loss: 9.6541e-04 - accuracy: 1.0000\n",
      "Epoch 17/20\n",
      "10/10 [==============================] - 0s 3ms/step - loss: 8.3032e-04 - accuracy: 1.0000\n",
      "Epoch 18/20\n",
      "10/10 [==============================] - 0s 3ms/step - loss: 6.6063e-04 - accuracy: 1.0000\n",
      "Epoch 19/20\n",
      "10/10 [==============================] - 0s 3ms/step - loss: 5.9342e-04 - accuracy: 1.0000\n",
      "Epoch 20/20\n",
      "10/10 [==============================] - 0s 3ms/step - loss: 4.8196e-04 - accuracy: 1.0000\n",
      "10/10 - 0s - loss: 0.5695 - accuracy: 0.8000\n",
      "test_loss: 0.5694677233695984 \n",
      "test_accuracy: 0.800000011920929\n"
     ]
    }
   ],
   "source": [
    "# 학습\n",
    "\n",
    "n_channel_1=16\n",
    "n_channel_2=32\n",
    "n_dense=32\n",
    "n_train_epoch=20\n",
    "\n",
    "model = keras.models.Sequential()\n",
    "model.add(keras.layers.Conv2D(n_channel_1, (3,3), activation='relu', input_shape=(img_size,img_size,3)))\n",
    "model.add(keras.layers.MaxPool2D(2,2))\n",
    "model.add(keras.layers.Conv2D(n_channel_2, (3,3), activation='relu'))\n",
    "model.add(keras.layers.MaxPooling2D((2,2)))\n",
    "model.add(keras.layers.Flatten())\n",
    "model.add(keras.layers.Dense(n_dense, activation='relu'))\n",
    "model.add(keras.layers.Dense(3, activation='softmax'))\n",
    "\n",
    "print(f'Model에 추가된 Layer 개수: {len(model.layers)}')\n",
    "\n",
    "model.summary()\n",
    "model.compile(optimizer='adam',\n",
    "             loss='sparse_categorical_crossentropy',\n",
    "             metrics=['accuracy'])\n",
    "\n",
    "model.fit(x_train_norm, y_train, epochs=n_train_epoch)\n",
    "\n",
    "\n",
    "# 모델 시험\n",
    "test_loss, test_accuracy = model.evaluate(x_test_norm, y_test, verbose=2)\n",
    "print(\"test_loss: {} \".format(test_loss))\n",
    "print(\"test_accuracy: {}\".format(test_accuracy))"
   ]
  },
  {
   "cell_type": "markdown",
   "id": "ae12be59",
   "metadata": {},
   "source": [
    "---"
   ]
  },
  {
   "cell_type": "markdown",
   "id": "cab43455",
   "metadata": {},
   "source": [
    "# 회고\n",
    "\n",
    "### 1. 어려웠던 점\n",
    "```\n",
    "accuracy를 올리기 위해 이것저것 방법을 찾는것이 쉽지 않았는데요. \n",
    "hyper parameter를 얼마나 올려야 하나 그 지점을 찾는게 (망망대해 같아서) 쉽지 않았습니다.\n",
    "```\n",
    "\n",
    "### 2. 알아낸 점 혹은 아직 모호한 점\n",
    "* training과 test 이미지의 크기 & 퀄리티가 accuracy에 영향이 미친다는 점을 알았습니다.\n",
    "* 하이퍼 파라미터가 무작정 크기만 하다고 accuracy가 잘 나오지 않다는 걸 알았습니다.\n",
    "* 그래도 일정 적정 수준으로 늘리면 accuracy가 높아졌습니다.\n",
    "\n",
    "### 3. 시도한 것들\n",
    "##### a. 이미지 처리\n",
    "1. 이유\n",
    "    - 배경과 손이 구분이 잘 안되서\n",
    "    - 이미지 사이즈 변경 후 이미지가 많이 뭉개져서\n",
    "2. 처리방법\n",
    "    - 배경과 손 구분이 잘된 이미지로 변경하고\n",
    "    - 이미지 크기를 28x28 -> 50x50으로 변경했습니다.\n",
    "\n",
    "##### b. hyper parameter 변경\n",
    "1. 이유\n",
    "    - hyper parameter들을 적절히 변경하면서 더 좋은 accuracy를 찾고자 노력했습니다. \n",
    "2. 처리방법\n",
    "    - Conv2D와 Dense를 조절해도 크게 달라지는 부분을 찾을 수 없었지만\n",
    "    - 학습을 10회 -> 20회로 늘려 accuracy가 크게 증가할 수 있었습니다.\n",
    "\n",
    "### 4. 루브릭 지표를 달성하지 못한 부분과 이유 \n",
    "* 루브릭 지표 모두 달성했습니다.\n",
    "\n",
    "### 5. 자기 다짐\n",
    "```\n",
    "accuracy가 80 안팍으로 나와서... 더 높은 accuracy와 낮은 loss를 찾아내고 싶었습니다.\n",
    "사실 아직은 처리방법에 있어서 \"샘플데이터 보완, hyper parameter 변경\"에 그쳤는데요.\n",
    "현재는 공부했던 layers만 가지고 처리해서 그런 것은 아닐지 싶기도 하고...\n",
    "딥러닝에 다른 방법이 있지 않을까 하는 호기심도 들었어요.\n",
    "배운 \"accuracy를 높일 수 있는 여러 방법들\"을 잘 기억해두고, 나중에 더 나은 accuracy, loss를 도출해내자! 생각했습니다.\n",
    "```"
   ]
  },
  {
   "cell_type": "code",
   "execution_count": null,
   "id": "d33fe2bf",
   "metadata": {},
   "outputs": [],
   "source": []
  }
 ],
 "metadata": {
  "kernelspec": {
   "display_name": "Python 3 (ipykernel)",
   "language": "python",
   "name": "python3"
  },
  "language_info": {
   "codemirror_mode": {
    "name": "ipython",
    "version": 3
   },
   "file_extension": ".py",
   "mimetype": "text/x-python",
   "name": "python",
   "nbconvert_exporter": "python",
   "pygments_lexer": "ipython3",
   "version": "3.9.7"
  }
 },
 "nbformat": 4,
 "nbformat_minor": 5
}
